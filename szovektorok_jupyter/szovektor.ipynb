{
 "cells": [
  {
   "cell_type": "code",
   "execution_count": 1,
   "id": "c0b584a6-112a-42eb-aff7-f0692b5a457e",
   "metadata": {},
   "outputs": [],
   "source": [
    "# a whatlies csomag segít vizualízálni a vektortérben a szavakat\n",
    "#!pip install whatlies[spacy]\n",
    "#!pip install umap-learn==0.5.2\n",
    "#!pip install floret"
   ]
  },
  {
   "cell_type": "markdown",
   "id": "f5d05fac-fa7a-4c31-bebf-41850a0ce437",
   "metadata": {},
   "source": [
    "A medium és large spaCy modellek tartalmaznak szóvektorokat. ^1 Jelenleg még csak néhány nyelven érhető el floret modell, egyelőre a többi nyelven még Word2Vec vektor elérhető.\n",
    "\n",
    "Egyes esetekben előfordulhat, hogy egy-egy szóhoz nincs társított vektor az előre tanított modellben. Ezeket OOV (out-of-vocabulary), szótáron kívüli szavaknak nevezzük."
   ]
  },
  {
   "cell_type": "code",
   "execution_count": 2,
   "id": "b6d1096b-5d54-4046-9aad-e367cc5ea4cf",
   "metadata": {},
   "outputs": [],
   "source": [
    "import spacy"
   ]
  },
  {
   "cell_type": "code",
   "execution_count": 3,
   "id": "1409ed35-0050-490f-92fb-25ba287bee2d",
   "metadata": {},
   "outputs": [],
   "source": [
    "# magyas és angol modell letöltése\n",
    "#!python -m spacy download en_core_web_md\n",
    "#!pip install https://huggingface.co/huspacy/hu_core_news_lg/resolve/main/hu_core_news_lg-any-py3-none-any.w#"
   ]
  },
  {
   "cell_type": "markdown",
   "id": "3eac006b-445a-4340-a9cc-89d9e6d5217e",
   "metadata": {},
   "source": [
    "Nézzük meg a különböző szavakat hogyan rendezi el a vektortérben ez a módszer. Az adatvizualizációhoz a whatlies csomagot fogjuk használni."
   ]
  },
  {
   "cell_type": "code",
   "execution_count": 4,
   "id": "b6b80e6d-698f-41a9-9591-9ee5e766e3b0",
   "metadata": {},
   "outputs": [
    {
     "data": {
      "text/html": [
       "\n",
       "<div id=\"altair-viz-0407527c35a044e2bd426b1723834ae9\"></div>\n",
       "<script type=\"text/javascript\">\n",
       "  var VEGA_DEBUG = (typeof VEGA_DEBUG == \"undefined\") ? {} : VEGA_DEBUG;\n",
       "  (function(spec, embedOpt){\n",
       "    let outputDiv = document.currentScript.previousElementSibling;\n",
       "    if (outputDiv.id !== \"altair-viz-0407527c35a044e2bd426b1723834ae9\") {\n",
       "      outputDiv = document.getElementById(\"altair-viz-0407527c35a044e2bd426b1723834ae9\");\n",
       "    }\n",
       "    const paths = {\n",
       "      \"vega\": \"https://cdn.jsdelivr.net/npm//vega@5?noext\",\n",
       "      \"vega-lib\": \"https://cdn.jsdelivr.net/npm//vega-lib?noext\",\n",
       "      \"vega-lite\": \"https://cdn.jsdelivr.net/npm//vega-lite@4.17.0?noext\",\n",
       "      \"vega-embed\": \"https://cdn.jsdelivr.net/npm//vega-embed@6?noext\",\n",
       "    };\n",
       "\n",
       "    function maybeLoadScript(lib, version) {\n",
       "      var key = `${lib.replace(\"-\", \"\")}_version`;\n",
       "      return (VEGA_DEBUG[key] == version) ?\n",
       "        Promise.resolve(paths[lib]) :\n",
       "        new Promise(function(resolve, reject) {\n",
       "          var s = document.createElement('script');\n",
       "          document.getElementsByTagName(\"head\")[0].appendChild(s);\n",
       "          s.async = true;\n",
       "          s.onload = () => {\n",
       "            VEGA_DEBUG[key] = version;\n",
       "            return resolve(paths[lib]);\n",
       "          };\n",
       "          s.onerror = () => reject(`Error loading script: ${paths[lib]}`);\n",
       "          s.src = paths[lib];\n",
       "        });\n",
       "    }\n",
       "\n",
       "    function showError(err) {\n",
       "      outputDiv.innerHTML = `<div class=\"error\" style=\"color:red;\">${err}</div>`;\n",
       "      throw err;\n",
       "    }\n",
       "\n",
       "    function displayChart(vegaEmbed) {\n",
       "      vegaEmbed(outputDiv, spec, embedOpt)\n",
       "        .catch(err => showError(`Javascript Error: ${err.message}<br>This usually means there's a typo in your chart specification. See the javascript console for the full traceback.`));\n",
       "    }\n",
       "\n",
       "    if(typeof define === \"function\" && define.amd) {\n",
       "      requirejs.config({paths});\n",
       "      require([\"vega-embed\"], displayChart, err => showError(`Error loading script: ${err.message}`));\n",
       "    } else {\n",
       "      maybeLoadScript(\"vega\", \"5\")\n",
       "        .then(() => maybeLoadScript(\"vega-lite\", \"4.17.0\"))\n",
       "        .then(() => maybeLoadScript(\"vega-embed\", \"6\"))\n",
       "        .catch(showError)\n",
       "        .then(() => displayChart(vegaEmbed));\n",
       "    }\n",
       "  })({\"config\": {\"view\": {\"continuousWidth\": 400, \"continuousHeight\": 300}}, \"layer\": [{\"mark\": {\"type\": \"circle\", \"size\": 60}, \"encoding\": {\"color\": {\"field\": \"\", \"legend\": null, \"type\": \"nominal\"}, \"tooltip\": [{\"field\": \"name\", \"type\": \"nominal\"}, {\"field\": \"original\", \"type\": \"nominal\"}], \"x\": {\"axis\": {\"title\": \"man\"}, \"field\": \"x_axis\", \"type\": \"quantitative\"}, \"y\": {\"axis\": {\"title\": \"woman\"}, \"field\": \"y_axis\", \"type\": \"quantitative\"}}, \"selection\": {\"selector001\": {\"type\": \"interval\", \"bind\": \"scales\", \"encodings\": [\"x\", \"y\"]}}, \"title\": \"man vs. woman\"}, {\"mark\": {\"type\": \"text\", \"color\": \"black\", \"dx\": -15, \"dy\": 3}, \"encoding\": {\"text\": {\"field\": \"original\", \"type\": \"nominal\"}, \"x\": {\"field\": \"x_axis\", \"type\": \"quantitative\"}, \"y\": {\"field\": \"y_axis\", \"type\": \"quantitative\"}}}], \"data\": {\"name\": \"data-b65571c9b3805821c7a8bd1e45b36f1e\"}, \"$schema\": \"https://vega.github.io/schema/vega-lite/v4.17.0.json\", \"datasets\": {\"data-b65571c9b3805821c7a8bd1e45b36f1e\": [{\"x_axis\": 0.19574901461601257, \"y_axis\": 0.20261737704277039, \"name\": \"cat\", \"original\": \"cat\"}, {\"x_axis\": 0.19574901461601257, \"y_axis\": 0.20261737704277039, \"name\": \"dog\", \"original\": \"dog\"}, {\"x_axis\": 0.1565610021352768, \"y_axis\": 0.0996280163526535, \"name\": \"fish\", \"original\": \"fish\"}, {\"x_axis\": 0.19574901461601257, \"y_axis\": 0.20261737704277039, \"name\": \"kitten\", \"original\": \"kitten\"}, {\"x_axis\": 1.0, \"y_axis\": 0.13725362718105316, \"name\": \"man\", \"original\": \"man\"}, {\"x_axis\": 0.17753806710243225, \"y_axis\": 1.0, \"name\": \"woman\", \"original\": \"woman\"}, {\"x_axis\": 0.35372602939605713, \"y_axis\": 0.18624071776866913, \"name\": \"king\", \"original\": \"king\"}, {\"x_axis\": 0.28365299105644226, \"y_axis\": 0.5339368581771851, \"name\": \"queen\", \"original\": \"queen\"}, {\"x_axis\": 0.15586091578006744, \"y_axis\": 0.15884214639663696, \"name\": \"doctor\", \"original\": \"doctor\"}, {\"x_axis\": 0.13608773052692413, \"y_axis\": 0.7839821577072144, \"name\": \"nurse\", \"original\": \"nurse\"}]}}, {\"mode\": \"vega-lite\"});\n",
       "</script>"
      ],
      "text/plain": [
       "alt.LayerChart(...)"
      ]
     },
     "execution_count": 4,
     "metadata": {},
     "output_type": "execute_result"
    }
   ],
   "source": [
    "from whatlies import EmbeddingSet\n",
    "from whatlies.language import SpacyLanguage\n",
    "from whatlies.transformers import Pca, Umap, Tsne\n",
    "\n",
    "lang = SpacyLanguage(\"en_core_web_md\")\n",
    "words = [\"cat\", \"dog\", \"fish\", \"kitten\", \"man\", \"woman\",\n",
    "         \"king\", \"queen\", \"doctor\", \"nurse\"]\n",
    "\n",
    "emb = EmbeddingSet(*[lang[w] for w in words])\n",
    "emb.plot_interactive(x_axis=emb[\"man\"], y_axis=emb[\"woman\"])"
   ]
  },
  {
   "cell_type": "code",
   "execution_count": 5,
   "id": "403379be-554f-4024-8a50-2c72d20c49cb",
   "metadata": {},
   "outputs": [],
   "source": [
    "lang_en = SpacyLanguage(\"en_core_web_md\")"
   ]
  },
  {
   "cell_type": "code",
   "execution_count": 6,
   "id": "49c297eb-734b-4d63-9e13-62350a1f53ca",
   "metadata": {},
   "outputs": [],
   "source": [
    "words_en = [\"oak\", \"bloodshed\", \"railcar\", \"representative\", \"pass\", \"soldier\", \"butterfly\", \n",
    "            \"noble\", \"seminar\", \"interference\", \"plastic\", \"offspring\", \"open\", \"chew\", \n",
    "            \"seek\", \"failure\", \"qualification\", \"access\", \"tolerant\", \"feeling\", \n",
    "            \"trust\", \"fox\", \"quiet\", \"hover\", \"book\", \"widen\", \n",
    "            \"thrust\", \"denial\", \"stay\", \"fitness\"]"
   ]
  },
  {
   "cell_type": "code",
   "execution_count": 7,
   "id": "1a6c1384-1821-4775-b109-7d842fe5babb",
   "metadata": {},
   "outputs": [
    {
     "name": "stderr",
     "output_type": "stream",
     "text": [
      "D:\\Users\\t05cf\\anaconda3\\lib\\site-packages\\sklearn\\manifold\\_t_sne.py:780: FutureWarning: The default initialization in TSNE will change from 'random' to 'pca' in 1.2.\n",
      "  warnings.warn(\n",
      "D:\\Users\\t05cf\\anaconda3\\lib\\site-packages\\sklearn\\manifold\\_t_sne.py:790: FutureWarning: The default learning rate in TSNE will change from 200.0 to 'auto' in 1.2.\n",
      "  warnings.warn(\n",
      "D:\\Users\\t05cf\\anaconda3\\lib\\site-packages\\sklearn\\manifold\\_t_sne.py:780: FutureWarning: The default initialization in TSNE will change from 'random' to 'pca' in 1.2.\n",
      "  warnings.warn(\n",
      "D:\\Users\\t05cf\\anaconda3\\lib\\site-packages\\sklearn\\manifold\\_t_sne.py:790: FutureWarning: The default learning rate in TSNE will change from 200.0 to 'auto' in 1.2.\n",
      "  warnings.warn(\n"
     ]
    }
   ],
   "source": [
    "emb_en = lang_en[words_en]\n",
    "pca_en = emb_en.transform(Pca(2)).plot_interactive(title=\"English: PCA\")\n",
    "tsne_en = emb_en.transform(Tsne(n_components=2, random_state=0, n_iter=10000, perplexity=2)).plot_interactive(title=\"English: t-SNE\")\n",
    "umap_en = emb_en.transform(Umap(2)).plot_interactive(title=\"English: UMAP\")"
   ]
  },
  {
   "cell_type": "markdown",
   "id": "548c638a-b6eb-4d7c-9317-575ba2d5fcb7",
   "metadata": {},
   "source": [
    "3 dimenzióredukáló algoritmus outputját nézzük meg.\n",
    "\n",
    "PCA: Principal Component Analysis\n",
    "t-SNE: t-distributed Stochastic Neighbour Embedding\n",
    "UMAP: Uniform Manifold Approximation and Projection\n",
    "Bővebben: Dimensionality Reduction for Data Visualization: PCA vs TSNE vs UMAP vs LDA"
   ]
  },
  {
   "cell_type": "code",
   "execution_count": 8,
   "id": "1549f72e-646f-499e-94fd-ae4eabbb8069",
   "metadata": {},
   "outputs": [
    {
     "data": {
      "text/html": [
       "\n",
       "<div id=\"altair-viz-1a45fd6ba8ec43f1af119c0c340e050c\"></div>\n",
       "<script type=\"text/javascript\">\n",
       "  var VEGA_DEBUG = (typeof VEGA_DEBUG == \"undefined\") ? {} : VEGA_DEBUG;\n",
       "  (function(spec, embedOpt){\n",
       "    let outputDiv = document.currentScript.previousElementSibling;\n",
       "    if (outputDiv.id !== \"altair-viz-1a45fd6ba8ec43f1af119c0c340e050c\") {\n",
       "      outputDiv = document.getElementById(\"altair-viz-1a45fd6ba8ec43f1af119c0c340e050c\");\n",
       "    }\n",
       "    const paths = {\n",
       "      \"vega\": \"https://cdn.jsdelivr.net/npm//vega@5?noext\",\n",
       "      \"vega-lib\": \"https://cdn.jsdelivr.net/npm//vega-lib?noext\",\n",
       "      \"vega-lite\": \"https://cdn.jsdelivr.net/npm//vega-lite@4.17.0?noext\",\n",
       "      \"vega-embed\": \"https://cdn.jsdelivr.net/npm//vega-embed@6?noext\",\n",
       "    };\n",
       "\n",
       "    function maybeLoadScript(lib, version) {\n",
       "      var key = `${lib.replace(\"-\", \"\")}_version`;\n",
       "      return (VEGA_DEBUG[key] == version) ?\n",
       "        Promise.resolve(paths[lib]) :\n",
       "        new Promise(function(resolve, reject) {\n",
       "          var s = document.createElement('script');\n",
       "          document.getElementsByTagName(\"head\")[0].appendChild(s);\n",
       "          s.async = true;\n",
       "          s.onload = () => {\n",
       "            VEGA_DEBUG[key] = version;\n",
       "            return resolve(paths[lib]);\n",
       "          };\n",
       "          s.onerror = () => reject(`Error loading script: ${paths[lib]}`);\n",
       "          s.src = paths[lib];\n",
       "        });\n",
       "    }\n",
       "\n",
       "    function showError(err) {\n",
       "      outputDiv.innerHTML = `<div class=\"error\" style=\"color:red;\">${err}</div>`;\n",
       "      throw err;\n",
       "    }\n",
       "\n",
       "    function displayChart(vegaEmbed) {\n",
       "      vegaEmbed(outputDiv, spec, embedOpt)\n",
       "        .catch(err => showError(`Javascript Error: ${err.message}<br>This usually means there's a typo in your chart specification. See the javascript console for the full traceback.`));\n",
       "    }\n",
       "\n",
       "    if(typeof define === \"function\" && define.amd) {\n",
       "      requirejs.config({paths});\n",
       "      require([\"vega-embed\"], displayChart, err => showError(`Error loading script: ${err.message}`));\n",
       "    } else {\n",
       "      maybeLoadScript(\"vega\", \"5\")\n",
       "        .then(() => maybeLoadScript(\"vega-lite\", \"4.17.0\"))\n",
       "        .then(() => maybeLoadScript(\"vega-embed\", \"6\"))\n",
       "        .catch(showError)\n",
       "        .then(() => displayChart(vegaEmbed));\n",
       "    }\n",
       "  })({\"config\": {\"view\": {\"continuousWidth\": 400, \"continuousHeight\": 300}}, \"hconcat\": [{\"layer\": [{\"mark\": {\"type\": \"circle\", \"size\": 60}, \"encoding\": {\"color\": {\"field\": \"\", \"legend\": null, \"type\": \"nominal\"}, \"tooltip\": [{\"field\": \"name\", \"type\": \"nominal\"}, {\"field\": \"original\", \"type\": \"nominal\"}], \"x\": {\"axis\": {\"title\": \"Dimension 0\"}, \"field\": \"x_axis\", \"type\": \"quantitative\"}, \"y\": {\"axis\": {\"title\": \"Dimension 1\"}, \"field\": \"y_axis\", \"type\": \"quantitative\"}}, \"selection\": {\"selector002\": {\"type\": \"interval\", \"bind\": \"scales\", \"encodings\": [\"x\", \"y\"]}}, \"title\": \"English: PCA\"}, {\"mark\": {\"type\": \"text\", \"color\": \"black\", \"dx\": -15, \"dy\": 3}, \"encoding\": {\"text\": {\"field\": \"original\", \"type\": \"nominal\"}, \"x\": {\"field\": \"x_axis\", \"type\": \"quantitative\"}, \"y\": {\"field\": \"y_axis\", \"type\": \"quantitative\"}}}], \"data\": {\"name\": \"data-750d7796b9984d9d6fa4afac245caa6f\"}}, {\"layer\": [{\"mark\": {\"type\": \"circle\", \"size\": 60}, \"encoding\": {\"color\": {\"field\": \"\", \"legend\": null, \"type\": \"nominal\"}, \"tooltip\": [{\"field\": \"name\", \"type\": \"nominal\"}, {\"field\": \"original\", \"type\": \"nominal\"}], \"x\": {\"axis\": {\"title\": \"Dimension 0\"}, \"field\": \"x_axis\", \"type\": \"quantitative\"}, \"y\": {\"axis\": {\"title\": \"Dimension 1\"}, \"field\": \"y_axis\", \"type\": \"quantitative\"}}, \"selection\": {\"selector003\": {\"type\": \"interval\", \"bind\": \"scales\", \"encodings\": [\"x\", \"y\"]}}, \"title\": \"English: t-SNE\"}, {\"mark\": {\"type\": \"text\", \"color\": \"black\", \"dx\": -15, \"dy\": 3}, \"encoding\": {\"text\": {\"field\": \"original\", \"type\": \"nominal\"}, \"x\": {\"field\": \"x_axis\", \"type\": \"quantitative\"}, \"y\": {\"field\": \"y_axis\", \"type\": \"quantitative\"}}}], \"data\": {\"name\": \"data-356f4ee92a3c6c0646fd6aaa575e82cc\"}}, {\"layer\": [{\"mark\": {\"type\": \"circle\", \"size\": 60}, \"encoding\": {\"color\": {\"field\": \"\", \"legend\": null, \"type\": \"nominal\"}, \"tooltip\": [{\"field\": \"name\", \"type\": \"nominal\"}, {\"field\": \"original\", \"type\": \"nominal\"}], \"x\": {\"axis\": {\"title\": \"Dimension 0\"}, \"field\": \"x_axis\", \"type\": \"quantitative\"}, \"y\": {\"axis\": {\"title\": \"Dimension 1\"}, \"field\": \"y_axis\", \"type\": \"quantitative\"}}, \"selection\": {\"selector004\": {\"type\": \"interval\", \"bind\": \"scales\", \"encodings\": [\"x\", \"y\"]}}, \"title\": \"English: UMAP\"}, {\"mark\": {\"type\": \"text\", \"color\": \"black\", \"dx\": -15, \"dy\": 3}, \"encoding\": {\"text\": {\"field\": \"original\", \"type\": \"nominal\"}, \"x\": {\"field\": \"x_axis\", \"type\": \"quantitative\"}, \"y\": {\"field\": \"y_axis\", \"type\": \"quantitative\"}}}], \"data\": {\"name\": \"data-601eb910e6814a1cd8b9320a5ccd638c\"}}], \"$schema\": \"https://vega.github.io/schema/vega-lite/v4.17.0.json\", \"datasets\": {\"data-750d7796b9984d9d6fa4afac245caa6f\": [{\"x_axis\": 3.1432430744171143, \"y_axis\": -0.880620002746582, \"name\": \"oak\", \"original\": \"oak\"}, {\"x_axis\": -2.4784302711486816, \"y_axis\": -2.1459407806396484, \"name\": \"bloodshed\", \"original\": \"bloodshed\"}, {\"x_axis\": 7.592360973358154, \"y_axis\": -0.7087143659591675, \"name\": \"railcar\", \"original\": \"railcar\"}, {\"x_axis\": -1.5917582511901855, \"y_axis\": 0.41393932700157166, \"name\": \"representative\", \"original\": \"representative\"}, {\"x_axis\": -0.9780097007751465, \"y_axis\": 2.2039787769317627, \"name\": \"pass\", \"original\": \"pass\"}, {\"x_axis\": -1.6728103160858154, \"y_axis\": -2.7940633296966553, \"name\": \"soldier\", \"original\": \"soldier\"}, {\"x_axis\": 1.927437424659729, \"y_axis\": -1.5907435417175293, \"name\": \"butterfly\", \"original\": \"butterfly\"}, {\"x_axis\": -0.734836995601654, \"y_axis\": -2.8713645935058594, \"name\": \"noble\", \"original\": \"noble\"}, {\"x_axis\": -1.1680303812026978, \"y_axis\": 1.9532055854797363, \"name\": \"seminar\", \"original\": \"seminar\"}, {\"x_axis\": -0.3759046196937561, \"y_axis\": 1.0045158863067627, \"name\": \"interference\", \"original\": \"interference\"}, {\"x_axis\": 5.086126804351807, \"y_axis\": 1.2883211374282837, \"name\": \"plastic\", \"original\": \"plastic\"}, {\"x_axis\": 0.378908634185791, \"y_axis\": 0.5203866958618164, \"name\": \"offspring\", \"original\": \"offspring\"}, {\"x_axis\": -0.7504201531410217, \"y_axis\": -0.16299226880073547, \"name\": \"open\", \"original\": \"open\"}, {\"x_axis\": 1.114861011505127, \"y_axis\": -0.5168424844741821, \"name\": \"chew\", \"original\": \"chew\"}, {\"x_axis\": -1.3493807315826416, \"y_axis\": -0.4398500621318817, \"name\": \"seek\", \"original\": \"seek\"}, {\"x_axis\": -1.8142131567001343, \"y_axis\": 1.5497204065322876, \"name\": \"failure\", \"original\": \"failure\"}, {\"x_axis\": -0.23317323625087738, \"y_axis\": 2.2011430263519287, \"name\": \"qualification\", \"original\": \"qualification\"}, {\"x_axis\": 0.6244921088218689, \"y_axis\": 3.433973550796509, \"name\": \"access\", \"original\": \"access\"}, {\"x_axis\": 0.28193458914756775, \"y_axis\": -1.118015170097351, \"name\": \"tolerant\", \"original\": \"tolerant\"}, {\"x_axis\": -1.492377519607544, \"y_axis\": -1.6452438831329346, \"name\": \"feeling\", \"original\": \"feeling\"}, {\"x_axis\": -1.1132105588912964, \"y_axis\": 0.2762373983860016, \"name\": \"trust\", \"original\": \"trust\"}, {\"x_axis\": 0.34707555174827576, \"y_axis\": 0.12470480054616928, \"name\": \"fox\", \"original\": \"fox\"}, {\"x_axis\": -0.715208888053894, \"y_axis\": -1.768372893333435, \"name\": \"quiet\", \"original\": \"quiet\"}, {\"x_axis\": -0.2546076476573944, \"y_axis\": -0.14431610703468323, \"name\": \"hover\", \"original\": \"hover\"}, {\"x_axis\": -0.26006531715393066, \"y_axis\": 2.80444073677063, \"name\": \"book\", \"original\": \"book\"}, {\"x_axis\": 0.027403397485613823, \"y_axis\": -0.949521005153656, \"name\": \"widen\", \"original\": \"widen\"}, {\"x_axis\": 0.5636343955993652, \"y_axis\": -2.0124740600585938, \"name\": \"thrust\", \"original\": \"thrust\"}, {\"x_axis\": -1.3205115795135498, \"y_axis\": -0.5274125933647156, \"name\": \"denial\", \"original\": \"denial\"}, {\"x_axis\": -1.5065885782241821, \"y_axis\": -0.3931713104248047, \"name\": \"stay\", \"original\": \"stay\"}, {\"x_axis\": -1.2779461145401, \"y_axis\": 2.8950932025909424, \"name\": \"fitness\", \"original\": \"fitness\"}], \"data-356f4ee92a3c6c0646fd6aaa575e82cc\": [{\"x_axis\": 126.5279312133789, \"y_axis\": -483.5323791503906, \"name\": \"oak\", \"original\": \"oak\"}, {\"x_axis\": 142.0110626220703, \"y_axis\": 83.07380676269531, \"name\": \"bloodshed\", \"original\": \"bloodshed\"}, {\"x_axis\": -260.12384033203125, \"y_axis\": -404.1734619140625, \"name\": \"railcar\", \"original\": \"railcar\"}, {\"x_axis\": 29.084054946899414, \"y_axis\": 593.0089721679688, \"name\": \"representative\", \"original\": \"representative\"}, {\"x_axis\": -213.27093505859375, \"y_axis\": -19.19515609741211, \"name\": \"pass\", \"original\": \"pass\"}, {\"x_axis\": -22.075931549072266, \"y_axis\": -161.1886749267578, \"name\": \"soldier\", \"original\": \"soldier\"}, {\"x_axis\": 112.59567260742188, \"y_axis\": 285.4290771484375, \"name\": \"butterfly\", \"original\": \"butterfly\"}, {\"x_axis\": 140.2274169921875, \"y_axis\": -40.470947265625, \"name\": \"noble\", \"original\": \"noble\"}, {\"x_axis\": -17.40005874633789, \"y_axis\": 661.8775634765625, \"name\": \"seminar\", \"original\": \"seminar\"}, {\"x_axis\": -266.0927429199219, \"y_axis\": -241.45945739746094, \"name\": \"interference\", \"original\": \"interference\"}, {\"x_axis\": -263.70355224609375, \"y_axis\": -326.8162536621094, \"name\": \"plastic\", \"original\": \"plastic\"}, {\"x_axis\": -51.121490478515625, \"y_axis\": 229.95494079589844, \"name\": \"offspring\", \"original\": \"offspring\"}, {\"x_axis\": 31.373737335205078, \"y_axis\": 214.3279571533203, \"name\": \"open\", \"original\": \"open\"}, {\"x_axis\": 97.94729614257812, \"y_axis\": -411.99072265625, \"name\": \"chew\", \"original\": \"chew\"}, {\"x_axis\": 345.26922607421875, \"y_axis\": 211.2013397216797, \"name\": \"seek\", \"original\": \"seek\"}, {\"x_axis\": -68.24440002441406, \"y_axis\": -27.159793853759766, \"name\": \"failure\", \"original\": \"failure\"}, {\"x_axis\": -295.7485656738281, \"y_axis\": -19.62221908569336, \"name\": \"qualification\", \"original\": \"qualification\"}, {\"x_axis\": -325.6299133300781, \"y_axis\": -180.55459594726562, \"name\": \"access\", \"original\": \"access\"}, {\"x_axis\": 269.55865478515625, \"y_axis\": 309.6638488769531, \"name\": \"tolerant\", \"original\": \"tolerant\"}, {\"x_axis\": 46.395137786865234, \"y_axis\": -107.91889953613281, \"name\": \"feeling\", \"original\": \"feeling\"}, {\"x_axis\": -208.22052001953125, \"y_axis\": 59.43758010864258, \"name\": \"trust\", \"original\": \"trust\"}, {\"x_axis\": 28.681577682495117, \"y_axis\": 32.82179260253906, \"name\": \"fox\", \"original\": \"fox\"}, {\"x_axis\": 326.1895446777344, \"y_axis\": 264.3226623535156, \"name\": \"quiet\", \"original\": \"quiet\"}, {\"x_axis\": 292.8313293457031, \"y_axis\": 3.5952343940734863, \"name\": \"hover\", \"original\": \"hover\"}, {\"x_axis\": -60.432518005371094, \"y_axis\": 725.8876342773438, \"name\": \"book\", \"original\": \"book\"}, {\"x_axis\": 92.21446990966797, \"y_axis\": -175.31814575195312, \"name\": \"widen\", \"original\": \"widen\"}, {\"x_axis\": 72.89207458496094, \"y_axis\": -345.3785400390625, \"name\": \"thrust\", \"original\": \"thrust\"}, {\"x_axis\": 56.61017608642578, \"y_axis\": 549.2593383789062, \"name\": \"denial\", \"original\": \"denial\"}, {\"x_axis\": 50.19671630859375, \"y_axis\": -44.956199645996094, \"name\": \"stay\", \"original\": \"stay\"}, {\"x_axis\": 250.62648010253906, \"y_axis\": -172.38111877441406, \"name\": \"fitness\", \"original\": \"fitness\"}], \"data-601eb910e6814a1cd8b9320a5ccd638c\": [{\"x_axis\": 2.4253289699554443, \"y_axis\": 5.127999782562256, \"name\": \"oak\", \"original\": \"oak\"}, {\"x_axis\": 1.3008310794830322, \"y_axis\": 5.99205207824707, \"name\": \"bloodshed\", \"original\": \"bloodshed\"}, {\"x_axis\": 2.164477586746216, \"y_axis\": 7.609755992889404, \"name\": \"railcar\", \"original\": \"railcar\"}, {\"x_axis\": 0.8072531819343567, \"y_axis\": 6.25377893447876, \"name\": \"representative\", \"original\": \"representative\"}, {\"x_axis\": -0.3480880856513977, \"y_axis\": 6.772823333740234, \"name\": \"pass\", \"original\": \"pass\"}, {\"x_axis\": 1.3486372232437134, \"y_axis\": 6.456183433532715, \"name\": \"soldier\", \"original\": \"soldier\"}, {\"x_axis\": 2.8463826179504395, \"y_axis\": 4.961564064025879, \"name\": \"butterfly\", \"original\": \"butterfly\"}, {\"x_axis\": 2.394758701324463, \"y_axis\": 6.063836097717285, \"name\": \"noble\", \"original\": \"noble\"}, {\"x_axis\": 0.3366486728191376, \"y_axis\": 5.912800312042236, \"name\": \"seminar\", \"original\": \"seminar\"}, {\"x_axis\": 0.659600019454956, \"y_axis\": 7.57656192779541, \"name\": \"interference\", \"original\": \"interference\"}, {\"x_axis\": 1.5922576189041138, \"y_axis\": 7.754709720611572, \"name\": \"plastic\", \"original\": \"plastic\"}, {\"x_axis\": 1.2562092542648315, \"y_axis\": 4.920738697052002, \"name\": \"offspring\", \"original\": \"offspring\"}, {\"x_axis\": 1.460993766784668, \"y_axis\": 5.277661323547363, \"name\": \"open\", \"original\": \"open\"}, {\"x_axis\": 2.908942699432373, \"y_axis\": 6.781885623931885, \"name\": \"chew\", \"original\": \"chew\"}, {\"x_axis\": 2.2914061546325684, \"y_axis\": 6.536832332611084, \"name\": \"seek\", \"original\": \"seek\"}, {\"x_axis\": 0.5393739938735962, \"y_axis\": 6.914337635040283, \"name\": \"failure\", \"original\": \"failure\"}, {\"x_axis\": -0.23880185186862946, \"y_axis\": 5.636885166168213, \"name\": \"qualification\", \"original\": \"qualification\"}, {\"x_axis\": 0.042657144367694855, \"y_axis\": 7.247512340545654, \"name\": \"access\", \"original\": \"access\"}, {\"x_axis\": 3.081296682357788, \"y_axis\": 5.488719940185547, \"name\": \"tolerant\", \"original\": \"tolerant\"}, {\"x_axis\": 2.0095572471618652, \"y_axis\": 6.947848796844482, \"name\": \"feeling\", \"original\": \"feeling\"}, {\"x_axis\": -0.16557656228542328, \"y_axis\": 6.229246616363525, \"name\": \"trust\", \"original\": \"trust\"}, {\"x_axis\": 1.7084795236587524, \"y_axis\": 6.634411811828613, \"name\": \"fox\", \"original\": \"fox\"}, {\"x_axis\": 3.0675010681152344, \"y_axis\": 6.160774230957031, \"name\": \"quiet\", \"original\": \"quiet\"}, {\"x_axis\": 2.2794628143310547, \"y_axis\": 5.736659049987793, \"name\": \"hover\", \"original\": \"hover\"}, {\"x_axis\": 0.48467445373535156, \"y_axis\": 5.572265148162842, \"name\": \"book\", \"original\": \"book\"}, {\"x_axis\": 1.574562907218933, \"y_axis\": 7.303720951080322, \"name\": \"widen\", \"original\": \"widen\"}, {\"x_axis\": 2.537635087966919, \"y_axis\": 7.1263861656188965, \"name\": \"thrust\", \"original\": \"thrust\"}, {\"x_axis\": 1.7259219884872437, \"y_axis\": 6.010951042175293, \"name\": \"denial\", \"original\": \"denial\"}, {\"x_axis\": 1.0960801839828491, \"y_axis\": 6.864538192749023, \"name\": \"stay\", \"original\": \"stay\"}, {\"x_axis\": 0.37933996319770813, \"y_axis\": 6.6210832595825195, \"name\": \"fitness\", \"original\": \"fitness\"}]}}, {\"mode\": \"vega-lite\"});\n",
       "</script>"
      ],
      "text/plain": [
       "alt.HConcatChart(...)"
      ]
     },
     "execution_count": 8,
     "metadata": {},
     "output_type": "execute_result"
    }
   ],
   "source": [
    "pca_en | tsne_en | umap_en"
   ]
  },
  {
   "cell_type": "markdown",
   "id": "5050a4c9-d80a-407f-ae13-e4c31e22a472",
   "metadata": {},
   "source": [
    "Magyar"
   ]
  },
  {
   "cell_type": "code",
   "execution_count": 9,
   "id": "34ced37c-4a73-4216-9390-b7a693fd9b3b",
   "metadata": {},
   "outputs": [
    {
     "name": "stderr",
     "output_type": "stream",
     "text": [
      "D:\\Users\\t05cf\\anaconda3\\lib\\site-packages\\spacy\\util.py:837: UserWarning: [W095] Model 'hu_core_news_lg' (3.4.4) was trained with spaCy v3.4 and may not be 100% compatible with the current version (3.3.1). If you see errors or degraded performance, download a newer compatible model or retrain your custom model with the current spaCy version. For more details and available updates, run: python -m spacy validate\n",
      "  warnings.warn(warn_msg)\n"
     ]
    }
   ],
   "source": [
    "lang_hu = SpacyLanguage(\"hu_core_news_lg\")"
   ]
  },
  {
   "cell_type": "code",
   "execution_count": 10,
   "id": "299e075d-0af5-4d5f-98a4-fb1e7072f020",
   "metadata": {},
   "outputs": [],
   "source": [
    "words_hu = ['disznó', 'ló', 'mókus', 'férfi', 'fiú',\n",
    "         'gyerek', 'korcsolya', 'bicikli', 'hajó', 'kerékpár',\n",
    "         'lány','nő', 'király', 'kutya', 'macska', 'hercegnő', \n",
    "         'királylány', 'királynő', 'doktor', 'nővér', 'színész', 'színésznő', 'felnőtt', \"mentőautó\", \"villamos\", \"fő\"]"
   ]
  },
  {
   "cell_type": "code",
   "execution_count": 11,
   "id": "926cfb0f-db28-40c4-ac6d-06bdf86e0940",
   "metadata": {},
   "outputs": [
    {
     "name": "stderr",
     "output_type": "stream",
     "text": [
      "D:\\Users\\t05cf\\anaconda3\\lib\\site-packages\\sklearn\\manifold\\_t_sne.py:780: FutureWarning: The default initialization in TSNE will change from 'random' to 'pca' in 1.2.\n",
      "  warnings.warn(\n",
      "D:\\Users\\t05cf\\anaconda3\\lib\\site-packages\\sklearn\\manifold\\_t_sne.py:790: FutureWarning: The default learning rate in TSNE will change from 200.0 to 'auto' in 1.2.\n",
      "  warnings.warn(\n",
      "D:\\Users\\t05cf\\anaconda3\\lib\\site-packages\\sklearn\\manifold\\_t_sne.py:780: FutureWarning: The default initialization in TSNE will change from 'random' to 'pca' in 1.2.\n",
      "  warnings.warn(\n",
      "D:\\Users\\t05cf\\anaconda3\\lib\\site-packages\\sklearn\\manifold\\_t_sne.py:790: FutureWarning: The default learning rate in TSNE will change from 200.0 to 'auto' in 1.2.\n",
      "  warnings.warn(\n"
     ]
    }
   ],
   "source": [
    "emb_hu = lang_hu[words_hu]\n",
    "pca_hu = emb_hu.transform(Pca(2)).plot_interactive(title=\"Hungarian: PCA\")\n",
    "tsne_hu = emb_hu.transform(Tsne(n_components=2, random_state=0, n_iter=10000, perplexity=2)).plot_interactive(title=\"Hungarian: t-SNE\")\n",
    "umap_hu = emb_hu.transform(Umap(2)).plot_interactive(title=\"Hungarian: UMAP\")"
   ]
  },
  {
   "cell_type": "code",
   "execution_count": 12,
   "id": "00bf33cd-93fc-41ae-80c1-0970f798dfc1",
   "metadata": {},
   "outputs": [
    {
     "data": {
      "text/html": [
       "\n",
       "<div id=\"altair-viz-a5d51e95b20a4e2bbe1da8083ec39cb9\"></div>\n",
       "<script type=\"text/javascript\">\n",
       "  var VEGA_DEBUG = (typeof VEGA_DEBUG == \"undefined\") ? {} : VEGA_DEBUG;\n",
       "  (function(spec, embedOpt){\n",
       "    let outputDiv = document.currentScript.previousElementSibling;\n",
       "    if (outputDiv.id !== \"altair-viz-a5d51e95b20a4e2bbe1da8083ec39cb9\") {\n",
       "      outputDiv = document.getElementById(\"altair-viz-a5d51e95b20a4e2bbe1da8083ec39cb9\");\n",
       "    }\n",
       "    const paths = {\n",
       "      \"vega\": \"https://cdn.jsdelivr.net/npm//vega@5?noext\",\n",
       "      \"vega-lib\": \"https://cdn.jsdelivr.net/npm//vega-lib?noext\",\n",
       "      \"vega-lite\": \"https://cdn.jsdelivr.net/npm//vega-lite@4.17.0?noext\",\n",
       "      \"vega-embed\": \"https://cdn.jsdelivr.net/npm//vega-embed@6?noext\",\n",
       "    };\n",
       "\n",
       "    function maybeLoadScript(lib, version) {\n",
       "      var key = `${lib.replace(\"-\", \"\")}_version`;\n",
       "      return (VEGA_DEBUG[key] == version) ?\n",
       "        Promise.resolve(paths[lib]) :\n",
       "        new Promise(function(resolve, reject) {\n",
       "          var s = document.createElement('script');\n",
       "          document.getElementsByTagName(\"head\")[0].appendChild(s);\n",
       "          s.async = true;\n",
       "          s.onload = () => {\n",
       "            VEGA_DEBUG[key] = version;\n",
       "            return resolve(paths[lib]);\n",
       "          };\n",
       "          s.onerror = () => reject(`Error loading script: ${paths[lib]}`);\n",
       "          s.src = paths[lib];\n",
       "        });\n",
       "    }\n",
       "\n",
       "    function showError(err) {\n",
       "      outputDiv.innerHTML = `<div class=\"error\" style=\"color:red;\">${err}</div>`;\n",
       "      throw err;\n",
       "    }\n",
       "\n",
       "    function displayChart(vegaEmbed) {\n",
       "      vegaEmbed(outputDiv, spec, embedOpt)\n",
       "        .catch(err => showError(`Javascript Error: ${err.message}<br>This usually means there's a typo in your chart specification. See the javascript console for the full traceback.`));\n",
       "    }\n",
       "\n",
       "    if(typeof define === \"function\" && define.amd) {\n",
       "      requirejs.config({paths});\n",
       "      require([\"vega-embed\"], displayChart, err => showError(`Error loading script: ${err.message}`));\n",
       "    } else {\n",
       "      maybeLoadScript(\"vega\", \"5\")\n",
       "        .then(() => maybeLoadScript(\"vega-lite\", \"4.17.0\"))\n",
       "        .then(() => maybeLoadScript(\"vega-embed\", \"6\"))\n",
       "        .catch(showError)\n",
       "        .then(() => displayChart(vegaEmbed));\n",
       "    }\n",
       "  })({\"config\": {\"view\": {\"continuousWidth\": 400, \"continuousHeight\": 300}}, \"hconcat\": [{\"layer\": [{\"mark\": {\"type\": \"circle\", \"size\": 60}, \"encoding\": {\"color\": {\"field\": \"\", \"legend\": null, \"type\": \"nominal\"}, \"tooltip\": [{\"field\": \"name\", \"type\": \"nominal\"}, {\"field\": \"original\", \"type\": \"nominal\"}], \"x\": {\"axis\": {\"title\": \"Dimension 0\"}, \"field\": \"x_axis\", \"type\": \"quantitative\"}, \"y\": {\"axis\": {\"title\": \"Dimension 1\"}, \"field\": \"y_axis\", \"type\": \"quantitative\"}}, \"selection\": {\"selector005\": {\"type\": \"interval\", \"bind\": \"scales\", \"encodings\": [\"x\", \"y\"]}}, \"title\": \"Hungarian: PCA\"}, {\"mark\": {\"type\": \"text\", \"color\": \"black\", \"dx\": -15, \"dy\": 3}, \"encoding\": {\"text\": {\"field\": \"original\", \"type\": \"nominal\"}, \"x\": {\"field\": \"x_axis\", \"type\": \"quantitative\"}, \"y\": {\"field\": \"y_axis\", \"type\": \"quantitative\"}}}], \"data\": {\"name\": \"data-1e9e6fc77af9b68c7feeb8c29fb308aa\"}}, {\"layer\": [{\"mark\": {\"type\": \"circle\", \"size\": 60}, \"encoding\": {\"color\": {\"field\": \"\", \"legend\": null, \"type\": \"nominal\"}, \"tooltip\": [{\"field\": \"name\", \"type\": \"nominal\"}, {\"field\": \"original\", \"type\": \"nominal\"}], \"x\": {\"axis\": {\"title\": \"Dimension 0\"}, \"field\": \"x_axis\", \"type\": \"quantitative\"}, \"y\": {\"axis\": {\"title\": \"Dimension 1\"}, \"field\": \"y_axis\", \"type\": \"quantitative\"}}, \"selection\": {\"selector006\": {\"type\": \"interval\", \"bind\": \"scales\", \"encodings\": [\"x\", \"y\"]}}, \"title\": \"Hungarian: t-SNE\"}, {\"mark\": {\"type\": \"text\", \"color\": \"black\", \"dx\": -15, \"dy\": 3}, \"encoding\": {\"text\": {\"field\": \"original\", \"type\": \"nominal\"}, \"x\": {\"field\": \"x_axis\", \"type\": \"quantitative\"}, \"y\": {\"field\": \"y_axis\", \"type\": \"quantitative\"}}}], \"data\": {\"name\": \"data-6031a2a90258e29aa05000b2f635aad5\"}}, {\"layer\": [{\"mark\": {\"type\": \"circle\", \"size\": 60}, \"encoding\": {\"color\": {\"field\": \"\", \"legend\": null, \"type\": \"nominal\"}, \"tooltip\": [{\"field\": \"name\", \"type\": \"nominal\"}, {\"field\": \"original\", \"type\": \"nominal\"}], \"x\": {\"axis\": {\"title\": \"Dimension 0\"}, \"field\": \"x_axis\", \"type\": \"quantitative\"}, \"y\": {\"axis\": {\"title\": \"Dimension 1\"}, \"field\": \"y_axis\", \"type\": \"quantitative\"}}, \"selection\": {\"selector007\": {\"type\": \"interval\", \"bind\": \"scales\", \"encodings\": [\"x\", \"y\"]}}, \"title\": \"Hungarian: UMAP\"}, {\"mark\": {\"type\": \"text\", \"color\": \"black\", \"dx\": -15, \"dy\": 3}, \"encoding\": {\"text\": {\"field\": \"original\", \"type\": \"nominal\"}, \"x\": {\"field\": \"x_axis\", \"type\": \"quantitative\"}, \"y\": {\"field\": \"y_axis\", \"type\": \"quantitative\"}}}], \"data\": {\"name\": \"data-678e6a9adf2047ed611d24f2a79e153f\"}}], \"$schema\": \"https://vega.github.io/schema/vega-lite/v4.17.0.json\", \"datasets\": {\"data-1e9e6fc77af9b68c7feeb8c29fb308aa\": [{\"x_axis\": -8.571680068969727, \"y_axis\": -25.615982055664062, \"name\": \"diszn\\u00f3\", \"original\": \"diszn\\u00f3\"}, {\"x_axis\": -38.71687698364258, \"y_axis\": 28.18160629272461, \"name\": \"l\\u00f3\", \"original\": \"l\\u00f3\"}, {\"x_axis\": -4.781858921051025, \"y_axis\": -32.526466369628906, \"name\": \"m\\u00f3kus\", \"original\": \"m\\u00f3kus\"}, {\"x_axis\": -16.558122634887695, \"y_axis\": 24.055450439453125, \"name\": \"f\\u00e9rfi\", \"original\": \"f\\u00e9rfi\"}, {\"x_axis\": -40.22383499145508, \"y_axis\": 44.742435455322266, \"name\": \"fi\\u00fa\", \"original\": \"fi\\u00fa\"}, {\"x_axis\": -11.52798080444336, \"y_axis\": 2.942326545715332, \"name\": \"gyerek\", \"original\": \"gyerek\"}, {\"x_axis\": -0.810202419757843, \"y_axis\": -32.34903335571289, \"name\": \"korcsolya\", \"original\": \"korcsolya\"}, {\"x_axis\": -3.0647995471954346, \"y_axis\": -32.6010856628418, \"name\": \"bicikli\", \"original\": \"bicikli\"}, {\"x_axis\": 5.951776027679443, \"y_axis\": -33.94782638549805, \"name\": \"haj\\u00f3\", \"original\": \"haj\\u00f3\"}, {\"x_axis\": 6.384391784667969, \"y_axis\": -36.493553161621094, \"name\": \"ker\\u00e9kp\\u00e1r\", \"original\": \"ker\\u00e9kp\\u00e1r\"}, {\"x_axis\": -37.24341583251953, \"y_axis\": 32.861080169677734, \"name\": \"l\\u00e1ny\", \"original\": \"l\\u00e1ny\"}, {\"x_axis\": -68.52166748046875, \"y_axis\": 266.27777099609375, \"name\": \"n\\u0151\", \"original\": \"n\\u0151\"}, {\"x_axis\": -11.344879150390625, \"y_axis\": -32.506858825683594, \"name\": \"kir\\u00e1ly\", \"original\": \"kir\\u00e1ly\"}, {\"x_axis\": -16.374324798583984, \"y_axis\": -10.106169700622559, \"name\": \"kutya\", \"original\": \"kutya\"}, {\"x_axis\": -15.481484413146973, \"y_axis\": -19.488340377807617, \"name\": \"macska\", \"original\": \"macska\"}, {\"x_axis\": -11.85532283782959, \"y_axis\": -19.621353149414062, \"name\": \"hercegn\\u0151\", \"original\": \"hercegn\\u0151\"}, {\"x_axis\": -10.214144706726074, \"y_axis\": -22.69029426574707, \"name\": \"kir\\u00e1lyl\\u00e1ny\", \"original\": \"kir\\u00e1lyl\\u00e1ny\"}, {\"x_axis\": -8.820995330810547, \"y_axis\": -25.7547550201416, \"name\": \"kir\\u00e1lyn\\u0151\", \"original\": \"kir\\u00e1lyn\\u0151\"}, {\"x_axis\": -8.374701499938965, \"y_axis\": -27.39462661743164, \"name\": \"doktor\", \"original\": \"doktor\"}, {\"x_axis\": -7.746487140655518, \"y_axis\": -6.409677505493164, \"name\": \"n\\u0151v\\u00e9r\", \"original\": \"n\\u0151v\\u00e9r\"}, {\"x_axis\": -12.044840812683105, \"y_axis\": -14.840619087219238, \"name\": \"sz\\u00edn\\u00e9sz\", \"original\": \"sz\\u00edn\\u00e9sz\"}, {\"x_axis\": -11.744362831115723, \"y_axis\": -14.866023063659668, \"name\": \"sz\\u00edn\\u00e9szn\\u0151\", \"original\": \"sz\\u00edn\\u00e9szn\\u0151\"}, {\"x_axis\": 1.3925294876098633, \"y_axis\": -12.889732360839844, \"name\": \"feln\\u0151tt\", \"original\": \"feln\\u0151tt\"}, {\"x_axis\": 2.36474347114563, \"y_axis\": -27.764183044433594, \"name\": \"ment\\u0151aut\\u00f3\", \"original\": \"ment\\u0151aut\\u00f3\"}, {\"x_axis\": 9.073859214782715, \"y_axis\": -37.010929107666016, \"name\": \"villamos\", \"original\": \"villamos\"}, {\"x_axis\": 318.8546142578125, \"y_axis\": 65.81683349609375, \"name\": \"f\\u0151\", \"original\": \"f\\u0151\"}], \"data-6031a2a90258e29aa05000b2f635aad5\": [{\"x_axis\": -172.64295959472656, \"y_axis\": -455.62799072265625, \"name\": \"diszn\\u00f3\", \"original\": \"diszn\\u00f3\"}, {\"x_axis\": -223.15756225585938, \"y_axis\": -374.50909423828125, \"name\": \"l\\u00f3\", \"original\": \"l\\u00f3\"}, {\"x_axis\": -121.11305236816406, \"y_axis\": -446.6288146972656, \"name\": \"m\\u00f3kus\", \"original\": \"m\\u00f3kus\"}, {\"x_axis\": 102.2972640991211, \"y_axis\": 460.3084716796875, \"name\": \"f\\u00e9rfi\", \"original\": \"f\\u00e9rfi\"}, {\"x_axis\": 126.68637084960938, \"y_axis\": 576.3972778320312, \"name\": \"fi\\u00fa\", \"original\": \"fi\\u00fa\"}, {\"x_axis\": -117.07687377929688, \"y_axis\": -371.1776428222656, \"name\": \"gyerek\", \"original\": \"gyerek\"}, {\"x_axis\": 114.96096801757812, \"y_axis\": -228.28277587890625, \"name\": \"korcsolya\", \"original\": \"korcsolya\"}, {\"x_axis\": 164.3358154296875, \"y_axis\": -222.16262817382812, \"name\": \"bicikli\", \"original\": \"bicikli\"}, {\"x_axis\": 249.5266876220703, \"y_axis\": -250.2961883544922, \"name\": \"haj\\u00f3\", \"original\": \"haj\\u00f3\"}, {\"x_axis\": 173.2967529296875, \"y_axis\": -194.0906219482422, \"name\": \"ker\\u00e9kp\\u00e1r\", \"original\": \"ker\\u00e9kp\\u00e1r\"}, {\"x_axis\": 132.7386474609375, \"y_axis\": 548.6653442382812, \"name\": \"l\\u00e1ny\", \"original\": \"l\\u00e1ny\"}, {\"x_axis\": 152.21803283691406, \"y_axis\": 502.3880920410156, \"name\": \"n\\u0151\", \"original\": \"n\\u0151\"}, {\"x_axis\": -92.6505355834961, \"y_axis\": 179.0934600830078, \"name\": \"kir\\u00e1ly\", \"original\": \"kir\\u00e1ly\"}, {\"x_axis\": -184.76150512695312, \"y_axis\": -396.2229919433594, \"name\": \"kutya\", \"original\": \"kutya\"}, {\"x_axis\": -158.8742218017578, \"y_axis\": -415.1138916015625, \"name\": \"macska\", \"original\": \"macska\"}, {\"x_axis\": -100.62675476074219, \"y_axis\": 258.108154296875, \"name\": \"hercegn\\u0151\", \"original\": \"hercegn\\u0151\"}, {\"x_axis\": -134.7658233642578, \"y_axis\": 239.10919189453125, \"name\": \"kir\\u00e1lyl\\u00e1ny\", \"original\": \"kir\\u00e1lyl\\u00e1ny\"}, {\"x_axis\": -101.88037109375, \"y_axis\": 223.50918579101562, \"name\": \"kir\\u00e1lyn\\u0151\", \"original\": \"kir\\u00e1lyn\\u0151\"}, {\"x_axis\": -158.04220581054688, \"y_axis\": 339.5504150390625, \"name\": \"doktor\", \"original\": \"doktor\"}, {\"x_axis\": -137.70407104492188, \"y_axis\": 301.9476623535156, \"name\": \"n\\u0151v\\u00e9r\", \"original\": \"n\\u0151v\\u00e9r\"}, {\"x_axis\": 60.8114128112793, \"y_axis\": 394.8158264160156, \"name\": \"sz\\u00edn\\u00e9sz\", \"original\": \"sz\\u00edn\\u00e9sz\"}, {\"x_axis\": 74.88404846191406, \"y_axis\": 419.2796325683594, \"name\": \"sz\\u00edn\\u00e9szn\\u0151\", \"original\": \"sz\\u00edn\\u00e9szn\\u0151\"}, {\"x_axis\": 72.61808013916016, \"y_axis\": -237.14598083496094, \"name\": \"feln\\u0151tt\", \"original\": \"feln\\u0151tt\"}, {\"x_axis\": 204.05596923828125, \"y_axis\": -257.3363037109375, \"name\": \"ment\\u0151aut\\u00f3\", \"original\": \"ment\\u0151aut\\u00f3\"}, {\"x_axis\": 187.7572784423828, \"y_axis\": -152.27774047851562, \"name\": \"villamos\", \"original\": \"villamos\"}, {\"x_axis\": 197.8738555908203, \"y_axis\": -303.1423645019531, \"name\": \"f\\u0151\", \"original\": \"f\\u0151\"}], \"data-678e6a9adf2047ed611d24f2a79e153f\": [{\"x_axis\": 19.550796508789062, \"y_axis\": 9.330557823181152, \"name\": \"diszn\\u00f3\", \"original\": \"diszn\\u00f3\"}, {\"x_axis\": 19.885093688964844, \"y_axis\": 8.639120101928711, \"name\": \"l\\u00f3\", \"original\": \"l\\u00f3\"}, {\"x_axis\": 19.726667404174805, \"y_axis\": 9.848529815673828, \"name\": \"m\\u00f3kus\", \"original\": \"m\\u00f3kus\"}, {\"x_axis\": 17.07016372680664, \"y_axis\": 9.702401161193848, \"name\": \"f\\u00e9rfi\", \"original\": \"f\\u00e9rfi\"}, {\"x_axis\": 17.49049186706543, \"y_axis\": 8.652782440185547, \"name\": \"fi\\u00fa\", \"original\": \"fi\\u00fa\"}, {\"x_axis\": 18.705102920532227, \"y_axis\": 8.243459701538086, \"name\": \"gyerek\", \"original\": \"gyerek\"}, {\"x_axis\": 18.684659957885742, \"y_axis\": 10.633415222167969, \"name\": \"korcsolya\", \"original\": \"korcsolya\"}, {\"x_axis\": 19.212848663330078, \"y_axis\": 10.747392654418945, \"name\": \"bicikli\", \"original\": \"bicikli\"}, {\"x_axis\": 19.404512405395508, \"y_axis\": 10.358572006225586, \"name\": \"haj\\u00f3\", \"original\": \"haj\\u00f3\"}, {\"x_axis\": 19.623046875, \"y_axis\": 11.417795181274414, \"name\": \"ker\\u00e9kp\\u00e1r\", \"original\": \"ker\\u00e9kp\\u00e1r\"}, {\"x_axis\": 16.982561111450195, \"y_axis\": 8.68629264831543, \"name\": \"l\\u00e1ny\", \"original\": \"l\\u00e1ny\"}, {\"x_axis\": 16.932209014892578, \"y_axis\": 8.996240615844727, \"name\": \"n\\u0151\", \"original\": \"n\\u0151\"}, {\"x_axis\": 18.719924926757812, \"y_axis\": 9.256112098693848, \"name\": \"kir\\u00e1ly\", \"original\": \"kir\\u00e1ly\"}, {\"x_axis\": 19.347118377685547, \"y_axis\": 8.49618148803711, \"name\": \"kutya\", \"original\": \"kutya\"}, {\"x_axis\": 19.152101516723633, \"y_axis\": 8.959898948669434, \"name\": \"macska\", \"original\": \"macska\"}, {\"x_axis\": 18.45293617248535, \"y_axis\": 9.588160514831543, \"name\": \"hercegn\\u0151\", \"original\": \"hercegn\\u0151\"}, {\"x_axis\": 18.374595642089844, \"y_axis\": 8.87549114227295, \"name\": \"kir\\u00e1lyl\\u00e1ny\", \"original\": \"kir\\u00e1lyl\\u00e1ny\"}, {\"x_axis\": 18.733312606811523, \"y_axis\": 9.848515510559082, \"name\": \"kir\\u00e1lyn\\u0151\", \"original\": \"kir\\u00e1lyn\\u0151\"}, {\"x_axis\": 17.859073638916016, \"y_axis\": 9.79761028289795, \"name\": \"doktor\", \"original\": \"doktor\"}, {\"x_axis\": 17.983678817749023, \"y_axis\": 9.387250900268555, \"name\": \"n\\u0151v\\u00e9r\", \"original\": \"n\\u0151v\\u00e9r\"}, {\"x_axis\": 17.43717384338379, \"y_axis\": 10.464458465576172, \"name\": \"sz\\u00edn\\u00e9sz\", \"original\": \"sz\\u00edn\\u00e9sz\"}, {\"x_axis\": 17.73468017578125, \"y_axis\": 10.131738662719727, \"name\": \"sz\\u00edn\\u00e9szn\\u0151\", \"original\": \"sz\\u00edn\\u00e9szn\\u0151\"}, {\"x_axis\": 18.130558013916016, \"y_axis\": 10.961834907531738, \"name\": \"feln\\u0151tt\", \"original\": \"feln\\u0151tt\"}, {\"x_axis\": 18.74404525756836, \"y_axis\": 11.230973243713379, \"name\": \"ment\\u0151aut\\u00f3\", \"original\": \"ment\\u0151aut\\u00f3\"}, {\"x_axis\": 19.50231170654297, \"y_axis\": 11.133853912353516, \"name\": \"villamos\", \"original\": \"villamos\"}, {\"x_axis\": 19.008724212646484, \"y_axis\": 11.626835823059082, \"name\": \"f\\u0151\", \"original\": \"f\\u0151\"}]}}, {\"mode\": \"vega-lite\"});\n",
       "</script>"
      ],
      "text/plain": [
       "alt.HConcatChart(...)"
      ]
     },
     "execution_count": 12,
     "metadata": {},
     "output_type": "execute_result"
    }
   ],
   "source": [
    "pca_hu | tsne_hu | umap_hu"
   ]
  },
  {
   "cell_type": "raw",
   "id": "b685de7f-c96f-4ae0-9759-4cc3f5214ed1",
   "metadata": {},
   "source": [
    "Vektorok"
   ]
  },
  {
   "cell_type": "code",
   "execution_count": 13,
   "id": "b452c0a2-c731-4a75-bfaf-40c56587ca7e",
   "metadata": {},
   "outputs": [
    {
     "name": "stderr",
     "output_type": "stream",
     "text": [
      "D:\\Users\\t05cf\\anaconda3\\lib\\site-packages\\spacy\\util.py:837: UserWarning: [W095] Model 'hu_core_news_lg' (3.4.4) was trained with spaCy v3.4 and may not be 100% compatible with the current version (3.3.1). If you see errors or degraded performance, download a newer compatible model or retrain your custom model with the current spaCy version. For more details and available updates, run: python -m spacy validate\n",
      "  warnings.warn(warn_msg)\n"
     ]
    }
   ],
   "source": [
    "nlp_hu = spacy.load(\"hu_core_news_lg\")"
   ]
  },
  {
   "cell_type": "code",
   "execution_count": 14,
   "id": "13bfbc91-bbf5-463c-a786-c635d0c724ba",
   "metadata": {},
   "outputs": [
    {
     "name": "stdout",
     "output_type": "stream",
     "text": [
      "A kutya szó vektorai: \n",
      "(300,)\n"
     ]
    },
    {
     "data": {
      "text/plain": [
       "array([  3.603545  ,  -8.585735  ,  -3.9909801 ,  -4.2408786 ,\n",
       "        -2.15684   ,  -4.3644648 ,  13.767516  ,   4.4704537 ,\n",
       "        -0.993253  ,  -4.702815  ,  -0.8294897 ,  -5.789353  ,\n",
       "         3.9019    ,   2.19381   ,   1.0284868 ,  -0.85395   ,\n",
       "        -7.00367   ,   7.065059  ,   5.4955907 ,  -0.2897998 ,\n",
       "        -0.12130991,  -4.8180656 ,   2.3591921 ,   4.29728   ,\n",
       "         1.8926511 ,   2.2697356 ,   4.9105983 ,  -3.5317054 ,\n",
       "         0.7089097 ,  -3.870646  ,   7.5655303 ,  11.46174   ,\n",
       "         7.20969   ,   7.2623496 ,   0.7224157 ,   6.5261564 ,\n",
       "        -1.6022139 ,  -6.0251503 ,  -6.389077  ,  -0.8644471 ,\n",
       "         5.5763707 ,  12.282301  ,   5.4416814 ,  -0.6177506 ,\n",
       "         2.09158   ,  -4.045505  ,  -4.4481096 ,  -0.42776307,\n",
       "        -7.7218876 ,  -2.0602722 ,  -2.2159903 ,   5.5588255 ,\n",
       "         5.0975256 ,   2.3449543 ,  -2.5514755 ,  -3.9290106 ,\n",
       "        -4.0368123 ,  -3.01637   ,   5.135655  ,  -1.6724396 ,\n",
       "        -5.082779  ,   1.2042856 ,   3.1309252 ,   2.1244755 ,\n",
       "        -6.4544873 ,  -3.1839504 ,  13.470884  ,   1.3358808 ,\n",
       "         0.33301097,   3.2372947 ,   0.6199485 ,   1.4941201 ,\n",
       "        -1.0530603 ,   1.9504299 ,   3.4368622 ,  -2.7203002 ,\n",
       "         2.999405  ,  -2.444107  ,  -0.54552025,  -1.9656736 ,\n",
       "         3.1198008 ,   4.8334236 ,   0.8387044 ,   0.93551517,\n",
       "        -2.3789058 ,  -2.0187056 ,   4.9878483 ,   0.51904994,\n",
       "         8.346756  ,  -4.2067404 ,  -0.86808145,   4.0461264 ,\n",
       "         1.6043828 ,  -3.3607345 ,   0.47937024,  14.579185  ,\n",
       "        -2.403288  ,   1.1260854 ,  -2.1671176 ,  -5.37191   ,\n",
       "        -1.7503924 ,  -0.09382598,  -7.3420253 ,  -2.2933102 ,\n",
       "        -1.5762815 ,  12.363277  ,   4.5548944 ,  -3.3615    ,\n",
       "        -0.25609174,   5.6524    ,   2.9337358 ,  -0.19755   ,\n",
       "         6.730404  ,   3.5242462 ,   2.8064485 ,   8.554454  ,\n",
       "         2.2615726 ,  -3.7862804 ,   5.60092   ,   6.21462   ,\n",
       "         8.876465  ,   0.13522905,  -2.8355494 ,  -5.285797  ,\n",
       "         2.8591328 ,   9.621862  ,   1.4844822 ,  -2.756875  ,\n",
       "         4.474021  ,  -1.5572666 ,  -0.6542099 ,   5.8400598 ,\n",
       "        -1.962985  ,  -3.387571  ,  -0.8915749 ,   2.7199006 ,\n",
       "        -1.882565  ,  -8.562071  ,   1.6418649 ,   2.2497883 ,\n",
       "         4.1736937 ,  -5.090787  ,  -5.641404  ,   3.2133703 ,\n",
       "        -1.8217384 ,  -5.4865694 ,  -0.14099512,   5.636405  ,\n",
       "        -9.196577  ,  -8.146232  ,  -1.8341004 ,  -2.6854532 ,\n",
       "        -1.5383419 ,  -6.036208  ,  -2.865543  ,   7.93154   ,\n",
       "         3.05782   ,  -5.855785  ,  -5.9089746 , -12.754054  ,\n",
       "         4.003667  ,  -1.9724698 ,  -0.6393744 ,   1.9561934 ,\n",
       "        -5.598799  ,  -5.531678  ,  -1.7722032 ,   6.2121024 ,\n",
       "         2.2077901 ,  10.0682955 ,   2.9453068 ,   0.7082661 ,\n",
       "         4.3360605 ,   2.6307492 ,  -2.7144978 ,  -1.8406098 ,\n",
       "         0.77964866,  -0.5038254 ,   2.5270193 ,  10.52304   ,\n",
       "         7.4293637 ,  -4.9948244 ,   5.35876   ,  -0.0413    ,\n",
       "         5.815957  ,  -8.879035  ,   5.5412626 ,  -0.9003455 ,\n",
       "         0.97880346,  -5.929527  ,  -1.1320755 ,   5.254576  ,\n",
       "        -3.0528505 ,   4.377515  ,  -5.562814  ,   5.91931   ,\n",
       "         1.8430523 ,   9.451568  ,   2.1071    ,   9.960147  ,\n",
       "        -1.2199278 ,  -0.6977778 ,  -1.7734013 ,  -0.97107875,\n",
       "         0.82460487,   0.7677288 ,   4.503668  ,  -7.42135   ,\n",
       "        -7.132522  ,   5.3541102 ,   0.5696794 ,  -2.1897812 ,\n",
       "         1.9243599 ,  -5.8688717 ,   7.1968083 ,  -2.1042948 ,\n",
       "        -7.9767246 , -11.405746  ,   0.11376742,   2.4351733 ,\n",
       "        -2.3790028 ,  -5.7217703 ,  -0.95552266,   3.4864597 ,\n",
       "        -1.1682392 ,   6.7835116 ,  -6.767228  ,   0.5739263 ,\n",
       "        -9.551605  ,   8.401761  ,   2.2837124 ,   3.177638  ,\n",
       "         4.675035  ,   5.6518054 ,   1.0746331 ,  -0.7122172 ,\n",
       "        -0.01725495,   5.2964983 ,  -0.68923485,  -0.05735409,\n",
       "         5.696003  ,  -9.001117  ,  -0.27906245,  -3.1286638 ,\n",
       "         6.4907475 ,   3.981339  ,  -2.3659782 ,   2.9305067 ,\n",
       "         3.780673  ,   2.9719682 ,   5.6272106 ,   2.6350398 ,\n",
       "         7.492806  ,  -2.131062  ,   5.44803   ,   4.0153646 ,\n",
       "         3.9930644 ,  -2.9905148 ,   3.0914218 ,   3.0470598 ,\n",
       "       -17.081417  ,   5.230826  ,   2.1552508 ,   2.6599853 ,\n",
       "        -9.13819   ,   7.9816003 ,  -0.06753707,  -0.7224554 ,\n",
       "        -1.1376066 ,  -0.45504916,  -2.4081426 ,  -6.8497453 ,\n",
       "         5.7524734 ,  -4.64157   ,   3.9951873 ,  -1.3555001 ,\n",
       "        -7.724327  ,  -1.2935265 ,   9.285061  ,   2.6193202 ,\n",
       "         2.5694156 ,   4.861355  ,  -1.3487746 ,   6.1194654 ,\n",
       "        -3.627125  ,   2.5491383 ,  -1.8676502 ,   5.3983192 ,\n",
       "        10.708049  ,   2.7280703 ,  -7.60957   ,   3.0268137 ,\n",
       "         6.036394  ,  16.192425  ,  -6.0869937 ,   2.7363849 ,\n",
       "         1.7427058 ,   6.8709655 ,   7.2810845 ,  10.477242  ],\n",
       "      dtype=float32)"
      ]
     },
     "execution_count": 14,
     "metadata": {},
     "output_type": "execute_result"
    }
   ],
   "source": [
    "word = nlp_hu(\"kutya\")\n",
    "print('A kutya szó vektorai: ')\n",
    "print(word.vector.shape)\n",
    "word.vector"
   ]
  },
  {
   "cell_type": "code",
   "execution_count": 15,
   "id": "d88b5af7-a914-45cd-b309-70317f08752d",
   "metadata": {},
   "outputs": [
    {
     "name": "stdout",
     "output_type": "stream",
     "text": [
      "ajghfhgfhfhfjhfhf szó vektorai: \n",
      "(300,)\n",
      "Szótáron kívüli szó?: \n",
      "True\n"
     ]
    },
    {
     "data": {
      "text/plain": [
       "array([0., 0., 0., 0., 0., 0., 0., 0., 0., 0., 0., 0., 0., 0., 0., 0., 0.,\n",
       "       0., 0., 0., 0., 0., 0., 0., 0., 0., 0., 0., 0., 0., 0., 0., 0., 0.,\n",
       "       0., 0., 0., 0., 0., 0., 0., 0., 0., 0., 0., 0., 0., 0., 0., 0., 0.,\n",
       "       0., 0., 0., 0., 0., 0., 0., 0., 0., 0., 0., 0., 0., 0., 0., 0., 0.,\n",
       "       0., 0., 0., 0., 0., 0., 0., 0., 0., 0., 0., 0., 0., 0., 0., 0., 0.,\n",
       "       0., 0., 0., 0., 0., 0., 0., 0., 0., 0., 0., 0., 0., 0., 0., 0., 0.,\n",
       "       0., 0., 0., 0., 0., 0., 0., 0., 0., 0., 0., 0., 0., 0., 0., 0., 0.,\n",
       "       0., 0., 0., 0., 0., 0., 0., 0., 0., 0., 0., 0., 0., 0., 0., 0., 0.,\n",
       "       0., 0., 0., 0., 0., 0., 0., 0., 0., 0., 0., 0., 0., 0., 0., 0., 0.,\n",
       "       0., 0., 0., 0., 0., 0., 0., 0., 0., 0., 0., 0., 0., 0., 0., 0., 0.,\n",
       "       0., 0., 0., 0., 0., 0., 0., 0., 0., 0., 0., 0., 0., 0., 0., 0., 0.,\n",
       "       0., 0., 0., 0., 0., 0., 0., 0., 0., 0., 0., 0., 0., 0., 0., 0., 0.,\n",
       "       0., 0., 0., 0., 0., 0., 0., 0., 0., 0., 0., 0., 0., 0., 0., 0., 0.,\n",
       "       0., 0., 0., 0., 0., 0., 0., 0., 0., 0., 0., 0., 0., 0., 0., 0., 0.,\n",
       "       0., 0., 0., 0., 0., 0., 0., 0., 0., 0., 0., 0., 0., 0., 0., 0., 0.,\n",
       "       0., 0., 0., 0., 0., 0., 0., 0., 0., 0., 0., 0., 0., 0., 0., 0., 0.,\n",
       "       0., 0., 0., 0., 0., 0., 0., 0., 0., 0., 0., 0., 0., 0., 0., 0., 0.,\n",
       "       0., 0., 0., 0., 0., 0., 0., 0., 0., 0., 0.], dtype=float32)"
      ]
     },
     "execution_count": 15,
     "metadata": {},
     "output_type": "execute_result"
    }
   ],
   "source": [
    "nlp_en = spacy.load(\"en_core_web_md\")\n",
    "word = nlp_en('jghfhgfhfhfjhfhf')\n",
    "print('ajghfhgfhfhfjhfhf szó vektorai: ')\n",
    "print(word.vector.shape)\n",
    "print('Szótáron kívüli szó?: ')\n",
    "print(word[0].is_oov)\n",
    "word.vector"
   ]
  },
  {
   "cell_type": "code",
   "execution_count": 16,
   "id": "a6066882-daff-4ccc-94c0-d7f4a3572e72",
   "metadata": {},
   "outputs": [],
   "source": [
    "import numpy as np"
   ]
  },
  {
   "cell_type": "code",
   "execution_count": 17,
   "id": "ae03547d-3c75-41ad-9202-28047f8b73a7",
   "metadata": {},
   "outputs": [],
   "source": [
    "def most_similar(word, top_n=5):\n",
    "    ms = nlp_en.vocab.vectors.most_similar(\n",
    "        np.asarray([nlp_en.vocab.vectors[nlp_en.vocab.strings[word]]]), n=top_n\n",
    "    )\n",
    "    words = [nlp_en.vocab.strings[w] for w in ms[0][0]]\n",
    "    return words"
   ]
  },
  {
   "cell_type": "code",
   "execution_count": 18,
   "id": "a3ab8966-c05e-41ef-ba94-b5eaaf11503f",
   "metadata": {},
   "outputs": [
    {
     "name": "stdout",
     "output_type": "stream",
     "text": [
      "A 10 leghasonlóbb vektorú szó: \n"
     ]
    },
    {
     "data": {
      "text/plain": [
       "['relogin',\n",
       " 'OWA',\n",
       " 'iis7',\n",
       " 'MISWIRING',\n",
       " 'Mograph',\n",
       " 'cmdlets',\n",
       " 'msbuild',\n",
       " 'as-new',\n",
       " 'MULTIPAGE',\n",
       " 'Multipage']"
      ]
     },
     "execution_count": 18,
     "metadata": {},
     "output_type": "execute_result"
    }
   ],
   "source": [
    "print('A 10 leghasonlóbb vektorú szó: ')\n",
    "most_similar(\"ajax\", top_n=10)"
   ]
  },
  {
   "cell_type": "markdown",
   "id": "32c4fbfb-c310-4b45-ac26-be338aa4c19e",
   "metadata": {},
   "source": [
    "***Szóvektor modell tanítása***"
   ]
  },
  {
   "cell_type": "markdown",
   "id": "638b21cf-0af3-44b0-8eee-b1203aa38cd0",
   "metadata": {},
   "source": [
    "*Gensim Word2Vec*"
   ]
  },
  {
   "cell_type": "code",
   "execution_count": 19,
   "id": "f6a26d05-335c-43b3-900f-2e3974cf286c",
   "metadata": {},
   "outputs": [
    {
     "name": "stdout",
     "output_type": "stream",
     "text": [
      "Calculations will be running on 8 CPU cores\n"
     ]
    }
   ],
   "source": [
    "from gensim.models import word2vec\n",
    "import csv\n",
    "import random\n",
    "import pandas as pd\n",
    "pd.options.display.max_colwidth = 200\n",
    "\n",
    "import multiprocessing\n",
    "cores = multiprocessing.cpu_count()\n",
    "print ('Calculations will be running on {} CPU cores'.format(cores))\n",
    "\n",
    "# Functions\n",
    "def recursive_len(item):\n",
    "    '''Counts the total nr of elements in a list of lists'''\n",
    "    if type(item) == list:\n",
    "        return sum(recursive_len(subitem) for subitem in item)\n",
    "    else:\n",
    "        return 1"
   ]
  },
  {
   "cell_type": "markdown",
   "id": "79a9c43a-52a9-40fe-9e0a-7e22f5764f64",
   "metadata": {},
   "source": [
    "*Korpusz beolvasás*"
   ]
  },
  {
   "cell_type": "markdown",
   "id": "36cfc817-b4ff-4d26-925b-34df33286e9f",
   "metadata": {},
   "source": [
    "* A korpuszt lezárt Stack Overflow kérdésekből állították össze.\n",
    "* Csak a kérdések címei szerepelnek\n",
    "* A címek a következő előfeldolgozási lépéseken estek át:\n",
    "    * tokenizálás\n",
    "    * normalizálás: spec karakterek, számok és írásjelek törlése\n",
    "* `LineSentence` formátum: 1 mondat (SO kérdés címe) soronként"
   ]
  },
  {
   "cell_type": "code",
   "execution_count": 20,
   "id": "e3059267-298c-4f37-a997-27b770536637",
   "metadata": {},
   "outputs": [],
   "source": [
    "## Read CSV from url\n",
    "import csv, urllib.request\n",
    "\n",
    "url = \"https://raw.githubusercontent.com/rfarkas/student_data/main/SO_texts/SO_corpus_lines.csv\"\n",
    "response = urllib.request.urlopen(url)\n",
    "lines = [l.decode('utf-8') for l in response.readlines()] # response is in bytes that has to be decoded to string encoding\n",
    "reader = csv.reader(lines)\n",
    "SO_corpus = list(reader)"
   ]
  },
  {
   "cell_type": "markdown",
   "id": "27938e2e-c883-4e3a-b4e3-bc5ad855f786",
   "metadata": {},
   "source": [
    "Alapvető információk a korpuszról"
   ]
  },
  {
   "cell_type": "code",
   "execution_count": 21,
   "id": "fb682ec3-a4bf-4d17-9350-7a0cb04350e1",
   "metadata": {},
   "outputs": [
    {
     "name": "stdout",
     "output_type": "stream",
     "text": [
      "A korpusz sorainak száma: 202310\n",
      "A korpusz teljes méret, i.e., az összes szó száma: 1110964\n",
      "Típus: <class 'list'>\n",
      "néhány példa sor:\n",
      "Sor: 120317 : ['python', 'arrays', 'objects']\n",
      "Sor: 144656 : ['rails', 'sum', 'values', 'array', 'hashes']\n",
      "Sor: 159624 : ['errors', 'vs', 'think', 'recognising', 'classes']\n",
      "Sor: 4323 : ['input', 'html', 'tag', 'parsing', 'properly', 'php']\n",
      "Sor: 96401 : ['bus', 'error', 'using', 'gulp', 'watch', 'foundation', 'sass']\n"
     ]
    }
   ],
   "source": [
    "# Some basic info about corpus:\n",
    "print('A korpusz sorainak száma:', len(SO_corpus))\n",
    "print('A korpusz teljes méret, i.e., az összes szó száma:', recursive_len(SO_corpus))\n",
    "print('Típus:', type(SO_corpus))\n",
    "print('néhány példa sor:')\n",
    "for j in range(5):\n",
    "    i = random.randint(0, len(SO_corpus))\n",
    "    print ('Sor:', i, ':', SO_corpus[i])"
   ]
  },
  {
   "cell_type": "markdown",
   "id": "c3439baf-dd71-4c34-bc1f-c16a6e61a4bd",
   "metadata": {},
   "source": [
    "Gensim - Word2Vec modell építése CBOW módszerrel"
   ]
  },
  {
   "cell_type": "markdown",
   "id": "06dd5c34-a43c-4c1b-8972-670e57443714",
   "metadata": {},
   "source": [
    "A tanítás egy rejtett réteggel történik, figyelembe veszi a környezetet és a tanult háló rejtett rétegét használja fel szóvektorként. Két fő fajtája:\n",
    "\n",
    "**CBOW:** A környezet alapján tippeljük meg mi a köztes szó. Bemenet egy adott méretű környezet (pl. 2-2 szó előtte és utána), tanulandó a közöttük levő szó.\n",
    "\n",
    "**SKIP-GRAM:** Adott szó alapján tippeljük meg a környezet szavait. Bemenet egy szó, tanulandó a környezete pl. 2-2 szó előtte és utána.\n",
    "\n",
    "Bemenet és kimenet kódolása:\n",
    "\n",
    "* Bemenet one-hot encodinggal: teljes szótár méretének megfelelő vektor, ahol a bemeneti szónak megfelelő pozícióban 1 szerepel, minden más pozícióban 0.\n",
    "\n",
    "* Kimenet valószínűségekkel: szótár méretű vektor, a legnagyobb érték mutatja a háló által tippelt szó pozícióját."
   ]
  },
  {
   "cell_type": "markdown",
   "id": "1efe3a35-74dc-482e-9488-f31e448d3c9d",
   "metadata": {},
   "source": [
    "![Architecture-of-Word2Vec-models-CBOW-and-Skip-Gram.png](data:image/png;base64,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)\n"
   ]
  },
  {
   "cell_type": "markdown",
   "id": "a1523a1d-b64f-47a3-927f-58f8f0e90c50",
   "metadata": {},
   "source": [
    "### Skip-gram leírás\n",
    "https://towardsdatascience.com/skip-gram-nlp-context-words-prediction-algorithm-5bbf34f84e0c"
   ]
  },
  {
   "cell_type": "markdown",
   "id": "e6cf5efc-28be-4847-a194-6dafcbb3a6ee",
   "metadata": {},
   "source": [
    "![Skip-gram-example.png](data:image/png;base64,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)"
   ]
  },
  {
   "cell_type": "code",
   "execution_count": 22,
   "id": "8589b8d5-5a58-4677-81b7-3d9dc6a5dba5",
   "metadata": {},
   "outputs": [
    {
     "name": "stdout",
     "output_type": "stream",
     "text": [
      "CPU times: total: 53.6 s\n",
      "Wall time: 15.3 s\n"
     ]
    }
   ],
   "source": [
    "%%time\n",
    "# Set values for various training parameters\n",
    "\n",
    "# reference Google line:\n",
    "#./word2vec -train corpus_1line.csv -output vectors_cbow.bin -cbow 1 -size 200 -window 8 -negative 25 -hs 0 -sample 1e-4 -threads 12 -binary 1 -iter 15 -alpha 0.025\n",
    "\n",
    "feature_size = 200    # Word vector dimensionality  \n",
    "window_context = 8    # Context window size                                                                                    \n",
    "min_word_count = 5    # Minimum word count to filter frequently occured words\n",
    "sample = 1e-4         # Downsample setting for frequent words\n",
    "skipgram = 0          # 0 for CBOW, 1 for skip-gram\n",
    "negative = 25         # value for negative sampling\n",
    "hs = 0                # ({0, 1}, optional) – If 1, hierarchical softmax will be used for model training. If 0, and negative is non-zero, negative sampling will be used.\n",
    "niter = 15\n",
    "\n",
    "w2v_model = word2vec.Word2Vec(SO_corpus, \n",
    "                              size=feature_size, \n",
    "                              sg=skipgram, \n",
    "                              negative=negative, \n",
    "                              hs=hs,\n",
    "                              window=window_context, \n",
    "                              min_count=min_word_count,\n",
    "                              sample=sample, \n",
    "                              iter=niter,\n",
    "                              workers=cores)"
   ]
  },
  {
   "cell_type": "markdown",
   "id": "b6b73082-4508-48c8-b08e-c5a0e1141257",
   "metadata": {},
   "source": [
    "A modell tulajdonságai:"
   ]
  },
  {
   "cell_type": "code",
   "execution_count": 23,
   "id": "b96413ff-c0fb-4f8c-8ae7-0c297250006b",
   "metadata": {},
   "outputs": [
    {
     "name": "stdout",
     "output_type": "stream",
     "text": [
      "Word2Vec(vocab=8057, size=200, alpha=0.025)\n"
     ]
    }
   ],
   "source": [
    "print(w2v_model)"
   ]
  },
  {
   "cell_type": "markdown",
   "id": "85e0aea0-6595-4b78-9bfc-c340f111e304",
   "metadata": {},
   "source": [
    "Példák hasonlóságokra: néhány szó és a hozzá 10 leghasonlóbb a korpuszból."
   ]
  },
  {
   "cell_type": "code",
   "execution_count": 24,
   "id": "881f1720-7f9a-4c80-a4a3-244b273519d9",
   "metadata": {},
   "outputs": [
    {
     "data": {
      "text/html": [
       "<div>\n",
       "<style scoped>\n",
       "    .dataframe tbody tr th:only-of-type {\n",
       "        vertical-align: middle;\n",
       "    }\n",
       "\n",
       "    .dataframe tbody tr th {\n",
       "        vertical-align: top;\n",
       "    }\n",
       "\n",
       "    .dataframe thead th {\n",
       "        text-align: right;\n",
       "    }\n",
       "</style>\n",
       "<table border=\"1\" class=\"dataframe\">\n",
       "  <thead>\n",
       "    <tr style=\"text-align: right;\">\n",
       "      <th></th>\n",
       "      <th>array</th>\n",
       "      <th>loop</th>\n",
       "      <th>javascript</th>\n",
       "      <th>python</th>\n",
       "      <th>digit</th>\n",
       "      <th>website</th>\n",
       "      <th>recursion</th>\n",
       "      <th>data</th>\n",
       "      <th>table</th>\n",
       "      <th>ajax</th>\n",
       "    </tr>\n",
       "  </thead>\n",
       "  <tbody>\n",
       "    <tr>\n",
       "      <th>0</th>\n",
       "      <td>arrays</td>\n",
       "      <td>iteration</td>\n",
       "      <td>jquery</td>\n",
       "      <td>dict</td>\n",
       "      <td>digits</td>\n",
       "      <td>site</td>\n",
       "      <td>recursive</td>\n",
       "      <td>databse</td>\n",
       "      <td>tables</td>\n",
       "      <td>success</td>\n",
       "    </tr>\n",
       "    <tr>\n",
       "      <th>1</th>\n",
       "      <td>multidimensional</td>\n",
       "      <td>foreach</td>\n",
       "      <td>onchange</td>\n",
       "      <td>haskell</td>\n",
       "      <td>upto</td>\n",
       "      <td>websites</td>\n",
       "      <td>factorial</td>\n",
       "      <td>retrieved</td>\n",
       "      <td>row</td>\n",
       "      <td>getjson</td>\n",
       "    </tr>\n",
       "    <tr>\n",
       "      <th>2</th>\n",
       "      <td>associative</td>\n",
       "      <td>loops</td>\n",
       "      <td>vanilla</td>\n",
       "      <td>comprehension</td>\n",
       "      <td>numbers</td>\n",
       "      <td>viewing</td>\n",
       "      <td>iterative</td>\n",
       "      <td>values</td>\n",
       "      <td>rows</td>\n",
       "      <td>post</td>\n",
       "    </tr>\n",
       "    <tr>\n",
       "      <th>3</th>\n",
       "      <td>indexes</td>\n",
       "      <td>iterations</td>\n",
       "      <td>js</td>\n",
       "      <td>perl</td>\n",
       "      <td>number</td>\n",
       "      <td>pages</td>\n",
       "      <td>depth</td>\n",
       "      <td>information</td>\n",
       "      <td>column</td>\n",
       "      <td>callback</td>\n",
       "    </tr>\n",
       "    <tr>\n",
       "      <th>4</th>\n",
       "      <td>ints</td>\n",
       "      <td>looping</td>\n",
       "      <td>innerhtml</td>\n",
       "      <td>slicing</td>\n",
       "      <td>multiples</td>\n",
       "      <td>friendly</td>\n",
       "      <td>fibonacci</td>\n",
       "      <td>datas</td>\n",
       "      <td>pivot</td>\n",
       "      <td>request</td>\n",
       "    </tr>\n",
       "    <tr>\n",
       "      <th>5</th>\n",
       "      <td>dimensional</td>\n",
       "      <td>met</td>\n",
       "      <td>addclass</td>\n",
       "      <td>tuples</td>\n",
       "      <td>four</td>\n",
       "      <td>sites</td>\n",
       "      <td>traversal</td>\n",
       "      <td>retrive</td>\n",
       "      <td>records</td>\n",
       "      <td>axios</td>\n",
       "    </tr>\n",
       "    <tr>\n",
       "      <th>6</th>\n",
       "      <td>dimension</td>\n",
       "      <td>continue</td>\n",
       "      <td>attr</td>\n",
       "      <td>bunch</td>\n",
       "      <td>divisible</td>\n",
       "      <td>landing</td>\n",
       "      <td>quicksort</td>\n",
       "      <td>filed</td>\n",
       "      <td>columns</td>\n",
       "      <td>synchronous</td>\n",
       "    </tr>\n",
       "    <tr>\n",
       "      <th>7</th>\n",
       "      <td>nsmutablearray</td>\n",
       "      <td>infinite</td>\n",
       "      <td>textarea</td>\n",
       "      <td>dicts</td>\n",
       "      <td>consecutive</td>\n",
       "      <td>redirects</td>\n",
       "      <td>backtracking</td>\n",
       "      <td>rows</td>\n",
       "      <td>databse</td>\n",
       "      <td>submitting</td>\n",
       "    </tr>\n",
       "    <tr>\n",
       "      <th>8</th>\n",
       "      <td>pairs</td>\n",
       "      <td>increments</td>\n",
       "      <td>dom</td>\n",
       "      <td>bash</td>\n",
       "      <td>zeros</td>\n",
       "      <td>cookies</td>\n",
       "      <td>haskell</td>\n",
       "      <td>blob</td>\n",
       "      <td>alter</td>\n",
       "      <td>refreshing</td>\n",
       "    </tr>\n",
       "    <tr>\n",
       "      <th>9</th>\n",
       "      <td>hashtable</td>\n",
       "      <td>infinitely</td>\n",
       "      <td>getelementsbyclassname</td>\n",
       "      <td>recursively</td>\n",
       "      <td>five</td>\n",
       "      <td>seo</td>\n",
       "      <td>summation</td>\n",
       "      <td>retrieving</td>\n",
       "      <td>colum</td>\n",
       "      <td>onchange</td>\n",
       "    </tr>\n",
       "  </tbody>\n",
       "</table>\n",
       "</div>"
      ],
      "text/plain": [
       "              array        loop              javascript         python  \\\n",
       "0            arrays   iteration                  jquery           dict   \n",
       "1  multidimensional     foreach                onchange        haskell   \n",
       "2       associative       loops                 vanilla  comprehension   \n",
       "3           indexes  iterations                      js           perl   \n",
       "4              ints     looping               innerhtml        slicing   \n",
       "5       dimensional         met                addclass         tuples   \n",
       "6         dimension    continue                    attr          bunch   \n",
       "7    nsmutablearray    infinite                textarea          dicts   \n",
       "8             pairs  increments                     dom           bash   \n",
       "9         hashtable  infinitely  getelementsbyclassname    recursively   \n",
       "\n",
       "         digit    website     recursion         data    table         ajax  \n",
       "0       digits       site     recursive      databse   tables      success  \n",
       "1         upto   websites     factorial    retrieved      row      getjson  \n",
       "2      numbers    viewing     iterative       values     rows         post  \n",
       "3       number      pages         depth  information   column     callback  \n",
       "4    multiples   friendly     fibonacci        datas    pivot      request  \n",
       "5         four      sites     traversal      retrive  records        axios  \n",
       "6    divisible    landing     quicksort        filed  columns  synchronous  \n",
       "7  consecutive  redirects  backtracking         rows  databse   submitting  \n",
       "8        zeros    cookies       haskell         blob    alter   refreshing  \n",
       "9         five        seo     summation   retrieving    colum     onchange  "
      ]
     },
     "execution_count": 24,
     "metadata": {},
     "output_type": "execute_result"
    }
   ],
   "source": [
    "similar_words = {search_term: [item[0] for item in w2v_model.wv.most_similar([search_term], topn=10)]\n",
    "                  for search_term in ['array', 'loop', 'javascript', 'python', 'digit', 'website', 'recursion','data', 'table', 'ajax']}\n",
    "\n",
    "\n",
    "res_gensim = pd.DataFrame(similar_words)\n",
    "res_gensim"
   ]
  },
  {
   "cell_type": "code",
   "execution_count": 25,
   "id": "e427d435-41da-4473-a215-f5d54c8c1c4a",
   "metadata": {},
   "outputs": [
    {
     "name": "stdout",
     "output_type": "stream",
     "text": [
      "LOOP szó Word2Vec vektorai: \n"
     ]
    },
    {
     "data": {
      "text/plain": [
       "array([-0.2543293 ,  0.08424114, -0.03054255, -0.37772417, -0.27983963,\n",
       "        0.4010347 ,  0.01055786, -0.28484252,  0.3527022 , -0.11066782,\n",
       "       -0.43755904,  0.28618872, -0.03018028,  0.21302694,  0.15503429,\n",
       "        0.1779158 ,  0.5844276 ,  0.4134383 ,  0.03749823, -0.49401194,\n",
       "        0.34102434,  0.05232214, -0.1563386 , -0.14244643,  0.06507845,\n",
       "       -0.49961355, -0.02889578, -0.597449  ,  0.33967927,  0.07398856,\n",
       "       -0.27444202,  0.05210797, -0.07107647, -0.03388584, -0.51306427,\n",
       "       -0.29855642,  0.47103128, -0.79848915, -0.6038515 , -0.18004826,\n",
       "        0.16113763, -0.25427002,  0.08617046, -0.8725433 , -0.36105096,\n",
       "        0.59728163, -0.06345732,  0.07499752, -0.3282004 , -0.4439093 ,\n",
       "       -0.4682479 ,  0.09418766, -0.10048986,  0.5871073 , -0.68193555,\n",
       "        0.3933159 ,  0.1079231 , -0.45184687, -0.09933101,  0.2925764 ,\n",
       "        0.06987556, -0.07478516,  0.0933056 ,  0.114369  ,  0.15710783,\n",
       "       -0.60709137, -0.17856039, -0.1462013 , -0.27135807, -0.58241415,\n",
       "       -0.6996251 ,  0.22443612, -0.3109042 , -0.08648564,  0.02683028,\n",
       "       -0.13452783,  0.4990728 ,  0.17866749, -0.16107759,  1.1882179 ,\n",
       "        0.6731903 ,  0.3236119 , -0.21940978,  0.17947093, -0.15472569,\n",
       "       -0.11469114, -0.774083  , -0.5647915 , -0.4672981 ,  0.58056426,\n",
       "       -0.4037123 , -0.00566569, -0.1404448 , -0.16412435, -0.18776172,\n",
       "       -0.1781505 , -0.57029945,  0.24379785, -0.7017025 ,  0.19846123,\n",
       "        0.19844912, -0.96177375, -0.1018729 ,  0.8922693 , -0.09675281,\n",
       "        0.1122612 , -0.42281178, -0.20862131,  0.5276374 , -0.2710401 ,\n",
       "       -0.10911845, -0.3108297 , -0.41662404, -0.17707007,  0.83985335,\n",
       "       -0.5842034 , -1.1473397 , -0.09345775,  0.01312035,  0.50229806,\n",
       "        0.7601227 , -0.59727573, -0.11498927,  0.08495685, -0.6984091 ,\n",
       "       -0.10453273,  0.3707646 ,  0.36909664,  0.5769411 , -0.22032453,\n",
       "       -0.15014237,  0.04184904, -0.17433016, -0.09697642, -0.00914697,\n",
       "       -0.3756251 ,  0.02758276,  0.3679411 ,  0.95586634,  0.1960214 ,\n",
       "        0.28510633,  0.43015224, -0.12590915, -1.373866  ,  0.33888504,\n",
       "        0.05074634,  0.43582463, -0.32153496,  0.395688  , -0.26827422,\n",
       "       -0.95824355,  0.1978144 , -0.73843396, -0.48892558, -0.26569906,\n",
       "       -0.5757469 , -0.3626416 ,  0.7556838 , -0.04898426,  0.60552084,\n",
       "        0.15186276,  0.18844958,  0.13794465, -0.34797966, -0.20331582,\n",
       "       -0.455147  ,  0.04067541, -0.1715354 , -0.24642432,  0.09312832,\n",
       "        0.06365824, -0.14677589,  0.18062617,  0.59922826, -0.04614978,\n",
       "        0.41582575, -0.05710893,  1.0371418 , -0.06445184,  0.89540815,\n",
       "        0.33504006, -0.60647625,  0.20782608, -0.44787434,  0.3925595 ,\n",
       "       -0.26299018,  0.19255438,  0.00665335,  0.8683731 ,  0.5329273 ,\n",
       "        0.5117949 , -0.27087706, -0.20944756, -0.2784614 ,  0.19707876,\n",
       "        0.8753412 , -0.1060193 , -0.4384892 , -0.17779785, -0.4579248 ],\n",
       "      dtype=float32)"
      ]
     },
     "execution_count": 25,
     "metadata": {},
     "output_type": "execute_result"
    }
   ],
   "source": [
    "print('LOOP szó Word2Vec vektorai: ')\n",
    "w2v_model.wv.get_vector('loop')"
   ]
  },
  {
   "cell_type": "markdown",
   "id": "9cc29c40-c723-4158-8e3d-8721bcea01e8",
   "metadata": {},
   "source": [
    "Vizualizáljuk a DataFrameben megjelent szavakat!"
   ]
  },
  {
   "cell_type": "code",
   "execution_count": 26,
   "id": "cc344ee3-2f65-4ccc-aa46-802ae17a8184",
   "metadata": {},
   "outputs": [],
   "source": [
    "from whatlies.language import GensimLanguage"
   ]
  },
  {
   "cell_type": "code",
   "execution_count": 27,
   "id": "d96b8c97-7296-462b-8ee5-c1c37b0d0c4a",
   "metadata": {},
   "outputs": [],
   "source": [
    "w2v_model.wv.save(\"word2vec.kv\")"
   ]
  },
  {
   "cell_type": "code",
   "execution_count": 28,
   "id": "d2377da9-17ff-4c6a-95b9-99c8c587252b",
   "metadata": {},
   "outputs": [],
   "source": [
    "lang_w2v = GensimLanguage(\"word2vec.kv\")"
   ]
  },
  {
   "cell_type": "code",
   "execution_count": 29,
   "id": "adf69152-7343-49bd-9dba-ec52efa791d2",
   "metadata": {},
   "outputs": [],
   "source": [
    "words_w2v = set()\n",
    "for column in res_gensim:\n",
    "    for word in res_gensim[column]:\n",
    "        words_w2v.add(word)"
   ]
  },
  {
   "cell_type": "code",
   "execution_count": 30,
   "id": "cd8e26e7-ae2c-44ae-8968-129b460d6924",
   "metadata": {},
   "outputs": [
    {
     "name": "stderr",
     "output_type": "stream",
     "text": [
      "D:\\Users\\t05cf\\anaconda3\\lib\\site-packages\\sklearn\\manifold\\_t_sne.py:780: FutureWarning: The default initialization in TSNE will change from 'random' to 'pca' in 1.2.\n",
      "  warnings.warn(\n",
      "D:\\Users\\t05cf\\anaconda3\\lib\\site-packages\\sklearn\\manifold\\_t_sne.py:790: FutureWarning: The default learning rate in TSNE will change from 200.0 to 'auto' in 1.2.\n",
      "  warnings.warn(\n",
      "D:\\Users\\t05cf\\anaconda3\\lib\\site-packages\\sklearn\\manifold\\_t_sne.py:780: FutureWarning: The default initialization in TSNE will change from 'random' to 'pca' in 1.2.\n",
      "  warnings.warn(\n",
      "D:\\Users\\t05cf\\anaconda3\\lib\\site-packages\\sklearn\\manifold\\_t_sne.py:790: FutureWarning: The default learning rate in TSNE will change from 200.0 to 'auto' in 1.2.\n",
      "  warnings.warn(\n"
     ]
    }
   ],
   "source": [
    "emb_w2v = lang_w2v[list(words_w2v)[:40]]\n",
    "pca_w2v = emb_w2v.transform(Pca(2)).plot_interactive(title=\"Word2Vec: PCA\")\n",
    "tsne_w2v = emb_w2v.transform(Tsne(n_components=2, random_state=0, n_iter=10000, perplexity=3)).plot_interactive(title=\"Word2Vec: t-SNE\")\n",
    "umap_w2v = emb_w2v.transform(Umap(2)).plot_interactive(title=\"Word2Vec: UMAP\")"
   ]
  },
  {
   "cell_type": "code",
   "execution_count": 31,
   "id": "269918a8-bb3f-4bc9-a11a-e0e1525c8df3",
   "metadata": {},
   "outputs": [
    {
     "data": {
      "text/html": [
       "\n",
       "<div id=\"altair-viz-7623d5220c214235ac93fbd0c25bc7b5\"></div>\n",
       "<script type=\"text/javascript\">\n",
       "  var VEGA_DEBUG = (typeof VEGA_DEBUG == \"undefined\") ? {} : VEGA_DEBUG;\n",
       "  (function(spec, embedOpt){\n",
       "    let outputDiv = document.currentScript.previousElementSibling;\n",
       "    if (outputDiv.id !== \"altair-viz-7623d5220c214235ac93fbd0c25bc7b5\") {\n",
       "      outputDiv = document.getElementById(\"altair-viz-7623d5220c214235ac93fbd0c25bc7b5\");\n",
       "    }\n",
       "    const paths = {\n",
       "      \"vega\": \"https://cdn.jsdelivr.net/npm//vega@5?noext\",\n",
       "      \"vega-lib\": \"https://cdn.jsdelivr.net/npm//vega-lib?noext\",\n",
       "      \"vega-lite\": \"https://cdn.jsdelivr.net/npm//vega-lite@4.17.0?noext\",\n",
       "      \"vega-embed\": \"https://cdn.jsdelivr.net/npm//vega-embed@6?noext\",\n",
       "    };\n",
       "\n",
       "    function maybeLoadScript(lib, version) {\n",
       "      var key = `${lib.replace(\"-\", \"\")}_version`;\n",
       "      return (VEGA_DEBUG[key] == version) ?\n",
       "        Promise.resolve(paths[lib]) :\n",
       "        new Promise(function(resolve, reject) {\n",
       "          var s = document.createElement('script');\n",
       "          document.getElementsByTagName(\"head\")[0].appendChild(s);\n",
       "          s.async = true;\n",
       "          s.onload = () => {\n",
       "            VEGA_DEBUG[key] = version;\n",
       "            return resolve(paths[lib]);\n",
       "          };\n",
       "          s.onerror = () => reject(`Error loading script: ${paths[lib]}`);\n",
       "          s.src = paths[lib];\n",
       "        });\n",
       "    }\n",
       "\n",
       "    function showError(err) {\n",
       "      outputDiv.innerHTML = `<div class=\"error\" style=\"color:red;\">${err}</div>`;\n",
       "      throw err;\n",
       "    }\n",
       "\n",
       "    function displayChart(vegaEmbed) {\n",
       "      vegaEmbed(outputDiv, spec, embedOpt)\n",
       "        .catch(err => showError(`Javascript Error: ${err.message}<br>This usually means there's a typo in your chart specification. See the javascript console for the full traceback.`));\n",
       "    }\n",
       "\n",
       "    if(typeof define === \"function\" && define.amd) {\n",
       "      requirejs.config({paths});\n",
       "      require([\"vega-embed\"], displayChart, err => showError(`Error loading script: ${err.message}`));\n",
       "    } else {\n",
       "      maybeLoadScript(\"vega\", \"5\")\n",
       "        .then(() => maybeLoadScript(\"vega-lite\", \"4.17.0\"))\n",
       "        .then(() => maybeLoadScript(\"vega-embed\", \"6\"))\n",
       "        .catch(showError)\n",
       "        .then(() => displayChart(vegaEmbed));\n",
       "    }\n",
       "  })({\"config\": {\"view\": {\"continuousWidth\": 400, \"continuousHeight\": 300}}, \"hconcat\": [{\"layer\": [{\"mark\": {\"type\": \"circle\", \"size\": 60}, \"encoding\": {\"color\": {\"field\": \"\", \"legend\": null, \"type\": \"nominal\"}, \"tooltip\": [{\"field\": \"name\", \"type\": \"nominal\"}, {\"field\": \"original\", \"type\": \"nominal\"}], \"x\": {\"axis\": {\"title\": \"Dimension 0\"}, \"field\": \"x_axis\", \"type\": \"quantitative\"}, \"y\": {\"axis\": {\"title\": \"Dimension 1\"}, \"field\": \"y_axis\", \"type\": \"quantitative\"}}, \"selection\": {\"selector008\": {\"type\": \"interval\", \"bind\": \"scales\", \"encodings\": [\"x\", \"y\"]}}, \"title\": \"Word2Vec: PCA\"}, {\"mark\": {\"type\": \"text\", \"color\": \"black\", \"dx\": -15, \"dy\": 3}, \"encoding\": {\"text\": {\"field\": \"original\", \"type\": \"nominal\"}, \"x\": {\"field\": \"x_axis\", \"type\": \"quantitative\"}, \"y\": {\"field\": \"y_axis\", \"type\": \"quantitative\"}}}], \"data\": {\"name\": \"data-c9613a4422fbe11911d45b6977c2e91e\"}}, {\"layer\": [{\"mark\": {\"type\": \"circle\", \"size\": 60}, \"encoding\": {\"color\": {\"field\": \"\", \"legend\": null, \"type\": \"nominal\"}, \"tooltip\": [{\"field\": \"name\", \"type\": \"nominal\"}, {\"field\": \"original\", \"type\": \"nominal\"}], \"x\": {\"axis\": {\"title\": \"Dimension 0\"}, \"field\": \"x_axis\", \"type\": \"quantitative\"}, \"y\": {\"axis\": {\"title\": \"Dimension 1\"}, \"field\": \"y_axis\", \"type\": \"quantitative\"}}, \"selection\": {\"selector009\": {\"type\": \"interval\", \"bind\": \"scales\", \"encodings\": [\"x\", \"y\"]}}, \"title\": \"Word2Vec: t-SNE\"}, {\"mark\": {\"type\": \"text\", \"color\": \"black\", \"dx\": -15, \"dy\": 3}, \"encoding\": {\"text\": {\"field\": \"original\", \"type\": \"nominal\"}, \"x\": {\"field\": \"x_axis\", \"type\": \"quantitative\"}, \"y\": {\"field\": \"y_axis\", \"type\": \"quantitative\"}}}], \"data\": {\"name\": \"data-c703f6a7410c044d5d1631c567b663fa\"}}, {\"layer\": [{\"mark\": {\"type\": \"circle\", \"size\": 60}, \"encoding\": {\"color\": {\"field\": \"\", \"legend\": null, \"type\": \"nominal\"}, \"tooltip\": [{\"field\": \"name\", \"type\": \"nominal\"}, {\"field\": \"original\", \"type\": \"nominal\"}], \"x\": {\"axis\": {\"title\": \"Dimension 0\"}, \"field\": \"x_axis\", \"type\": \"quantitative\"}, \"y\": {\"axis\": {\"title\": \"Dimension 1\"}, \"field\": \"y_axis\", \"type\": \"quantitative\"}}, \"selection\": {\"selector010\": {\"type\": \"interval\", \"bind\": \"scales\", \"encodings\": [\"x\", \"y\"]}}, \"title\": \"Word2Vec: UMAP\"}, {\"mark\": {\"type\": \"text\", \"color\": \"black\", \"dx\": -15, \"dy\": 3}, \"encoding\": {\"text\": {\"field\": \"original\", \"type\": \"nominal\"}, \"x\": {\"field\": \"x_axis\", \"type\": \"quantitative\"}, \"y\": {\"field\": \"y_axis\", \"type\": \"quantitative\"}}}], \"data\": {\"name\": \"data-bff2ece66e7ab104dc176654a3427fc4\"}}], \"$schema\": \"https://vega.github.io/schema/vega-lite/v4.17.0.json\", \"datasets\": {\"data-c9613a4422fbe11911d45b6977c2e91e\": [{\"x_axis\": -0.40177491307258606, \"y_axis\": 0.7520607113838196, \"name\": \"colum\", \"original\": \"colum\"}, {\"x_axis\": -3.091002941131592, \"y_axis\": 1.6621500253677368, \"name\": \"cookies\", \"original\": \"cookies\"}, {\"x_axis\": -2.526962995529175, \"y_axis\": 2.6437432765960693, \"name\": \"submitting\", \"original\": \"submitting\"}, {\"x_axis\": 0.7958456873893738, \"y_axis\": -1.3944908380508423, \"name\": \"comprehension\", \"original\": \"comprehension\"}, {\"x_axis\": 0.4676674008369446, \"y_axis\": -1.7965677976608276, \"name\": \"recursively\", \"original\": \"recursively\"}, {\"x_axis\": 1.9813880920410156, \"y_axis\": -1.5667481422424316, \"name\": \"dict\", \"original\": \"dict\"}, {\"x_axis\": -1.429160714149475, \"y_axis\": 2.9981186389923096, \"name\": \"information\", \"original\": \"information\"}, {\"x_axis\": 0.4271962344646454, \"y_axis\": -3.3518166542053223, \"name\": \"factorial\", \"original\": \"factorial\"}, {\"x_axis\": 2.617528200149536, \"y_axis\": -1.766353964805603, \"name\": \"arrays\", \"original\": \"arrays\"}, {\"x_axis\": -0.6336695551872253, \"y_axis\": -1.3815295696258545, \"name\": \"traversal\", \"original\": \"traversal\"}, {\"x_axis\": 1.46205472946167, \"y_axis\": -1.6719574928283691, \"name\": \"number\", \"original\": \"number\"}, {\"x_axis\": -1.562974452972412, \"y_axis\": 0.519178032875061, \"name\": \"addclass\", \"original\": \"addclass\"}, {\"x_axis\": -0.7943423986434937, \"y_axis\": 1.0054435729980469, \"name\": \"filed\", \"original\": \"filed\"}, {\"x_axis\": -1.9301702976226807, \"y_axis\": 0.8059737086296082, \"name\": \"landing\", \"original\": \"landing\"}, {\"x_axis\": 5.287940502166748, \"y_axis\": 3.778237819671631, \"name\": \"columns\", \"original\": \"columns\"}, {\"x_axis\": 2.791621208190918, \"y_axis\": -1.45878005027771, \"name\": \"pairs\", \"original\": \"pairs\"}, {\"x_axis\": 3.3839638233184814, \"y_axis\": -1.413913607597351, \"name\": \"dimensional\", \"original\": \"dimensional\"}, {\"x_axis\": -1.3704887628555298, \"y_axis\": 1.416426181793213, \"name\": \"blob\", \"original\": \"blob\"}, {\"x_axis\": -0.4191794693470001, \"y_axis\": -0.3205099403858185, \"name\": \"upto\", \"original\": \"upto\"}, {\"x_axis\": 0.34583142399787903, \"y_axis\": -0.9103100299835205, \"name\": \"multiples\", \"original\": \"multiples\"}, {\"x_axis\": -1.2451671361923218, \"y_axis\": 1.383323073387146, \"name\": \"retrieved\", \"original\": \"retrieved\"}, {\"x_axis\": -2.9386403560638428, \"y_axis\": 1.4271302223205566, \"name\": \"success\", \"original\": \"success\"}, {\"x_axis\": -2.617335557937622, \"y_axis\": 1.116851806640625, \"name\": \"redirects\", \"original\": \"redirects\"}, {\"x_axis\": -0.3460673391819, \"y_axis\": -0.5781214833259583, \"name\": \"perl\", \"original\": \"perl\"}, {\"x_axis\": -1.6314164400100708, \"y_axis\": 0.6103246808052063, \"name\": \"innerhtml\", \"original\": \"innerhtml\"}, {\"x_axis\": 5.304418087005615, \"y_axis\": 3.964155435562134, \"name\": \"column\", \"original\": \"column\"}, {\"x_axis\": -0.7674013376235962, \"y_axis\": -1.5850777626037598, \"name\": \"quicksort\", \"original\": \"quicksort\"}, {\"x_axis\": -1.242434024810791, \"y_axis\": -0.8283342123031616, \"name\": \"infinitely\", \"original\": \"infinitely\"}, {\"x_axis\": -0.6628004312515259, \"y_axis\": -0.9716907143592834, \"name\": \"bash\", \"original\": \"bash\"}, {\"x_axis\": 5.026239395141602, \"y_axis\": 3.8626716136932373, \"name\": \"rows\", \"original\": \"rows\"}, {\"x_axis\": -4.070222854614258, \"y_axis\": 2.0770068168640137, \"name\": \"sites\", \"original\": \"sites\"}, {\"x_axis\": 3.501492977142334, \"y_axis\": 1.44960618019104, \"name\": \"values\", \"original\": \"values\"}, {\"x_axis\": -0.23906007409095764, \"y_axis\": -2.3898699283599854, \"name\": \"depth\", \"original\": \"depth\"}, {\"x_axis\": 0.2666902244091034, \"y_axis\": -1.446681022644043, \"name\": \"divisible\", \"original\": \"divisible\"}, {\"x_axis\": 0.4263492822647095, \"y_axis\": -0.3379742205142975, \"name\": \"met\", \"original\": \"met\"}, {\"x_axis\": -1.111280083656311, \"y_axis\": -1.2661362886428833, \"name\": \"backtracking\", \"original\": \"backtracking\"}, {\"x_axis\": 0.481412410736084, \"y_axis\": -3.1368894577026367, \"name\": \"haskell\", \"original\": \"haskell\"}, {\"x_axis\": -2.637108087539673, \"y_axis\": 1.1089401245117188, \"name\": \"viewing\", \"original\": \"viewing\"}, {\"x_axis\": 0.975113570690155, \"y_axis\": -3.411356210708618, \"name\": \"fibonacci\", \"original\": \"fibonacci\"}, {\"x_axis\": -1.874096155166626, \"y_axis\": 0.403769850730896, \"name\": \"getjson\", \"original\": \"getjson\"}], \"data-c703f6a7410c044d5d1631c567b663fa\": [{\"x_axis\": -106.69835662841797, \"y_axis\": -11.94015884399414, \"name\": \"colum\", \"original\": \"colum\"}, {\"x_axis\": -223.67283630371094, \"y_axis\": -25.032428741455078, \"name\": \"cookies\", \"original\": \"cookies\"}, {\"x_axis\": -160.78871154785156, \"y_axis\": 11.261436462402344, \"name\": \"submitting\", \"original\": \"submitting\"}, {\"x_axis\": 99.51316833496094, \"y_axis\": 105.27033233642578, \"name\": \"comprehension\", \"original\": \"comprehension\"}, {\"x_axis\": 126.1526107788086, \"y_axis\": -14.62858772277832, \"name\": \"recursively\", \"original\": \"recursively\"}, {\"x_axis\": 119.71431732177734, \"y_axis\": 104.8685302734375, \"name\": \"dict\", \"original\": \"dict\"}, {\"x_axis\": -130.82608032226562, \"y_axis\": 23.752212524414062, \"name\": \"information\", \"original\": \"information\"}, {\"x_axis\": 64.94042205810547, \"y_axis\": 44.281070709228516, \"name\": \"factorial\", \"original\": \"factorial\"}, {\"x_axis\": 66.80548858642578, \"y_axis\": 186.54156494140625, \"name\": \"arrays\", \"original\": \"arrays\"}, {\"x_axis\": 146.6848602294922, \"y_axis\": -0.43146127462387085, \"name\": \"traversal\", \"original\": \"traversal\"}, {\"x_axis\": 47.922664642333984, \"y_axis\": 106.11880493164062, \"name\": \"number\", \"original\": \"number\"}, {\"x_axis\": -134.4492645263672, \"y_axis\": -80.94197845458984, \"name\": \"addclass\", \"original\": \"addclass\"}, {\"x_axis\": -119.47125244140625, \"y_axis\": -7.187826633453369, \"name\": \"filed\", \"original\": \"filed\"}, {\"x_axis\": -191.4315948486328, \"y_axis\": -36.51554489135742, \"name\": \"landing\", \"original\": \"landing\"}, {\"x_axis\": 196.60995483398438, \"y_axis\": 285.4200744628906, \"name\": \"columns\", \"original\": \"columns\"}, {\"x_axis\": 101.47476196289062, \"y_axis\": 126.9774398803711, \"name\": \"pairs\", \"original\": \"pairs\"}, {\"x_axis\": 63.72999572753906, \"y_axis\": 199.0985870361328, \"name\": \"dimensional\", \"original\": \"dimensional\"}, {\"x_axis\": -145.61502075195312, \"y_axis\": -15.702635765075684, \"name\": \"blob\", \"original\": \"blob\"}, {\"x_axis\": 41.846397399902344, \"y_axis\": 79.62134552001953, \"name\": \"upto\", \"original\": \"upto\"}, {\"x_axis\": 59.35308837890625, \"y_axis\": 84.83964538574219, \"name\": \"multiples\", \"original\": \"multiples\"}, {\"x_axis\": -137.0548858642578, \"y_axis\": 1.2080860137939453, \"name\": \"retrieved\", \"original\": \"retrieved\"}, {\"x_axis\": -160.88746643066406, \"y_axis\": -100.47952270507812, \"name\": \"success\", \"original\": \"success\"}, {\"x_axis\": -201.24356079101562, \"y_axis\": -27.32032012939453, \"name\": \"redirects\", \"original\": \"redirects\"}, {\"x_axis\": 76.77285766601562, \"y_axis\": -84.85009002685547, \"name\": \"perl\", \"original\": \"perl\"}, {\"x_axis\": -116.53136444091797, \"y_axis\": -88.14330291748047, \"name\": \"innerhtml\", \"original\": \"innerhtml\"}, {\"x_axis\": 182.95628356933594, \"y_axis\": 297.0887451171875, \"name\": \"column\", \"original\": \"column\"}, {\"x_axis\": 142.91567993164062, \"y_axis\": 19.385400772094727, \"name\": \"quicksort\", \"original\": \"quicksort\"}, {\"x_axis\": 163.64894104003906, \"y_axis\": 40.224639892578125, \"name\": \"infinitely\", \"original\": \"infinitely\"}, {\"x_axis\": 88.50884246826172, \"y_axis\": -80.58700561523438, \"name\": \"bash\", \"original\": \"bash\"}, {\"x_axis\": 183.7618408203125, \"y_axis\": 280.01043701171875, \"name\": \"rows\", \"original\": \"rows\"}, {\"x_axis\": -233.76380920410156, \"y_axis\": -50.032894134521484, \"name\": \"sites\", \"original\": \"sites\"}, {\"x_axis\": 105.82109832763672, \"y_axis\": 145.50535583496094, \"name\": \"values\", \"original\": \"values\"}, {\"x_axis\": 164.37094116210938, \"y_axis\": -8.235265731811523, \"name\": \"depth\", \"original\": \"depth\"}, {\"x_axis\": 72.60741424560547, \"y_axis\": 80.8729019165039, \"name\": \"divisible\", \"original\": \"divisible\"}, {\"x_axis\": 172.18011474609375, \"y_axis\": 60.5312385559082, \"name\": \"met\", \"original\": \"met\"}, {\"x_axis\": 155.99252319335938, \"y_axis\": 26.67326545715332, \"name\": \"backtracking\", \"original\": \"backtracking\"}, {\"x_axis\": 92.67498779296875, \"y_axis\": 71.28034210205078, \"name\": \"haskell\", \"original\": \"haskell\"}, {\"x_axis\": -211.2206268310547, \"y_axis\": -44.38429641723633, \"name\": \"viewing\", \"original\": \"viewing\"}, {\"x_axis\": 58.95665740966797, \"y_axis\": 30.18783187866211, \"name\": \"fibonacci\", \"original\": \"fibonacci\"}, {\"x_axis\": -148.00274658203125, \"y_axis\": -85.95220947265625, \"name\": \"getjson\", \"original\": \"getjson\"}], \"data-bff2ece66e7ab104dc176654a3427fc4\": [{\"x_axis\": 15.699023246765137, \"y_axis\": -5.82706356048584, \"name\": \"colum\", \"original\": \"colum\"}, {\"x_axis\": 13.712702751159668, \"y_axis\": -5.475767135620117, \"name\": \"cookies\", \"original\": \"cookies\"}, {\"x_axis\": 14.314908027648926, \"y_axis\": -5.656415939331055, \"name\": \"submitting\", \"original\": \"submitting\"}, {\"x_axis\": 17.646713256835938, \"y_axis\": -5.844634532928467, \"name\": \"comprehension\", \"original\": \"comprehension\"}, {\"x_axis\": 16.88525390625, \"y_axis\": -6.9657721519470215, \"name\": \"recursively\", \"original\": \"recursively\"}, {\"x_axis\": 18.0650634765625, \"y_axis\": -5.535421848297119, \"name\": \"dict\", \"original\": \"dict\"}, {\"x_axis\": 14.676713943481445, \"y_axis\": -5.053798198699951, \"name\": \"information\", \"original\": \"information\"}, {\"x_axis\": 17.8872127532959, \"y_axis\": -6.722635746002197, \"name\": \"factorial\", \"original\": \"factorial\"}, {\"x_axis\": 17.545955657958984, \"y_axis\": -5.5190887451171875, \"name\": \"arrays\", \"original\": \"arrays\"}, {\"x_axis\": 16.773231506347656, \"y_axis\": -6.141602039337158, \"name\": \"traversal\", \"original\": \"traversal\"}, {\"x_axis\": 18.142398834228516, \"y_axis\": -6.924234390258789, \"name\": \"number\", \"original\": \"number\"}, {\"x_axis\": 15.118754386901855, \"y_axis\": -6.380033016204834, \"name\": \"addclass\", \"original\": \"addclass\"}, {\"x_axis\": 15.152322769165039, \"y_axis\": -5.828779220581055, \"name\": \"filed\", \"original\": \"filed\"}, {\"x_axis\": 14.116974830627441, \"y_axis\": -5.154443264007568, \"name\": \"landing\", \"original\": \"landing\"}, {\"x_axis\": 16.72518539428711, \"y_axis\": -4.1556525230407715, \"name\": \"columns\", \"original\": \"columns\"}, {\"x_axis\": 17.877405166625977, \"y_axis\": -5.071683406829834, \"name\": \"pairs\", \"original\": \"pairs\"}, {\"x_axis\": 17.32309913635254, \"y_axis\": -5.3703131675720215, \"name\": \"dimensional\", \"original\": \"dimensional\"}, {\"x_axis\": 15.10775375366211, \"y_axis\": -5.203970432281494, \"name\": \"blob\", \"original\": \"blob\"}, {\"x_axis\": 17.06529426574707, \"y_axis\": -7.472171306610107, \"name\": \"upto\", \"original\": \"upto\"}, {\"x_axis\": 17.323469161987305, \"y_axis\": -6.874368190765381, \"name\": \"multiples\", \"original\": \"multiples\"}, {\"x_axis\": 14.705940246582031, \"y_axis\": -5.536092758178711, \"name\": \"retrieved\", \"original\": \"retrieved\"}, {\"x_axis\": 14.27568244934082, \"y_axis\": -6.370169639587402, \"name\": \"success\", \"original\": \"success\"}, {\"x_axis\": 14.05325984954834, \"y_axis\": -5.626230239868164, \"name\": \"redirects\", \"original\": \"redirects\"}, {\"x_axis\": 16.27606201171875, \"y_axis\": -7.50435209274292, \"name\": \"perl\", \"original\": \"perl\"}, {\"x_axis\": 14.77219009399414, \"y_axis\": -6.525885581970215, \"name\": \"innerhtml\", \"original\": \"innerhtml\"}, {\"x_axis\": 16.407405853271484, \"y_axis\": -4.3084564208984375, \"name\": \"column\", \"original\": \"column\"}, {\"x_axis\": 16.554841995239258, \"y_axis\": -6.35129976272583, \"name\": \"quicksort\", \"original\": \"quicksort\"}, {\"x_axis\": 15.810230255126953, \"y_axis\": -6.559373378753662, \"name\": \"infinitely\", \"original\": \"infinitely\"}, {\"x_axis\": 16.049211502075195, \"y_axis\": -7.232075214385986, \"name\": \"bash\", \"original\": \"bash\"}, {\"x_axis\": 16.448612213134766, \"y_axis\": -4.635557174682617, \"name\": \"rows\", \"original\": \"rows\"}, {\"x_axis\": 13.522059440612793, \"y_axis\": -5.684641361236572, \"name\": \"sites\", \"original\": \"sites\"}, {\"x_axis\": 17.051849365234375, \"y_axis\": -4.732068061828613, \"name\": \"values\", \"original\": \"values\"}, {\"x_axis\": 16.96356773376465, \"y_axis\": -6.383725166320801, \"name\": \"depth\", \"original\": \"depth\"}, {\"x_axis\": 17.934268951416016, \"y_axis\": -6.310703277587891, \"name\": \"divisible\", \"original\": \"divisible\"}, {\"x_axis\": 16.069053649902344, \"y_axis\": -6.056415557861328, \"name\": \"met\", \"original\": \"met\"}, {\"x_axis\": 16.41727638244629, \"y_axis\": -6.751835346221924, \"name\": \"backtracking\", \"original\": \"backtracking\"}, {\"x_axis\": 17.63382911682129, \"y_axis\": -6.421047687530518, \"name\": \"haskell\", \"original\": \"haskell\"}, {\"x_axis\": 13.70067310333252, \"y_axis\": -5.9389424324035645, \"name\": \"viewing\", \"original\": \"viewing\"}, {\"x_axis\": 17.6823787689209, \"y_axis\": -7.120721817016602, \"name\": \"fibonacci\", \"original\": \"fibonacci\"}, {\"x_axis\": 14.597416877746582, \"y_axis\": -6.099944114685059, \"name\": \"getjson\", \"original\": \"getjson\"}]}}, {\"mode\": \"vega-lite\"});\n",
       "</script>"
      ],
      "text/plain": [
       "alt.HConcatChart(...)"
      ]
     },
     "execution_count": 31,
     "metadata": {},
     "output_type": "execute_result"
    }
   ],
   "source": [
    "pca_w2v | tsne_w2v | umap_w2v"
   ]
  },
  {
   "cell_type": "markdown",
   "id": "08cbe15b-6684-474d-aaef-c9a05ed6470f",
   "metadata": {},
   "source": [
    "## Floret\n",
    "\n",
    "https://github.com/explosion/floret/tree/main/python, https://fasttext.cc/docs/en/unsupervised-tutorial.html"
   ]
  },
  {
   "cell_type": "markdown",
   "id": "18e97d28-7766-49a6-8c98-91633a5b5953",
   "metadata": {},
   "source": [
    "### Floret modell építése CBOW módszerrel"
   ]
  },
  {
   "cell_type": "code",
   "execution_count": 32,
   "id": "7c4d9ab3-244d-45ae-ae95-fafc7557ff01",
   "metadata": {},
   "outputs": [],
   "source": [
    "import floret"
   ]
  },
  {
   "cell_type": "code",
   "execution_count": 33,
   "id": "29355dd5-6135-4551-b58c-63cce9c2aa7f",
   "metadata": {},
   "outputs": [],
   "source": [
    "#!python -m wget https://raw.githubusercontent.com/rfarkas/student_data/main/SO_texts/SO_corpus_lines.csv"
   ]
  },
  {
   "cell_type": "code",
   "execution_count": 34,
   "id": "194eef95-022a-40f4-a548-730398e7b5cb",
   "metadata": {},
   "outputs": [],
   "source": [
    "#a csv file megformázása\n",
    "#!python -m sed -i -e 's/,/ /g' SO_corpus_lines.csv"
   ]
  },
  {
   "cell_type": "code",
   "execution_count": 35,
   "id": "dc23bfaf-1474-44c6-b338-9031597ae4a1",
   "metadata": {},
   "outputs": [
    {
     "name": "stdout",
     "output_type": "stream",
     "text": [
      "CPU times: total: 3min 37s\n",
      "Wall time: 33 s\n"
     ]
    }
   ],
   "source": [
    "%%time\n",
    "floret_model = floret.train_unsupervised(\"SO_corpus_lines_sed.csv\",\n",
    "                                         model=\"cbow\",\n",
    "                                         mode=\"floret\",\n",
    "                                         dim=200,\n",
    "                                         hashCount=2,\n",
    "                                         bucket=50000,\n",
    "                                         neg=25,\n",
    "                                         minn=4,\n",
    "                                         maxn=5,\n",
    "                                         thread=cores)"
   ]
  },
  {
   "cell_type": "code",
   "execution_count": 36,
   "id": "3ab826c3-923e-444a-af11-08d3f43807d9",
   "metadata": {},
   "outputs": [],
   "source": [
    "floret_model.save_model(\"floret.bin\")\n",
    "floret_model.save_vectors(\"floret.vec\")\n",
    "floret_model.save_floret_vectors(\"floret.floret\")"
   ]
  },
  {
   "cell_type": "code",
   "execution_count": 37,
   "id": "5d7add81-a156-49fd-818a-4218035c96ee",
   "metadata": {},
   "outputs": [
    {
     "data": {
      "text/html": [
       "<div>\n",
       "<style scoped>\n",
       "    .dataframe tbody tr th:only-of-type {\n",
       "        vertical-align: middle;\n",
       "    }\n",
       "\n",
       "    .dataframe tbody tr th {\n",
       "        vertical-align: top;\n",
       "    }\n",
       "\n",
       "    .dataframe thead th {\n",
       "        text-align: right;\n",
       "    }\n",
       "</style>\n",
       "<table border=\"1\" class=\"dataframe\">\n",
       "  <thead>\n",
       "    <tr style=\"text-align: right;\">\n",
       "      <th></th>\n",
       "      <th>array</th>\n",
       "      <th>loop</th>\n",
       "      <th>javascript</th>\n",
       "      <th>python</th>\n",
       "      <th>digit</th>\n",
       "      <th>website</th>\n",
       "      <th>recursion</th>\n",
       "      <th>data</th>\n",
       "      <th>table</th>\n",
       "      <th>ajax</th>\n",
       "    </tr>\n",
       "  </thead>\n",
       "  <tbody>\n",
       "    <tr>\n",
       "      <th>0</th>\n",
       "      <td>subarray</td>\n",
       "      <td>looped</td>\n",
       "      <td>javascripts</td>\n",
       "      <td>ipython</td>\n",
       "      <td>digits</td>\n",
       "      <td>site</td>\n",
       "      <td>recursive</td>\n",
       "      <td>datas</td>\n",
       "      <td>tableau</td>\n",
       "      <td>ch</td>\n",
       "    </tr>\n",
       "    <tr>\n",
       "      <th>1</th>\n",
       "      <td>arrays</td>\n",
       "      <td>loops</td>\n",
       "      <td>javasscript</td>\n",
       "      <td>pythons</td>\n",
       "      <td>digital</td>\n",
       "      <td>websites</td>\n",
       "      <td>recursively</td>\n",
       "      <td>databse</td>\n",
       "      <td>tablets</td>\n",
       "      <td>post</td>\n",
       "    </tr>\n",
       "    <tr>\n",
       "      <th>2</th>\n",
       "      <td>nsarray</td>\n",
       "      <td>loopback</td>\n",
       "      <td>ecmascript</td>\n",
       "      <td>jython</td>\n",
       "      <td>isdigit</td>\n",
       "      <td>sites</td>\n",
       "      <td>fibonacci</td>\n",
       "      <td>cdata</td>\n",
       "      <td>jtable</td>\n",
       "      <td>dopost</td>\n",
       "    </tr>\n",
       "    <tr>\n",
       "      <th>3</th>\n",
       "      <td>arraypush</td>\n",
       "      <td>met</td>\n",
       "      <td>noscript</td>\n",
       "      <td>pythonic</td>\n",
       "      <td>numbers</td>\n",
       "      <td>webpages</td>\n",
       "      <td>haskell</td>\n",
       "      <td>datarow</td>\n",
       "      <td>tablet</td>\n",
       "      <td>echoed</td>\n",
       "    </tr>\n",
       "    <tr>\n",
       "      <th>4</th>\n",
       "      <td>toarray</td>\n",
       "      <td>foreach</td>\n",
       "      <td>jscript</td>\n",
       "      <td>ironpython</td>\n",
       "      <td>number</td>\n",
       "      <td>scrapy</td>\n",
       "      <td>logarithm</td>\n",
       "      <td>dataset</td>\n",
       "      <td>datatable</td>\n",
       "      <td>succes</td>\n",
       "    </tr>\n",
       "    <tr>\n",
       "      <th>5</th>\n",
       "      <td>arrray</td>\n",
       "      <td>infinite</td>\n",
       "      <td>wscript</td>\n",
       "      <td>dict</td>\n",
       "      <td>numbered</td>\n",
       "      <td>scraper</td>\n",
       "      <td>depth</td>\n",
       "      <td>datastore</td>\n",
       "      <td>tables</td>\n",
       "      <td>httppost</td>\n",
       "    </tr>\n",
       "    <tr>\n",
       "      <th>6</th>\n",
       "      <td>subarrays</td>\n",
       "      <td>forloop</td>\n",
       "      <td>superscript</td>\n",
       "      <td>pythagorean</td>\n",
       "      <td>hyphen</td>\n",
       "      <td>webrtc</td>\n",
       "      <td>eratosthenes</td>\n",
       "      <td>dat</td>\n",
       "      <td>stable</td>\n",
       "      <td>onsubmit</td>\n",
       "    </tr>\n",
       "    <tr>\n",
       "      <th>7</th>\n",
       "      <td>arrary</td>\n",
       "      <td>looping</td>\n",
       "      <td>vbscript</td>\n",
       "      <td>tuples</td>\n",
       "      <td>nsdecimalnumber</td>\n",
       "      <td>websphere</td>\n",
       "      <td>opinion</td>\n",
       "      <td>jsondata</td>\n",
       "      <td>vtable</td>\n",
       "      <td>postman</td>\n",
       "    </tr>\n",
       "    <tr>\n",
       "      <th>8</th>\n",
       "      <td>inarray</td>\n",
       "      <td>poor</td>\n",
       "      <td>coffeescript</td>\n",
       "      <td>tuple</td>\n",
       "      <td>rownumber</td>\n",
       "      <td>webpage</td>\n",
       "      <td>maze</td>\n",
       "      <td>odata</td>\n",
       "      <td>datatables</td>\n",
       "      <td>pageload</td>\n",
       "    </tr>\n",
       "    <tr>\n",
       "      <th>9</th>\n",
       "      <td>nsmutablearray</td>\n",
       "      <td>iteratively</td>\n",
       "      <td>descriptor</td>\n",
       "      <td>dictonary</td>\n",
       "      <td>nsnumber</td>\n",
       "      <td>scraped</td>\n",
       "      <td>scenes</td>\n",
       "      <td>datatables</td>\n",
       "      <td>selectable</td>\n",
       "      <td>success</td>\n",
       "    </tr>\n",
       "  </tbody>\n",
       "</table>\n",
       "</div>"
      ],
      "text/plain": [
       "            array         loop    javascript       python            digit  \\\n",
       "0        subarray       looped   javascripts      ipython           digits   \n",
       "1          arrays        loops   javasscript      pythons          digital   \n",
       "2         nsarray     loopback    ecmascript       jython          isdigit   \n",
       "3       arraypush          met      noscript     pythonic          numbers   \n",
       "4         toarray      foreach       jscript   ironpython           number   \n",
       "5          arrray     infinite       wscript         dict         numbered   \n",
       "6       subarrays      forloop   superscript  pythagorean           hyphen   \n",
       "7          arrary      looping      vbscript       tuples  nsdecimalnumber   \n",
       "8         inarray         poor  coffeescript        tuple        rownumber   \n",
       "9  nsmutablearray  iteratively    descriptor    dictonary         nsnumber   \n",
       "\n",
       "     website     recursion        data       table      ajax  \n",
       "0       site     recursive       datas     tableau        ch  \n",
       "1   websites   recursively     databse     tablets      post  \n",
       "2      sites     fibonacci       cdata      jtable    dopost  \n",
       "3   webpages       haskell     datarow      tablet    echoed  \n",
       "4     scrapy     logarithm     dataset   datatable    succes  \n",
       "5    scraper         depth   datastore      tables  httppost  \n",
       "6     webrtc  eratosthenes         dat      stable  onsubmit  \n",
       "7  websphere       opinion    jsondata      vtable   postman  \n",
       "8    webpage          maze       odata  datatables  pageload  \n",
       "9    scraped        scenes  datatables  selectable   success  "
      ]
     },
     "execution_count": 37,
     "metadata": {},
     "output_type": "execute_result"
    }
   ],
   "source": [
    "similar_words = {search_term: [item[1] for item in floret_model.get_nearest_neighbors(search_term, k=10)]\n",
    "                  for search_term in ['array', 'loop', 'javascript', 'python', 'digit', 'website', 'recursion', 'data', 'table', 'ajax']}\n",
    "\n",
    "res_floret = pd.DataFrame(similar_words)\n",
    "res_floret"
   ]
  },
  {
   "cell_type": "code",
   "execution_count": 38,
   "id": "bfc68780-a637-4e7c-9d63-329634cbc11a",
   "metadata": {},
   "outputs": [
    {
     "name": "stdout",
     "output_type": "stream",
     "text": [
      "LOOP szó floret vektorai: \n"
     ]
    },
    {
     "data": {
      "text/plain": [
       "array([-2.67440677e-01,  2.56683409e-01, -2.66897883e-02, -3.91141474e-02,\n",
       "        4.92635816e-01, -1.47402585e-01,  8.03401321e-03,  7.11576879e-01,\n",
       "        2.59704441e-01,  1.00049484e+00,  2.09200054e-01,  5.58961809e-01,\n",
       "       -2.48759672e-01,  1.52346864e-01, -3.30307126e-01,  3.10826480e-01,\n",
       "       -9.58927274e-01,  6.42073274e-01,  3.49575698e-01, -5.37304044e-01,\n",
       "       -7.85221577e-01, -3.07503879e-01,  4.70399559e-01,  1.17703542e-01,\n",
       "        8.52943599e-01,  3.05865079e-01, -7.94028193e-02, -1.85035598e-02,\n",
       "        2.71819711e-01,  5.69405913e-01, -4.28825736e-01, -2.29404476e-02,\n",
       "        4.07982916e-02,  4.65449631e-01,  2.10066959e-01, -4.26484346e-01,\n",
       "        1.22925125e-01, -7.03509510e-01, -7.16222376e-02,  4.54784572e-01,\n",
       "        4.23441470e-01, -1.78972423e-01,  2.38384008e-01, -1.98167413e-01,\n",
       "       -1.19305484e-01,  6.82287335e-01, -5.08518815e-01, -6.58774972e-01,\n",
       "       -6.78248048e-01,  5.13751268e-01, -2.20332026e-01,  4.61764187e-01,\n",
       "       -7.73251235e-01,  8.86671484e-01,  3.48989606e-01, -8.79056677e-02,\n",
       "       -4.50420320e-01, -7.47628868e-01, -6.64487779e-01,  1.71030939e-01,\n",
       "       -1.53560591e+00,  5.95323443e-01, -1.28375903e-01,  8.87869239e-01,\n",
       "        7.48723969e-02, -6.35609031e-03,  2.22064897e-01,  5.83261967e-01,\n",
       "        4.10626978e-01, -5.43887317e-02, -4.28067863e-01,  2.96128541e-01,\n",
       "       -5.53352892e-01,  1.16769873e-01,  1.28119811e-01,  1.10828948e+00,\n",
       "        1.43417567e-01, -4.64887708e-01, -5.30275106e-01, -9.72623657e-03,\n",
       "       -4.06559587e-01,  4.21213239e-01,  4.29075599e-01, -4.00249004e-01,\n",
       "        1.80319011e-01,  8.21129918e-01, -2.59794384e-01, -1.10003673e-01,\n",
       "       -1.01721668e+00, -7.91815460e-01,  2.12582573e-01, -2.66606033e-01,\n",
       "        5.04242182e-02, -3.26606147e-02, -1.81816489e-01, -7.34774709e-01,\n",
       "        5.69780290e-01,  8.17586333e-02, -3.18621099e-01, -1.17222583e+00,\n",
       "        5.51708043e-01, -1.06462054e-01, -4.23405945e-01, -4.88538444e-01,\n",
       "       -5.08996129e-01, -2.01265253e-02, -7.04225302e-01,  3.20472926e-01,\n",
       "       -2.83062279e-01,  5.41692078e-01, -1.45781070e-01,  6.49357885e-02,\n",
       "        5.31901300e-01,  7.24715114e-01,  4.00259137e-01, -3.98479760e-01,\n",
       "        1.52890965e-01,  5.06903887e-01,  7.18930960e-01,  1.72231011e-02,\n",
       "        3.93563211e-01, -1.28532089e-02, -2.79249072e-01,  1.21937692e-01,\n",
       "       -7.50590801e-01,  1.13019161e-01,  2.58693814e-01, -1.82530209e-01,\n",
       "       -6.93086624e-01,  4.12007868e-02,  2.37845644e-01, -4.35137928e-01,\n",
       "       -7.04840645e-02, -1.51429519e-01, -3.44244957e-01, -2.41779074e-01,\n",
       "        8.01766515e-02,  3.14673364e-01,  3.86561453e-01, -1.67926759e-01,\n",
       "       -9.29824710e-02,  2.84455031e-01, -3.92887354e-01, -7.56199984e-03,\n",
       "       -1.18072830e-01,  1.28198579e-01,  1.77583247e-01, -1.43979248e-02,\n",
       "       -2.71130383e-01, -3.91688108e-01, -4.69596200e-02, -9.17897463e-01,\n",
       "       -3.32655549e-01, -5.26859574e-02, -1.80457160e-01,  3.67779851e-01,\n",
       "        7.47426510e-01,  2.05712110e-01, -3.17514420e-01,  5.61947703e-01,\n",
       "       -2.81790495e-01,  2.74177194e-01, -1.22119457e-01, -2.25854024e-01,\n",
       "       -4.87982154e-01, -3.32141429e-01, -1.09029555e+00, -2.96486020e-01,\n",
       "       -3.57227445e-01, -2.94965565e-01, -2.24437237e-01,  1.83731243e-01,\n",
       "       -8.79528701e-01,  2.18366444e-01,  7.14486614e-02, -2.80893207e-01,\n",
       "        3.68616879e-01, -6.88414872e-02,  1.02823585e-01,  4.88264620e-01,\n",
       "       -9.02345106e-02,  4.02453035e-01,  2.90744245e-01, -3.45154583e-01,\n",
       "       -5.84776521e-01,  8.01934451e-02,  1.67790651e-02,  2.37299830e-01,\n",
       "       -3.85216773e-01, -4.01371360e-01, -2.94941217e-02,  1.06833315e+00,\n",
       "       -4.03519809e-01, -7.18098274e-03, -2.51916260e-01, -7.63924210e-04,\n",
       "        3.43231440e-01,  5.81353486e-01, -2.48195410e-01, -7.34961927e-01],\n",
       "      dtype=float32)"
      ]
     },
     "execution_count": 38,
     "metadata": {},
     "output_type": "execute_result"
    }
   ],
   "source": [
    "print('LOOP szó floret vektorai: ')\n",
    "floret_model.get_word_vector(\"loop\")"
   ]
  },
  {
   "cell_type": "code",
   "execution_count": 39,
   "id": "a8937d55-7939-4bf6-bf50-e884c6539e0a",
   "metadata": {},
   "outputs": [],
   "source": [
    "from whatlies.language import FloretLanguage"
   ]
  },
  {
   "cell_type": "code",
   "execution_count": 40,
   "id": "4992f578-17dc-4972-9235-0b9552febe26",
   "metadata": {},
   "outputs": [],
   "source": [
    "lang_floret = FloretLanguage(\"floret.bin\")"
   ]
  },
  {
   "cell_type": "code",
   "execution_count": 41,
   "id": "8d776328-5f70-4e0c-9c1d-297e38229744",
   "metadata": {},
   "outputs": [],
   "source": [
    "words_floret = set()\n",
    "for column in res_floret:\n",
    "    for word in res_floret[column]:\n",
    "        words_floret.add(word)"
   ]
  },
  {
   "cell_type": "code",
   "execution_count": 42,
   "id": "4c40313b-8f26-4b39-bb22-908aa85b601d",
   "metadata": {},
   "outputs": [
    {
     "name": "stderr",
     "output_type": "stream",
     "text": [
      "D:\\Users\\t05cf\\anaconda3\\lib\\site-packages\\sklearn\\manifold\\_t_sne.py:780: FutureWarning: The default initialization in TSNE will change from 'random' to 'pca' in 1.2.\n",
      "  warnings.warn(\n",
      "D:\\Users\\t05cf\\anaconda3\\lib\\site-packages\\sklearn\\manifold\\_t_sne.py:790: FutureWarning: The default learning rate in TSNE will change from 200.0 to 'auto' in 1.2.\n",
      "  warnings.warn(\n",
      "D:\\Users\\t05cf\\anaconda3\\lib\\site-packages\\sklearn\\manifold\\_t_sne.py:780: FutureWarning: The default initialization in TSNE will change from 'random' to 'pca' in 1.2.\n",
      "  warnings.warn(\n",
      "D:\\Users\\t05cf\\anaconda3\\lib\\site-packages\\sklearn\\manifold\\_t_sne.py:790: FutureWarning: The default learning rate in TSNE will change from 200.0 to 'auto' in 1.2.\n",
      "  warnings.warn(\n"
     ]
    }
   ],
   "source": [
    "emb_floret = lang_floret[list(words_floret)[:40]]\n",
    "pca_floret = emb_floret.transform(Pca(2)).plot_interactive(title=\"Floret: PCA\")\n",
    "tsne_floret = emb_floret.transform(Tsne(n_components=2, random_state=0, n_iter=10000, perplexity=3)).plot_interactive(title=\"Floret: t-SNE\")\n",
    "umap_floret = emb_floret.transform(Umap(2)).plot_interactive(title=\"Floret: UMAP\")"
   ]
  },
  {
   "cell_type": "code",
   "execution_count": 43,
   "id": "fe9b252d-ea07-4e80-a622-932d39144f66",
   "metadata": {},
   "outputs": [
    {
     "data": {
      "text/html": [
       "\n",
       "<div id=\"altair-viz-92f2a674b9494c4091eed3da18424bd1\"></div>\n",
       "<script type=\"text/javascript\">\n",
       "  var VEGA_DEBUG = (typeof VEGA_DEBUG == \"undefined\") ? {} : VEGA_DEBUG;\n",
       "  (function(spec, embedOpt){\n",
       "    let outputDiv = document.currentScript.previousElementSibling;\n",
       "    if (outputDiv.id !== \"altair-viz-92f2a674b9494c4091eed3da18424bd1\") {\n",
       "      outputDiv = document.getElementById(\"altair-viz-92f2a674b9494c4091eed3da18424bd1\");\n",
       "    }\n",
       "    const paths = {\n",
       "      \"vega\": \"https://cdn.jsdelivr.net/npm//vega@5?noext\",\n",
       "      \"vega-lib\": \"https://cdn.jsdelivr.net/npm//vega-lib?noext\",\n",
       "      \"vega-lite\": \"https://cdn.jsdelivr.net/npm//vega-lite@4.17.0?noext\",\n",
       "      \"vega-embed\": \"https://cdn.jsdelivr.net/npm//vega-embed@6?noext\",\n",
       "    };\n",
       "\n",
       "    function maybeLoadScript(lib, version) {\n",
       "      var key = `${lib.replace(\"-\", \"\")}_version`;\n",
       "      return (VEGA_DEBUG[key] == version) ?\n",
       "        Promise.resolve(paths[lib]) :\n",
       "        new Promise(function(resolve, reject) {\n",
       "          var s = document.createElement('script');\n",
       "          document.getElementsByTagName(\"head\")[0].appendChild(s);\n",
       "          s.async = true;\n",
       "          s.onload = () => {\n",
       "            VEGA_DEBUG[key] = version;\n",
       "            return resolve(paths[lib]);\n",
       "          };\n",
       "          s.onerror = () => reject(`Error loading script: ${paths[lib]}`);\n",
       "          s.src = paths[lib];\n",
       "        });\n",
       "    }\n",
       "\n",
       "    function showError(err) {\n",
       "      outputDiv.innerHTML = `<div class=\"error\" style=\"color:red;\">${err}</div>`;\n",
       "      throw err;\n",
       "    }\n",
       "\n",
       "    function displayChart(vegaEmbed) {\n",
       "      vegaEmbed(outputDiv, spec, embedOpt)\n",
       "        .catch(err => showError(`Javascript Error: ${err.message}<br>This usually means there's a typo in your chart specification. See the javascript console for the full traceback.`));\n",
       "    }\n",
       "\n",
       "    if(typeof define === \"function\" && define.amd) {\n",
       "      requirejs.config({paths});\n",
       "      require([\"vega-embed\"], displayChart, err => showError(`Error loading script: ${err.message}`));\n",
       "    } else {\n",
       "      maybeLoadScript(\"vega\", \"5\")\n",
       "        .then(() => maybeLoadScript(\"vega-lite\", \"4.17.0\"))\n",
       "        .then(() => maybeLoadScript(\"vega-embed\", \"6\"))\n",
       "        .catch(showError)\n",
       "        .then(() => displayChart(vegaEmbed));\n",
       "    }\n",
       "  })({\"config\": {\"view\": {\"continuousWidth\": 400, \"continuousHeight\": 300}}, \"hconcat\": [{\"layer\": [{\"mark\": {\"type\": \"circle\", \"size\": 60}, \"encoding\": {\"color\": {\"field\": \"\", \"legend\": null, \"type\": \"nominal\"}, \"tooltip\": [{\"field\": \"name\", \"type\": \"nominal\"}, {\"field\": \"original\", \"type\": \"nominal\"}], \"x\": {\"axis\": {\"title\": \"Dimension 0\"}, \"field\": \"x_axis\", \"type\": \"quantitative\"}, \"y\": {\"axis\": {\"title\": \"Dimension 1\"}, \"field\": \"y_axis\", \"type\": \"quantitative\"}}, \"selection\": {\"selector011\": {\"type\": \"interval\", \"bind\": \"scales\", \"encodings\": [\"x\", \"y\"]}}, \"title\": \"Floret: PCA\"}, {\"mark\": {\"type\": \"text\", \"color\": \"black\", \"dx\": -15, \"dy\": 3}, \"encoding\": {\"text\": {\"field\": \"original\", \"type\": \"nominal\"}, \"x\": {\"field\": \"x_axis\", \"type\": \"quantitative\"}, \"y\": {\"field\": \"y_axis\", \"type\": \"quantitative\"}}}], \"data\": {\"name\": \"data-4bc4ab7c4719adcd99e106d42ccbfda7\"}}, {\"layer\": [{\"mark\": {\"type\": \"circle\", \"size\": 60}, \"encoding\": {\"color\": {\"field\": \"\", \"legend\": null, \"type\": \"nominal\"}, \"tooltip\": [{\"field\": \"name\", \"type\": \"nominal\"}, {\"field\": \"original\", \"type\": \"nominal\"}], \"x\": {\"axis\": {\"title\": \"Dimension 0\"}, \"field\": \"x_axis\", \"type\": \"quantitative\"}, \"y\": {\"axis\": {\"title\": \"Dimension 1\"}, \"field\": \"y_axis\", \"type\": \"quantitative\"}}, \"selection\": {\"selector012\": {\"type\": \"interval\", \"bind\": \"scales\", \"encodings\": [\"x\", \"y\"]}}, \"title\": \"Floret: t-SNE\"}, {\"mark\": {\"type\": \"text\", \"color\": \"black\", \"dx\": -15, \"dy\": 3}, \"encoding\": {\"text\": {\"field\": \"original\", \"type\": \"nominal\"}, \"x\": {\"field\": \"x_axis\", \"type\": \"quantitative\"}, \"y\": {\"field\": \"y_axis\", \"type\": \"quantitative\"}}}], \"data\": {\"name\": \"data-baa110d4a9b44e846d7331052c7656d8\"}}, {\"layer\": [{\"mark\": {\"type\": \"circle\", \"size\": 60}, \"encoding\": {\"color\": {\"field\": \"\", \"legend\": null, \"type\": \"nominal\"}, \"tooltip\": [{\"field\": \"name\", \"type\": \"nominal\"}, {\"field\": \"original\", \"type\": \"nominal\"}], \"x\": {\"axis\": {\"title\": \"Dimension 0\"}, \"field\": \"x_axis\", \"type\": \"quantitative\"}, \"y\": {\"axis\": {\"title\": \"Dimension 1\"}, \"field\": \"y_axis\", \"type\": \"quantitative\"}}, \"selection\": {\"selector013\": {\"type\": \"interval\", \"bind\": \"scales\", \"encodings\": [\"x\", \"y\"]}}, \"title\": \"Floret: UMAP\"}, {\"mark\": {\"type\": \"text\", \"color\": \"black\", \"dx\": -15, \"dy\": 3}, \"encoding\": {\"text\": {\"field\": \"original\", \"type\": \"nominal\"}, \"x\": {\"field\": \"x_axis\", \"type\": \"quantitative\"}, \"y\": {\"field\": \"y_axis\", \"type\": \"quantitative\"}}}], \"data\": {\"name\": \"data-b8ed844fae06cffe6a53656900bbd58f\"}}], \"$schema\": \"https://vega.github.io/schema/vega-lite/v4.17.0.json\", \"datasets\": {\"data-4bc4ab7c4719adcd99e106d42ccbfda7\": [{\"x_axis\": 1.6065654754638672, \"y_axis\": 0.40851637721061707, \"name\": \"arraypush\", \"original\": \"arraypush\"}, {\"x_axis\": 0.8347627520561218, \"y_axis\": 1.9905363321304321, \"name\": \"dat\", \"original\": \"dat\"}, {\"x_axis\": 0.8897714018821716, \"y_axis\": 2.2709479331970215, \"name\": \"datarow\", \"original\": \"datarow\"}, {\"x_axis\": -3.3878815174102783, \"y_axis\": -0.18808437883853912, \"name\": \"httppost\", \"original\": \"httppost\"}, {\"x_axis\": 2.017348289489746, \"y_axis\": -2.1014516353607178, \"name\": \"recursively\", \"original\": \"recursively\"}, {\"x_axis\": 1.9530874490737915, \"y_axis\": 0.21827827394008636, \"name\": \"inarray\", \"original\": \"inarray\"}, {\"x_axis\": 4.383688926696777, \"y_axis\": 1.27204167842865, \"name\": \"dict\", \"original\": \"dict\"}, {\"x_axis\": -2.024430751800537, \"y_axis\": 0.31161510944366455, \"name\": \"dopost\", \"original\": \"dopost\"}, {\"x_axis\": 4.518324851989746, \"y_axis\": 0.5402469635009766, \"name\": \"arrays\", \"original\": \"arrays\"}, {\"x_axis\": 0.5872888565063477, \"y_axis\": -0.4644216299057007, \"name\": \"jython\", \"original\": \"jython\"}, {\"x_axis\": 0.26306772232055664, \"y_axis\": -0.4839685559272766, \"name\": \"opinion\", \"original\": \"opinion\"}, {\"x_axis\": 0.32904478907585144, \"y_axis\": 3.9004573822021484, \"name\": \"selectable\", \"original\": \"selectable\"}, {\"x_axis\": -0.664610743522644, \"y_axis\": 0.770260751247406, \"name\": \"odata\", \"original\": \"odata\"}, {\"x_axis\": -2.92276668548584, \"y_axis\": 0.12082020193338394, \"name\": \"scrapy\", \"original\": \"scrapy\"}, {\"x_axis\": -1.9246609210968018, \"y_axis\": -0.14552012085914612, \"name\": \"webrtc\", \"original\": \"webrtc\"}, {\"x_axis\": 0.7560356259346008, \"y_axis\": -0.9143945574760437, \"name\": \"hyphen\", \"original\": \"hyphen\"}, {\"x_axis\": 0.46288028359413147, \"y_axis\": 3.4941635131835938, \"name\": \"stable\", \"original\": \"stable\"}, {\"x_axis\": 3.0914618968963623, \"y_axis\": -2.027757167816162, \"name\": \"number\", \"original\": \"number\"}, {\"x_axis\": -0.6955991983413696, \"y_axis\": -1.541849136352539, \"name\": \"jscript\", \"original\": \"jscript\"}, {\"x_axis\": -1.6990748643875122, \"y_axis\": -0.34591948986053467, \"name\": \"websphere\", \"original\": \"websphere\"}, {\"x_axis\": 1.0461628437042236, \"y_axis\": -1.9544527530670166, \"name\": \"digital\", \"original\": \"digital\"}, {\"x_axis\": -1.9450441598892212, \"y_axis\": -0.11003552377223969, \"name\": \"ch\", \"original\": \"ch\"}, {\"x_axis\": 1.3464709520339966, \"y_axis\": -1.1931263208389282, \"name\": \"logarithm\", \"original\": \"logarithm\"}, {\"x_axis\": 0.22606509923934937, \"y_axis\": -0.4739421010017395, \"name\": \"poor\", \"original\": \"poor\"}, {\"x_axis\": 1.3725769519805908, \"y_axis\": -0.8455683588981628, \"name\": \"nsnumber\", \"original\": \"nsnumber\"}, {\"x_axis\": -0.03998897224664688, \"y_axis\": -0.3192881643772125, \"name\": \"forloop\", \"original\": \"forloop\"}, {\"x_axis\": -0.7298681139945984, \"y_axis\": -0.7655022740364075, \"name\": \"descriptor\", \"original\": \"descriptor\"}, {\"x_axis\": 0.7733133435249329, \"y_axis\": -0.987209141254425, \"name\": \"pythons\", \"original\": \"pythons\"}, {\"x_axis\": 1.0265977382659912, \"y_axis\": -0.8228928446769714, \"name\": \"eratosthenes\", \"original\": \"eratosthenes\"}, {\"x_axis\": -0.5268816351890564, \"y_axis\": -0.7517929077148438, \"name\": \"javasscript\", \"original\": \"javasscript\"}, {\"x_axis\": -0.6231157183647156, \"y_axis\": -1.1229861974716187, \"name\": \"ecmascript\", \"original\": \"ecmascript\"}, {\"x_axis\": -0.14628510177135468, \"y_axis\": -0.8822008967399597, \"name\": \"loopback\", \"original\": \"loopback\"}, {\"x_axis\": -0.9919360876083374, \"y_axis\": 0.08924910426139832, \"name\": \"echoed\", \"original\": \"echoed\"}, {\"x_axis\": -2.8292174339294434, \"y_axis\": 0.08903313428163528, \"name\": \"success\", \"original\": \"success\"}, {\"x_axis\": 2.0307278633117676, \"y_axis\": -0.4862007200717926, \"name\": \"iteratively\", \"original\": \"iteratively\"}, {\"x_axis\": -0.32845646142959595, \"y_axis\": -0.8019722700119019, \"name\": \"superscript\", \"original\": \"superscript\"}, {\"x_axis\": 0.5636734962463379, \"y_axis\": 4.532891273498535, \"name\": \"jtable\", \"original\": \"jtable\"}, {\"x_axis\": -3.8886427879333496, \"y_axis\": 0.30951228737831116, \"name\": \"webpage\", \"original\": \"webpage\"}, {\"x_axis\": -3.578644037246704, \"y_axis\": 0.6543524861335754, \"name\": \"pageload\", \"original\": \"pageload\"}, {\"x_axis\": -1.1318110227584839, \"y_axis\": -1.2423826456069946, \"name\": \"noscript\", \"original\": \"noscript\"}], \"data-baa110d4a9b44e846d7331052c7656d8\": [{\"x_axis\": -273.703857421875, \"y_axis\": 607.0297241210938, \"name\": \"arraypush\", \"original\": \"arraypush\"}, {\"x_axis\": -34.050498962402344, \"y_axis\": -369.6616516113281, \"name\": \"dat\", \"original\": \"dat\"}, {\"x_axis\": -67.32521057128906, \"y_axis\": -389.72430419921875, \"name\": \"datarow\", \"original\": \"datarow\"}, {\"x_axis\": 424.6025085449219, \"y_axis\": -246.62759399414062, \"name\": \"httppost\", \"original\": \"httppost\"}, {\"x_axis\": -288.5640563964844, \"y_axis\": 410.0450134277344, \"name\": \"recursively\", \"original\": \"recursively\"}, {\"x_axis\": -309.8731384277344, \"y_axis\": 621.4724731445312, \"name\": \"inarray\", \"original\": \"inarray\"}, {\"x_axis\": -166.2896270751953, \"y_axis\": 390.7575988769531, \"name\": \"dict\", \"original\": \"dict\"}, {\"x_axis\": 472.74859619140625, \"y_axis\": -303.2173156738281, \"name\": \"dopost\", \"original\": \"dopost\"}, {\"x_axis\": -222.9020233154297, \"y_axis\": 639.1019287109375, \"name\": \"arrays\", \"original\": \"arrays\"}, {\"x_axis\": -65.46783447265625, \"y_axis\": 295.795654296875, \"name\": \"jython\", \"original\": \"jython\"}, {\"x_axis\": -393.85186767578125, \"y_axis\": 268.984130859375, \"name\": \"opinion\", \"original\": \"opinion\"}, {\"x_axis\": -316.2874755859375, \"y_axis\": -585.9395141601562, \"name\": \"selectable\", \"original\": \"selectable\"}, {\"x_axis\": 506.3921203613281, \"y_axis\": -355.579833984375, \"name\": \"odata\", \"original\": \"odata\"}, {\"x_axis\": 418.0910949707031, \"y_axis\": 64.66413116455078, \"name\": \"scrapy\", \"original\": \"scrapy\"}, {\"x_axis\": 398.86199951171875, \"y_axis\": 15.308135986328125, \"name\": \"webrtc\", \"original\": \"webrtc\"}, {\"x_axis\": -385.7411804199219, \"y_axis\": 164.88169860839844, \"name\": \"hyphen\", \"original\": \"hyphen\"}, {\"x_axis\": -313.8384704589844, \"y_axis\": -512.7095947265625, \"name\": \"stable\", \"original\": \"stable\"}, {\"x_axis\": -540.1819458007812, \"y_axis\": 173.0465545654297, \"name\": \"number\", \"original\": \"number\"}, {\"x_axis\": 992.3572998046875, \"y_axis\": -104.12335968017578, \"name\": \"jscript\", \"original\": \"jscript\"}, {\"x_axis\": 369.75860595703125, \"y_axis\": -10.906207084655762, \"name\": \"websphere\", \"original\": \"websphere\"}, {\"x_axis\": -454.04327392578125, \"y_axis\": 133.96017456054688, \"name\": \"digital\", \"original\": \"digital\"}, {\"x_axis\": 477.7431335449219, \"y_axis\": -263.83074951171875, \"name\": \"ch\", \"original\": \"ch\"}, {\"x_axis\": -349.8894958496094, \"y_axis\": 303.38818359375, \"name\": \"logarithm\", \"original\": \"logarithm\"}, {\"x_axis\": -280.4036865234375, \"y_axis\": 202.71044921875, \"name\": \"poor\", \"original\": \"poor\"}, {\"x_axis\": -480.67254638671875, \"y_axis\": 190.80348205566406, \"name\": \"nsnumber\", \"original\": \"nsnumber\"}, {\"x_axis\": -229.5810089111328, \"y_axis\": 202.8695526123047, \"name\": \"forloop\", \"original\": \"forloop\"}, {\"x_axis\": 848.8018188476562, \"y_axis\": -84.71001434326172, \"name\": \"descriptor\", \"original\": \"descriptor\"}, {\"x_axis\": -26.439233779907227, \"y_axis\": 293.2738952636719, \"name\": \"pythons\", \"original\": \"pythons\"}, {\"x_axis\": -359.46771240234375, \"y_axis\": 240.43316650390625, \"name\": \"eratosthenes\", \"original\": \"eratosthenes\"}, {\"x_axis\": 904.5317993164062, \"y_axis\": -180.4601593017578, \"name\": \"javasscript\", \"original\": \"javasscript\"}, {\"x_axis\": 901.6766357421875, \"y_axis\": -127.65294647216797, \"name\": \"ecmascript\", \"original\": \"ecmascript\"}, {\"x_axis\": -229.04263305664062, \"y_axis\": 153.4849853515625, \"name\": \"loopback\", \"original\": \"loopback\"}, {\"x_axis\": 588.7731323242188, \"y_axis\": -253.88522338867188, \"name\": \"echoed\", \"original\": \"echoed\"}, {\"x_axis\": 403.3024597167969, \"y_axis\": -331.2139892578125, \"name\": \"success\", \"original\": \"success\"}, {\"x_axis\": -232.37847900390625, \"y_axis\": 385.7621765136719, \"name\": \"iteratively\", \"original\": \"iteratively\"}, {\"x_axis\": 828.6270141601562, \"y_axis\": -138.37771606445312, \"name\": \"superscript\", \"original\": \"superscript\"}, {\"x_axis\": -343.3652648925781, \"y_axis\": -538.3438720703125, \"name\": \"jtable\", \"original\": \"jtable\"}, {\"x_axis\": 450.6473693847656, \"y_axis\": 133.9708251953125, \"name\": \"webpage\", \"original\": \"webpage\"}, {\"x_axis\": 489.2880554199219, \"y_axis\": 155.78492736816406, \"name\": \"pageload\", \"original\": \"pageload\"}, {\"x_axis\": 943.638671875, \"y_axis\": -107.24065399169922, \"name\": \"noscript\", \"original\": \"noscript\"}], \"data-b8ed844fae06cffe6a53656900bbd58f\": [{\"x_axis\": 8.550148963928223, \"y_axis\": 0.7342288494110107, \"name\": \"arraypush\", \"original\": \"arraypush\"}, {\"x_axis\": 10.879036903381348, \"y_axis\": -0.7485765218734741, \"name\": \"dat\", \"original\": \"dat\"}, {\"x_axis\": 10.777461051940918, \"y_axis\": -0.4617953896522522, \"name\": \"datarow\", \"original\": \"datarow\"}, {\"x_axis\": 12.447042465209961, \"y_axis\": 0.692798912525177, \"name\": \"httppost\", \"original\": \"httppost\"}, {\"x_axis\": 9.565505981445312, \"y_axis\": 0.6633818745613098, \"name\": \"recursively\", \"original\": \"recursively\"}, {\"x_axis\": 8.674365043640137, \"y_axis\": 0.3277198374271393, \"name\": \"inarray\", \"original\": \"inarray\"}, {\"x_axis\": 9.071542739868164, \"y_axis\": 1.1364742517471313, \"name\": \"dict\", \"original\": \"dict\"}, {\"x_axis\": 12.407525062561035, \"y_axis\": 0.2779082953929901, \"name\": \"dopost\", \"original\": \"dopost\"}, {\"x_axis\": 8.931641578674316, \"y_axis\": 0.5416701436042786, \"name\": \"arrays\", \"original\": \"arrays\"}, {\"x_axis\": 10.027009963989258, \"y_axis\": 0.671798825263977, \"name\": \"jython\", \"original\": \"jython\"}, {\"x_axis\": 10.05278205871582, \"y_axis\": -0.22600588202476501, \"name\": \"opinion\", \"original\": \"opinion\"}, {\"x_axis\": 10.958086967468262, \"y_axis\": 0.05407143384218216, \"name\": \"selectable\", \"original\": \"selectable\"}, {\"x_axis\": 11.858859062194824, \"y_axis\": 0.08679892122745514, \"name\": \"odata\", \"original\": \"odata\"}, {\"x_axis\": 12.262831687927246, \"y_axis\": 1.9158262014389038, \"name\": \"scrapy\", \"original\": \"scrapy\"}, {\"x_axis\": 11.91021728515625, \"y_axis\": 2.12374210357666, \"name\": \"webrtc\", \"original\": \"webrtc\"}, {\"x_axis\": 9.853250503540039, \"y_axis\": -0.6249063014984131, \"name\": \"hyphen\", \"original\": \"hyphen\"}, {\"x_axis\": 11.125932693481445, \"y_axis\": -0.26509085297584534, \"name\": \"stable\", \"original\": \"stable\"}, {\"x_axis\": 9.092028617858887, \"y_axis\": -0.8859617710113525, \"name\": \"number\", \"original\": \"number\"}, {\"x_axis\": 10.57987117767334, \"y_axis\": 2.169990301132202, \"name\": \"jscript\", \"original\": \"jscript\"}, {\"x_axis\": 11.800634384155273, \"y_axis\": 1.6941123008728027, \"name\": \"websphere\", \"original\": \"websphere\"}, {\"x_axis\": 9.505720138549805, \"y_axis\": -0.7866384983062744, \"name\": \"digital\", \"original\": \"digital\"}, {\"x_axis\": 12.010204315185547, \"y_axis\": 1.0230461359024048, \"name\": \"ch\", \"original\": \"ch\"}, {\"x_axis\": 9.27790355682373, \"y_axis\": -0.1704408973455429, \"name\": \"logarithm\", \"original\": \"logarithm\"}, {\"x_axis\": 10.219231605529785, \"y_axis\": 0.10615528374910355, \"name\": \"poor\", \"original\": \"poor\"}, {\"x_axis\": 9.129911422729492, \"y_axis\": -0.650788426399231, \"name\": \"nsnumber\", \"original\": \"nsnumber\"}, {\"x_axis\": 10.64912223815918, \"y_axis\": 0.6275269389152527, \"name\": \"forloop\", \"original\": \"forloop\"}, {\"x_axis\": 11.216187477111816, \"y_axis\": 1.9744203090667725, \"name\": \"descriptor\", \"original\": \"descriptor\"}, {\"x_axis\": 9.847512245178223, \"y_axis\": 1.1198018789291382, \"name\": \"pythons\", \"original\": \"pythons\"}, {\"x_axis\": 9.61993408203125, \"y_axis\": 0.12597106397151947, \"name\": \"eratosthenes\", \"original\": \"eratosthenes\"}, {\"x_axis\": 11.04053783416748, \"y_axis\": 1.4205154180526733, \"name\": \"javasscript\", \"original\": \"javasscript\"}, {\"x_axis\": 10.638581275939941, \"y_axis\": 1.667506217956543, \"name\": \"ecmascript\", \"original\": \"ecmascript\"}, {\"x_axis\": 10.406496047973633, \"y_axis\": 1.050758719444275, \"name\": \"loopback\", \"original\": \"loopback\"}, {\"x_axis\": 11.547679901123047, \"y_axis\": 1.014991044998169, \"name\": \"echoed\", \"original\": \"echoed\"}, {\"x_axis\": 12.210921287536621, \"y_axis\": 0.6124354004859924, \"name\": \"success\", \"original\": \"success\"}, {\"x_axis\": 9.315061569213867, \"y_axis\": 0.8449808955192566, \"name\": \"iteratively\", \"original\": \"iteratively\"}, {\"x_axis\": 10.845355033874512, \"y_axis\": 1.8787119388580322, \"name\": \"superscript\", \"original\": \"superscript\"}, {\"x_axis\": 11.306741714477539, \"y_axis\": -0.04220297560095787, \"name\": \"jtable\", \"original\": \"jtable\"}, {\"x_axis\": 12.39715576171875, \"y_axis\": 1.7839503288269043, \"name\": \"webpage\", \"original\": \"webpage\"}, {\"x_axis\": 12.445050239562988, \"y_axis\": 1.4588243961334229, \"name\": \"pageload\", \"original\": \"pageload\"}, {\"x_axis\": 10.864041328430176, \"y_axis\": 2.2921977043151855, \"name\": \"noscript\", \"original\": \"noscript\"}]}}, {\"mode\": \"vega-lite\"});\n",
       "</script>"
      ],
      "text/plain": [
       "alt.HConcatChart(...)"
      ]
     },
     "execution_count": 43,
     "metadata": {},
     "output_type": "execute_result"
    }
   ],
   "source": [
    "pca_floret | tsne_floret | umap_floret"
   ]
  },
  {
   "cell_type": "markdown",
   "id": "e549bf65-1f13-455a-9181-efedd551b833",
   "metadata": {},
   "source": [
    "# Szöveg-, dokumentumszintű beágyazási módszerek\n",
    "A szavak szintje önmagában nagyon kevés információ tartalmaz. Esetenként szükségünk lehet további adatokra, ilyenkor szeretnénk nagyobb egységekre - például mondatokra vagy bekezdésekre - is egy-egy vektort előállítani.\n",
    "\n",
    "Különböző ötletek jöhetnek ez esetben szóba:\n",
    " * A szövegben található szóvektorok közül válasszunk ki egy reprezentáns elemet\n",
    " * Átlagoljuk ki a szóvektorokat és ez az átlag legyen a szövegszintű vektorunk\n",
    " * Tanítsunk szövegszintű beágyazást "
   ]
  },
  {
   "cell_type": "markdown",
   "id": "66c2e493-e2a0-42fa-b0d4-f0cda4dbce85",
   "metadata": {},
   "source": [
    "### Dokumentumszintű vektorok a spaCy esetén\n",
    "\n",
    "Egyszerű megoldás: a szóvektorok átlaga.\n",
    "\n",
    "Érezhető a módszer hátránya: a nyelvi finomságokat könnyen elveszíthetjük, például a szórenddel kifejezett kiemeléseket az átlag nem különbözteti meg mondat szinten.\n",
    "\n",
    "Ennek ellenére egy gyakorlatban jól alkalmazható megoldás."
   ]
  },
  {
   "cell_type": "code",
   "execution_count": 44,
   "id": "bb70a762-95f2-4f54-b2bf-987aa6477999",
   "metadata": {},
   "outputs": [
    {
     "data": {
      "text/plain": [
       "True"
      ]
     },
     "execution_count": 44,
     "metadata": {},
     "output_type": "execute_result"
    }
   ],
   "source": [
    "# Defináljuk a Dokumentumunkat\n",
    "doc = nlp_hu(\"biciklivel megyek boltba\")\n",
    "\n",
    "# Megkeressük a szavak vektorait\n",
    "wv = []\n",
    "for tk in doc:\n",
    "    wv.append(tk.vector)\n",
    "\n",
    "dv_1 = doc.vector # spaCy dokumentum vektor\n",
    "dv_2 = np.mean([wv[0], wv[1], wv[2]], axis=0) # numpy-val kiszámítjuk a szóvektorok átlagát\n",
    "\n",
    "# Megnézzük, hogy a különbség 0-e, ha igen, akkor bizonyítottuk, hogy a spaCy is így számol dokumentum vektort\n",
    "all(v == 0 for v in dv_1 - dv_2)"
   ]
  },
  {
   "cell_type": "code",
   "execution_count": 45,
   "id": "29f5be16-dbe7-40b9-aec2-4bf7661a68de",
   "metadata": {},
   "outputs": [
    {
     "name": "stdout",
     "output_type": "stream",
     "text": [
      "Dokumentumok hasonlósága: 0.9913338005910385\n"
     ]
    }
   ],
   "source": [
    "doc1 = nlp_hu(\"villamossal megyek a térre\")\n",
    "doc2 = nlp_hu(\"a térre villamsosal megyek\")\n",
    "print('Dokumentumok hasonlósága:', doc1.similarity(doc2))"
   ]
  },
  {
   "cell_type": "markdown",
   "id": "171872fb-cb2a-4652-9620-2f38a1b193ec",
   "metadata": {},
   "source": [
    "## Tanulás alapú megoldások\n",
    "\n",
    "### Bert és egyéb Transformer-hálók\n",
    "- Léteznek már magyar nyelvre is dokumentszintű reprezentáló előtanított modellek, ilyen a [huBERT](https://huggingface.co/SZTAKI-HLT/hubert-base-cc) is, amit például a HuSpaCy [`hu_core_news_trf`](https://huggingface.co/huspacy/hu_core_news_trf) modellje használ is. Ezzel rendkívűl pontos előfeldolgozó rendszereket lehet finomhangolni, hátránya persze a nagyon sok millió paraméternek köszönhetően, hogy lassú, ami sok esetben hátrány, de alkalmazás válogatja. Aki szeretne mélyebben megismerkedni ezen neuronhálókkal és még sok egyébbel, azoknak ajánljuk Berend Gábor óráját a [Számítógépes szemantikát](https://github.com/begab/compsem/).\n",
    "\n",
    "### Doc2Vec\n",
    "- És ahogyan szó volt, léteznek jóval egyszerűbb megoldások is, mint a Doc2Vec. \n"
   ]
  },
  {
   "cell_type": "markdown",
   "id": "bfaee4b7-026a-4fd2-abcb-1577c47c822a",
   "metadata": {},
   "source": [
    "# Dokumentumosztályozás szóbeágyazásra építve"
   ]
  },
  {
   "cell_type": "code",
   "execution_count": 46,
   "id": "cc091bda-37fc-4538-874d-d427c7d68da8",
   "metadata": {},
   "outputs": [],
   "source": [
    "from gensim.models.doc2vec import Doc2Vec, TaggedDocument\n",
    "from gensim.models.callbacks import CallbackAny2Vec\n",
    "import tensorflow as tf\n",
    "import multiprocessing\n",
    "import numpy as np\n",
    "import os"
   ]
  },
  {
   "cell_type": "markdown",
   "id": "74f7050c-303c-4036-b032-eedd48f3562e",
   "metadata": {},
   "source": [
    "## Töltsük le az IMDB reviews adathalmazt"
   ]
  },
  {
   "cell_type": "markdown",
   "id": "5311f27b-9c3e-4943-83e6-26f7c6a49abb",
   "metadata": {},
   "source": [
    "A train_reviews és test_reviews ndarray objektumok, melyek integer-eket tartalmazó listákból állnak. 25000 ilyen listát találhatunk mindkét objektumban. Egy-egy integer-eket tartalmazó lista egy-egy review. Az integer-ek egyedi azonosítók, melyek a szavakat kódolják. A train_labels és test_labels szintén ndarray objektumok, melyek a review-k címkéit tartalmazzák. Minden egyes review-t pozitív (1) vagy negatív (0) kategóriába sorolunk."
   ]
  },
  {
   "cell_type": "code",
   "execution_count": 47,
   "id": "3a5a4fde-3322-4f3b-aea5-9100257437d2",
   "metadata": {},
   "outputs": [],
   "source": [
    "imdb = tf.keras.datasets.imdb\n",
    "(train_reviews, train_labels), (test_reviews, test_labels) = imdb.load_data()"
   ]
  },
  {
   "cell_type": "code",
   "execution_count": 48,
   "id": "8c000624-d946-4a58-98dc-9d181ae5740b",
   "metadata": {},
   "outputs": [
    {
     "data": {
      "text/plain": [
       "[1,\n",
       " 14,\n",
       " 22,\n",
       " 16,\n",
       " 43,\n",
       " 530,\n",
       " 973,\n",
       " 1622,\n",
       " 1385,\n",
       " 65,\n",
       " 458,\n",
       " 4468,\n",
       " 66,\n",
       " 3941,\n",
       " 4,\n",
       " 173,\n",
       " 36,\n",
       " 256,\n",
       " 5,\n",
       " 25,\n",
       " 100,\n",
       " 43,\n",
       " 838,\n",
       " 112,\n",
       " 50,\n",
       " 670,\n",
       " 22665,\n",
       " 9,\n",
       " 35,\n",
       " 480,\n",
       " 284,\n",
       " 5,\n",
       " 150,\n",
       " 4,\n",
       " 172,\n",
       " 112,\n",
       " 167,\n",
       " 21631,\n",
       " 336,\n",
       " 385,\n",
       " 39,\n",
       " 4,\n",
       " 172,\n",
       " 4536,\n",
       " 1111,\n",
       " 17,\n",
       " 546,\n",
       " 38,\n",
       " 13,\n",
       " 447,\n",
       " 4,\n",
       " 192,\n",
       " 50,\n",
       " 16,\n",
       " 6,\n",
       " 147,\n",
       " 2025,\n",
       " 19,\n",
       " 14,\n",
       " 22,\n",
       " 4,\n",
       " 1920,\n",
       " 4613,\n",
       " 469,\n",
       " 4,\n",
       " 22,\n",
       " 71,\n",
       " 87,\n",
       " 12,\n",
       " 16,\n",
       " 43,\n",
       " 530,\n",
       " 38,\n",
       " 76,\n",
       " 15,\n",
       " 13,\n",
       " 1247,\n",
       " 4,\n",
       " 22,\n",
       " 17,\n",
       " 515,\n",
       " 17,\n",
       " 12,\n",
       " 16,\n",
       " 626,\n",
       " 18,\n",
       " 19193,\n",
       " 5,\n",
       " 62,\n",
       " 386,\n",
       " 12,\n",
       " 8,\n",
       " 316,\n",
       " 8,\n",
       " 106,\n",
       " 5,\n",
       " 4,\n",
       " 2223,\n",
       " 5244,\n",
       " 16,\n",
       " 480,\n",
       " 66,\n",
       " 3785,\n",
       " 33,\n",
       " 4,\n",
       " 130,\n",
       " 12,\n",
       " 16,\n",
       " 38,\n",
       " 619,\n",
       " 5,\n",
       " 25,\n",
       " 124,\n",
       " 51,\n",
       " 36,\n",
       " 135,\n",
       " 48,\n",
       " 25,\n",
       " 1415,\n",
       " 33,\n",
       " 6,\n",
       " 22,\n",
       " 12,\n",
       " 215,\n",
       " 28,\n",
       " 77,\n",
       " 52,\n",
       " 5,\n",
       " 14,\n",
       " 407,\n",
       " 16,\n",
       " 82,\n",
       " 10311,\n",
       " 8,\n",
       " 4,\n",
       " 107,\n",
       " 117,\n",
       " 5952,\n",
       " 15,\n",
       " 256,\n",
       " 4,\n",
       " 31050,\n",
       " 7,\n",
       " 3766,\n",
       " 5,\n",
       " 723,\n",
       " 36,\n",
       " 71,\n",
       " 43,\n",
       " 530,\n",
       " 476,\n",
       " 26,\n",
       " 400,\n",
       " 317,\n",
       " 46,\n",
       " 7,\n",
       " 4,\n",
       " 12118,\n",
       " 1029,\n",
       " 13,\n",
       " 104,\n",
       " 88,\n",
       " 4,\n",
       " 381,\n",
       " 15,\n",
       " 297,\n",
       " 98,\n",
       " 32,\n",
       " 2071,\n",
       " 56,\n",
       " 26,\n",
       " 141,\n",
       " 6,\n",
       " 194,\n",
       " 7486,\n",
       " 18,\n",
       " 4,\n",
       " 226,\n",
       " 22,\n",
       " 21,\n",
       " 134,\n",
       " 476,\n",
       " 26,\n",
       " 480,\n",
       " 5,\n",
       " 144,\n",
       " 30,\n",
       " 5535,\n",
       " 18,\n",
       " 51,\n",
       " 36,\n",
       " 28,\n",
       " 224,\n",
       " 92,\n",
       " 25,\n",
       " 104,\n",
       " 4,\n",
       " 226,\n",
       " 65,\n",
       " 16,\n",
       " 38,\n",
       " 1334,\n",
       " 88,\n",
       " 12,\n",
       " 16,\n",
       " 283,\n",
       " 5,\n",
       " 16,\n",
       " 4472,\n",
       " 113,\n",
       " 103,\n",
       " 32,\n",
       " 15,\n",
       " 16,\n",
       " 5345,\n",
       " 19,\n",
       " 178,\n",
       " 32]"
      ]
     },
     "execution_count": 48,
     "metadata": {},
     "output_type": "execute_result"
    }
   ],
   "source": [
    "train_reviews[0]"
   ]
  },
  {
   "cell_type": "code",
   "execution_count": 49,
   "id": "b49fc560-9047-43d1-aaf6-48cc2b1bece2",
   "metadata": {},
   "outputs": [
    {
     "data": {
      "text/plain": [
       "1"
      ]
     },
     "execution_count": 49,
     "metadata": {},
     "output_type": "execute_result"
    }
   ],
   "source": [
    "train_labels[0]"
   ]
  },
  {
   "cell_type": "markdown",
   "id": "ac7e8d23-0642-4831-913d-ecbb183f85b7",
   "metadata": {},
   "source": [
    "Készítsük el az szavakat reprezentáló integer-ek dekódolásához a szótárunkat. Ehhez használni tudjuk az imdb objektum get_word_index() metódusát, ami egy dictionary-t ad vissza, melyben a szavak string alakja a kulcs, az integer alakja pedig az érték. A dictionary elejéhez hozzáadunk néhány tag-et."
   ]
  },
  {
   "cell_type": "code",
   "execution_count": 50,
   "id": "f5a54b05-ec0d-4a8b-a892-aa425c7dd59e",
   "metadata": {},
   "outputs": [],
   "source": [
    "vocab = imdb.get_word_index()\n",
    "vocab = {k:(v + 3) for k, v in vocab.items()}\n",
    "vocab[\"<PAD>\"] = 0\n",
    "vocab[\"<START>\"] = 1\n",
    "vocab[\"<UNK>\"] = 2\n",
    "vocab[\"<UNUSED>\"] = 3"
   ]
  },
  {
   "cell_type": "code",
   "execution_count": 51,
   "id": "34118ac7-351a-4590-b780-0901b686067e",
   "metadata": {},
   "outputs": [
    {
     "data": {
      "text/plain": [
       "530"
      ]
     },
     "execution_count": 51,
     "metadata": {},
     "output_type": "execute_result"
    }
   ],
   "source": [
    "vocab[\"brilliant\"]"
   ]
  },
  {
   "cell_type": "markdown",
   "id": "396a6aa4-186f-4709-b2fc-0c1f94627816",
   "metadata": {},
   "source": [
    "Készítsünk inverz szótárat, amelyben a szavak integer alakja a kulcs, a string alakja pedig az érték."
   ]
  },
  {
   "cell_type": "code",
   "execution_count": 52,
   "id": "0c88dd3d-5dc6-416b-a3cd-fbe9814dd6d3",
   "metadata": {},
   "outputs": [],
   "source": [
    "vocab_inv = dict([(value, key) for (key, value) in vocab.items()])"
   ]
  },
  {
   "cell_type": "code",
   "execution_count": 53,
   "id": "5e5febe6-80b7-4e15-a683-d78f6838a5ab",
   "metadata": {},
   "outputs": [
    {
     "data": {
      "text/plain": [
       "'brilliant'"
      ]
     },
     "execution_count": 53,
     "metadata": {},
     "output_type": "execute_result"
    }
   ],
   "source": [
    "vocab_inv[530]"
   ]
  },
  {
   "cell_type": "markdown",
   "id": "02dad23d-1b04-4dbe-825b-8db95fc58524",
   "metadata": {},
   "source": [
    "Definiáljunk egy decode_review() metódust, mely a review-k integer reprezentációját string reprezentációvá alakítja."
   ]
  },
  {
   "cell_type": "code",
   "execution_count": 54,
   "id": "154374e6-2128-4e78-9bf5-e72263706e3b",
   "metadata": {},
   "outputs": [],
   "source": [
    "def decode_review(review):\n",
    "    return [vocab_inv.get(i, \"?\") for i in review]"
   ]
  },
  {
   "cell_type": "code",
   "execution_count": 55,
   "id": "c796b989-9a0f-45db-86f2-e87d5d65c7d1",
   "metadata": {},
   "outputs": [
    {
     "data": {
      "text/plain": [
       "['<START>',\n",
       " 'this',\n",
       " 'film',\n",
       " 'was',\n",
       " 'just',\n",
       " 'brilliant',\n",
       " 'casting',\n",
       " 'location',\n",
       " 'scenery',\n",
       " 'story',\n",
       " 'direction',\n",
       " \"everyone's\",\n",
       " 'really',\n",
       " 'suited',\n",
       " 'the',\n",
       " 'part',\n",
       " 'they',\n",
       " 'played',\n",
       " 'and',\n",
       " 'you',\n",
       " 'could',\n",
       " 'just',\n",
       " 'imagine',\n",
       " 'being',\n",
       " 'there',\n",
       " 'robert',\n",
       " \"redford's\",\n",
       " 'is',\n",
       " 'an',\n",
       " 'amazing',\n",
       " 'actor',\n",
       " 'and',\n",
       " 'now',\n",
       " 'the',\n",
       " 'same',\n",
       " 'being',\n",
       " 'director',\n",
       " \"norman's\",\n",
       " 'father',\n",
       " 'came',\n",
       " 'from',\n",
       " 'the',\n",
       " 'same',\n",
       " 'scottish',\n",
       " 'island',\n",
       " 'as',\n",
       " 'myself',\n",
       " 'so',\n",
       " 'i',\n",
       " 'loved',\n",
       " 'the',\n",
       " 'fact',\n",
       " 'there',\n",
       " 'was',\n",
       " 'a',\n",
       " 'real',\n",
       " 'connection',\n",
       " 'with',\n",
       " 'this',\n",
       " 'film',\n",
       " 'the',\n",
       " 'witty',\n",
       " 'remarks',\n",
       " 'throughout',\n",
       " 'the',\n",
       " 'film',\n",
       " 'were',\n",
       " 'great',\n",
       " 'it',\n",
       " 'was',\n",
       " 'just',\n",
       " 'brilliant',\n",
       " 'so',\n",
       " 'much',\n",
       " 'that',\n",
       " 'i',\n",
       " 'bought',\n",
       " 'the',\n",
       " 'film',\n",
       " 'as',\n",
       " 'soon',\n",
       " 'as',\n",
       " 'it',\n",
       " 'was',\n",
       " 'released',\n",
       " 'for',\n",
       " 'retail',\n",
       " 'and',\n",
       " 'would',\n",
       " 'recommend',\n",
       " 'it',\n",
       " 'to',\n",
       " 'everyone',\n",
       " 'to',\n",
       " 'watch',\n",
       " 'and',\n",
       " 'the',\n",
       " 'fly',\n",
       " 'fishing',\n",
       " 'was',\n",
       " 'amazing',\n",
       " 'really',\n",
       " 'cried',\n",
       " 'at',\n",
       " 'the',\n",
       " 'end',\n",
       " 'it',\n",
       " 'was',\n",
       " 'so',\n",
       " 'sad',\n",
       " 'and',\n",
       " 'you',\n",
       " 'know',\n",
       " 'what',\n",
       " 'they',\n",
       " 'say',\n",
       " 'if',\n",
       " 'you',\n",
       " 'cry',\n",
       " 'at',\n",
       " 'a',\n",
       " 'film',\n",
       " 'it',\n",
       " 'must',\n",
       " 'have',\n",
       " 'been',\n",
       " 'good',\n",
       " 'and',\n",
       " 'this',\n",
       " 'definitely',\n",
       " 'was',\n",
       " 'also',\n",
       " 'congratulations',\n",
       " 'to',\n",
       " 'the',\n",
       " 'two',\n",
       " 'little',\n",
       " \"boy's\",\n",
       " 'that',\n",
       " 'played',\n",
       " 'the',\n",
       " \"part's\",\n",
       " 'of',\n",
       " 'norman',\n",
       " 'and',\n",
       " 'paul',\n",
       " 'they',\n",
       " 'were',\n",
       " 'just',\n",
       " 'brilliant',\n",
       " 'children',\n",
       " 'are',\n",
       " 'often',\n",
       " 'left',\n",
       " 'out',\n",
       " 'of',\n",
       " 'the',\n",
       " 'praising',\n",
       " 'list',\n",
       " 'i',\n",
       " 'think',\n",
       " 'because',\n",
       " 'the',\n",
       " 'stars',\n",
       " 'that',\n",
       " 'play',\n",
       " 'them',\n",
       " 'all',\n",
       " 'grown',\n",
       " 'up',\n",
       " 'are',\n",
       " 'such',\n",
       " 'a',\n",
       " 'big',\n",
       " 'profile',\n",
       " 'for',\n",
       " 'the',\n",
       " 'whole',\n",
       " 'film',\n",
       " 'but',\n",
       " 'these',\n",
       " 'children',\n",
       " 'are',\n",
       " 'amazing',\n",
       " 'and',\n",
       " 'should',\n",
       " 'be',\n",
       " 'praised',\n",
       " 'for',\n",
       " 'what',\n",
       " 'they',\n",
       " 'have',\n",
       " 'done',\n",
       " \"don't\",\n",
       " 'you',\n",
       " 'think',\n",
       " 'the',\n",
       " 'whole',\n",
       " 'story',\n",
       " 'was',\n",
       " 'so',\n",
       " 'lovely',\n",
       " 'because',\n",
       " 'it',\n",
       " 'was',\n",
       " 'true',\n",
       " 'and',\n",
       " 'was',\n",
       " \"someone's\",\n",
       " 'life',\n",
       " 'after',\n",
       " 'all',\n",
       " 'that',\n",
       " 'was',\n",
       " 'shared',\n",
       " 'with',\n",
       " 'us',\n",
       " 'all']"
      ]
     },
     "execution_count": 55,
     "metadata": {},
     "output_type": "execute_result"
    }
   ],
   "source": [
    "decode_review(train_reviews[0])"
   ]
  },
  {
   "cell_type": "markdown",
   "id": "090f57e3-48e5-493c-859d-2c15b1787cf8",
   "metadata": {},
   "source": [
    "## Doc2Vec dokumentumbeágyazások létrehozása"
   ]
  },
  {
   "cell_type": "markdown",
   "id": "474ea274-c8cf-414d-9185-d823ed34ffac",
   "metadata": {},
   "source": [
    "A dokumentumvektorok elkészítéséhez a gensim csomagot fogjuk használni. Alakítsuk a review-kat TaggedDocument objektumokká."
   ]
  },
  {
   "cell_type": "code",
   "execution_count": 56,
   "id": "7eea5918-b4f0-49ef-9452-b2ab02207db2",
   "metadata": {},
   "outputs": [],
   "source": [
    "reviews = np.concatenate((train_reviews, test_reviews))\n",
    "docs = [TaggedDocument(decode_review(review), [i]) for i, review in enumerate(reviews)]"
   ]
  },
  {
   "cell_type": "code",
   "execution_count": 57,
   "id": "1d8abdc6-7323-4b21-bc68-6c17a946928f",
   "metadata": {},
   "outputs": [],
   "source": [
    "class Doc2VecCallback(CallbackAny2Vec):\n",
    "    def __init__(self, epochs):\n",
    "        self.prog_bar = tf.keras.utils.Progbar(epochs)\n",
    "        self.epoch = 0\n",
    "    def on_epoch_end(self, model):\n",
    "        self.epoch += 1\n",
    "        self.prog_bar.update(self.epoch)"
   ]
  },
  {
   "cell_type": "markdown",
   "id": "b2aba183-4e3a-4135-8bf8-947a92b88446",
   "metadata": {},
   "source": [
    "A Doc2Vec osztály elkészíti a review-k dokumentum vektorait."
   ]
  },
  {
   "cell_type": "code",
   "execution_count": 58,
   "id": "c795a432-efe3-476a-94f5-c3d2567ff31a",
   "metadata": {},
   "outputs": [
    {
     "name": "stdout",
     "output_type": "stream",
     "text": [
      "5/5 [==============================] - 53s 7s/step\n"
     ]
    }
   ],
   "source": [
    "d2v_model = Doc2Vec(docs, dm=0, min_count=2, vector_size=100, hs=0, negative=5, epochs=5,\n",
    "                    callbacks=[Doc2VecCallback(5)], sample=0, workers=multiprocessing.cpu_count())"
   ]
  },
  {
   "cell_type": "code",
   "execution_count": 59,
   "id": "c22b27aa-9d27-4cb2-b093-538e8e6119cb",
   "metadata": {},
   "outputs": [],
   "source": [
    "# fname = '/content/d2v_model'\n",
    "# d2v_model = Doc2Vec.load(fname)  # you can continue training with the loaded model!"
   ]
  },
  {
   "cell_type": "markdown",
   "id": "22d632c2-8f40-45db-9e88-9e11612713b2",
   "metadata": {},
   "source": [
    "Nyerjük ki a modellből a train_reviews és test_reviews adataink vektoros reprezentációit."
   ]
  },
  {
   "cell_type": "code",
   "execution_count": 60,
   "id": "de8e6b40-2e07-4b9a-b187-127de2d6a074",
   "metadata": {},
   "outputs": [],
   "source": [
    "embdgs = d2v_model.docvecs.vectors_docs\n",
    "train_embdgs, test_embdgs = np.split(embdgs, [25000])"
   ]
  },
  {
   "cell_type": "code",
   "execution_count": 61,
   "id": "06686e43-abd6-43cd-bfe8-0f40f8601b7d",
   "metadata": {},
   "outputs": [
    {
     "data": {
      "text/plain": [
       "array([-1.74097687e-01, -5.14344990e-01,  3.22573334e-01,  1.19337395e-01,\n",
       "        1.19754776e-01, -8.17687809e-02, -3.75188068e-02,  2.42810890e-01,\n",
       "       -1.67408139e-01,  3.37305278e-01, -8.80542994e-02,  4.14379567e-01,\n",
       "       -1.62556902e-01, -3.78617376e-01, -5.74041128e-01, -1.92857325e-01,\n",
       "       -1.08339950e-01,  1.77179515e-01, -4.67040688e-01, -2.31176093e-01,\n",
       "        1.88196644e-01, -2.68895477e-01,  2.09444746e-01,  2.56040871e-01,\n",
       "       -4.81825769e-02, -2.84133285e-01, -3.69418226e-02, -3.18361342e-01,\n",
       "        1.81730717e-01,  2.51744598e-01, -2.40283996e-01, -2.25647315e-01,\n",
       "        1.94938660e-01, -8.38461705e-03, -1.48170277e-01,  1.14606321e-01,\n",
       "        3.74331488e-04, -9.62333530e-02,  2.96103070e-04,  3.60146403e-01,\n",
       "       -2.06620209e-02, -5.04186928e-01, -2.95274884e-01,  5.39792068e-02,\n",
       "       -2.65883300e-02, -2.88528740e-01, -2.84338951e-01,  1.13575868e-02,\n",
       "       -3.49431336e-02, -1.62832394e-01,  2.71625370e-01,  7.48740835e-03,\n",
       "       -1.78291321e-01, -2.55016387e-01,  8.04693699e-02, -2.96761483e-01,\n",
       "        1.97452351e-01,  1.31398067e-01, -8.55857059e-02, -2.21303716e-01,\n",
       "       -8.43718499e-02, -5.17059207e-01, -2.02701405e-01, -2.62782216e-01,\n",
       "        4.03194457e-01, -2.61455566e-01, -8.99368227e-02,  4.92348999e-01,\n",
       "        4.34246138e-02,  1.62051365e-01,  2.58539647e-01, -1.12783954e-01,\n",
       "        5.25480770e-02,  7.46228993e-02,  1.20662466e-01,  3.49237263e-01,\n",
       "        2.04538003e-01, -1.11750700e-01,  5.63409962e-02, -1.10821657e-01,\n",
       "       -3.35732520e-01,  1.53013334e-01, -1.44199699e-01, -1.62580058e-01,\n",
       "       -3.96639645e-01, -7.03857094e-02, -1.27274022e-01,  5.36582880e-02,\n",
       "        1.18169561e-01, -1.28849328e-01,  9.90933850e-02,  3.11893281e-02,\n",
       "       -1.71689451e-01, -2.12752715e-01,  4.25328076e-01,  3.56945544e-02,\n",
       "       -1.37704194e-01, -2.63585299e-01, -5.29541671e-02, -1.21050648e-01],\n",
       "      dtype=float32)"
      ]
     },
     "execution_count": 61,
     "metadata": {},
     "output_type": "execute_result"
    }
   ],
   "source": [
    "train_embdgs[0]"
   ]
  },
  {
   "cell_type": "markdown",
   "id": "f72e56f8-dd4a-43a0-a573-7d5dceec2e6a",
   "metadata": {},
   "source": [
    "## Osztályozás Doc2Vec beágyazások alapján"
   ]
  },
  {
   "cell_type": "code",
   "execution_count": 62,
   "id": "9cbf9b4d-d3bb-48ec-b172-0ab1bb6f0a95",
   "metadata": {},
   "outputs": [],
   "source": [
    "model_1 = tf.keras.Sequential()\n",
    "model_1.add(tf.keras.layers.Dense(1, activation=\"sigmoid\"))\n",
    "model_1.compile(optimizer=tf.compat.v1.train.AdamOptimizer(0.01), loss='binary_crossentropy',\n",
    "              metrics=['accuracy'])"
   ]
  },
  {
   "cell_type": "code",
   "execution_count": 63,
   "id": "e96442e8-0b6f-4861-bf3f-8fa60cdb0ef2",
   "metadata": {},
   "outputs": [
    {
     "name": "stdout",
     "output_type": "stream",
     "text": [
      "Epoch 1/50\n",
      "391/391 [==============================] - 5s 7ms/step - loss: 0.4042 - accuracy: 0.8334\n",
      "Epoch 2/50\n",
      "391/391 [==============================] - 3s 6ms/step - loss: 0.3440 - accuracy: 0.8512\n",
      "Epoch 3/50\n",
      "391/391 [==============================] - 2s 6ms/step - loss: 0.3391 - accuracy: 0.8526\n",
      "Epoch 4/50\n",
      "391/391 [==============================] - 2s 6ms/step - loss: 0.3374 - accuracy: 0.8527\n",
      "Epoch 5/50\n",
      "391/391 [==============================] - 3s 7ms/step - loss: 0.3358 - accuracy: 0.8536\n",
      "Epoch 6/50\n",
      "391/391 [==============================] - 3s 7ms/step - loss: 0.3354 - accuracy: 0.8550\n",
      "Epoch 7/50\n",
      "391/391 [==============================] - 3s 7ms/step - loss: 0.3353 - accuracy: 0.8546\n",
      "Epoch 8/50\n",
      "391/391 [==============================] - 2s 6ms/step - loss: 0.3340 - accuracy: 0.8552\n",
      "Epoch 9/50\n",
      "391/391 [==============================] - 2s 6ms/step - loss: 0.3340 - accuracy: 0.8547\n",
      "Epoch 10/50\n",
      "391/391 [==============================] - 2s 6ms/step - loss: 0.3335 - accuracy: 0.8545\n",
      "Epoch 11/50\n",
      "391/391 [==============================] - 2s 6ms/step - loss: 0.3336 - accuracy: 0.8544\n",
      "Epoch 12/50\n",
      "391/391 [==============================] - 3s 7ms/step - loss: 0.3335 - accuracy: 0.8552\n",
      "Epoch 13/50\n",
      "391/391 [==============================] - 3s 7ms/step - loss: 0.3329 - accuracy: 0.8550\n",
      "Epoch 14/50\n",
      "391/391 [==============================] - 2s 6ms/step - loss: 0.3330 - accuracy: 0.8558\n",
      "Epoch 15/50\n",
      "391/391 [==============================] - 3s 7ms/step - loss: 0.3323 - accuracy: 0.8567\n",
      "Epoch 16/50\n",
      "391/391 [==============================] - 3s 9ms/step - loss: 0.3322 - accuracy: 0.8566\n",
      "Epoch 17/50\n",
      "391/391 [==============================] - 4s 11ms/step - loss: 0.3320 - accuracy: 0.8572\n",
      "Epoch 18/50\n",
      "391/391 [==============================] - 4s 9ms/step - loss: 0.3316 - accuracy: 0.8569\n",
      "Epoch 19/50\n",
      "391/391 [==============================] - 3s 9ms/step - loss: 0.3318 - accuracy: 0.8562\n",
      "Epoch 20/50\n",
      "391/391 [==============================] - 2s 6ms/step - loss: 0.3322 - accuracy: 0.8567\n",
      "Epoch 21/50\n",
      "391/391 [==============================] - 3s 7ms/step - loss: 0.3315 - accuracy: 0.8577\n",
      "Epoch 22/50\n",
      "391/391 [==============================] - 2s 6ms/step - loss: 0.3314 - accuracy: 0.8560\n",
      "Epoch 23/50\n",
      "391/391 [==============================] - 3s 8ms/step - loss: 0.3315 - accuracy: 0.8577\n",
      "Epoch 24/50\n",
      "391/391 [==============================] - 2s 6ms/step - loss: 0.3312 - accuracy: 0.8578\n",
      "Epoch 25/50\n",
      "391/391 [==============================] - 2s 5ms/step - loss: 0.3312 - accuracy: 0.8562\n",
      "Epoch 26/50\n",
      "391/391 [==============================] - 2s 5ms/step - loss: 0.3310 - accuracy: 0.8566\n",
      "Epoch 27/50\n",
      "391/391 [==============================] - 2s 5ms/step - loss: 0.3314 - accuracy: 0.8572\n",
      "Epoch 28/50\n",
      "391/391 [==============================] - 2s 5ms/step - loss: 0.3307 - accuracy: 0.8576\n",
      "Epoch 29/50\n",
      "391/391 [==============================] - 2s 6ms/step - loss: 0.3304 - accuracy: 0.8571\n",
      "Epoch 30/50\n",
      "391/391 [==============================] - 3s 7ms/step - loss: 0.3305 - accuracy: 0.8582\n",
      "Epoch 31/50\n",
      "391/391 [==============================] - 2s 6ms/step - loss: 0.3310 - accuracy: 0.8574\n",
      "Epoch 32/50\n",
      "391/391 [==============================] - 2s 6ms/step - loss: 0.3302 - accuracy: 0.8582\n",
      "Epoch 33/50\n",
      "391/391 [==============================] - 2s 6ms/step - loss: 0.3301 - accuracy: 0.8577\n",
      "Epoch 34/50\n",
      "391/391 [==============================] - 2s 6ms/step - loss: 0.3307 - accuracy: 0.8572\n",
      "Epoch 35/50\n",
      "391/391 [==============================] - 3s 7ms/step - loss: 0.3302 - accuracy: 0.8577\n",
      "Epoch 36/50\n",
      "391/391 [==============================] - 3s 7ms/step - loss: 0.3303 - accuracy: 0.8576\n",
      "Epoch 37/50\n",
      "391/391 [==============================] - 3s 7ms/step - loss: 0.3303 - accuracy: 0.8584\n",
      "Epoch 38/50\n",
      "391/391 [==============================] - 2s 6ms/step - loss: 0.3304 - accuracy: 0.8586\n",
      "Epoch 39/50\n",
      "391/391 [==============================] - 2s 5ms/step - loss: 0.3299 - accuracy: 0.8569\n",
      "Epoch 40/50\n",
      "391/391 [==============================] - 2s 6ms/step - loss: 0.3304 - accuracy: 0.8579\n",
      "Epoch 41/50\n",
      "391/391 [==============================] - 2s 6ms/step - loss: 0.3300 - accuracy: 0.8582\n",
      "Epoch 42/50\n",
      "391/391 [==============================] - 2s 6ms/step - loss: 0.3303 - accuracy: 0.8568\n",
      "Epoch 43/50\n",
      "391/391 [==============================] - 3s 7ms/step - loss: 0.3300 - accuracy: 0.8585\n",
      "Epoch 44/50\n",
      "391/391 [==============================] - 3s 6ms/step - loss: 0.3300 - accuracy: 0.8570\n",
      "Epoch 45/50\n",
      "391/391 [==============================] - 3s 7ms/step - loss: 0.3296 - accuracy: 0.8584\n",
      "Epoch 46/50\n",
      "391/391 [==============================] - 3s 7ms/step - loss: 0.3297 - accuracy: 0.8584\n",
      "Epoch 47/50\n",
      "391/391 [==============================] - 2s 6ms/step - loss: 0.3299 - accuracy: 0.8587\n",
      "Epoch 48/50\n",
      "391/391 [==============================] - 2s 6ms/step - loss: 0.3297 - accuracy: 0.8586\n",
      "Epoch 49/50\n",
      "391/391 [==============================] - 3s 7ms/step - loss: 0.3299 - accuracy: 0.8582\n",
      "Epoch 50/50\n",
      "391/391 [==============================] - 3s 7ms/step - loss: 0.3299 - accuracy: 0.8580\n"
     ]
    },
    {
     "data": {
      "text/plain": [
       "<keras.callbacks.History at 0x2b54e73cb80>"
      ]
     },
     "execution_count": 63,
     "metadata": {},
     "output_type": "execute_result"
    }
   ],
   "source": [
    "model_1.fit(train_embdgs, train_labels, batch_size=64, epochs=50, shuffle=True)"
   ]
  },
  {
   "cell_type": "code",
   "execution_count": 64,
   "id": "3cdefe67-9680-407e-ad0c-0c99f1d7ba15",
   "metadata": {},
   "outputs": [
    {
     "name": "stdout",
     "output_type": "stream",
     "text": [
      "782/782 [==============================] - 4s 4ms/step - loss: 0.3399 - accuracy: 0.8523\n"
     ]
    },
    {
     "data": {
      "text/plain": [
       "[0.3398783206939697, 0.8523200154304504]"
      ]
     },
     "execution_count": 64,
     "metadata": {},
     "output_type": "execute_result"
    }
   ],
   "source": [
    "model_1.evaluate(test_embdgs, test_labels)"
   ]
  },
  {
   "cell_type": "markdown",
   "id": "d1c79403-d7eb-4e4b-aea1-21845e35a954",
   "metadata": {},
   "source": [
    "Hozzunk létre egy fokkal összetettebb neuronhálót."
   ]
  },
  {
   "cell_type": "code",
   "execution_count": 65,
   "id": "b7c9a8c1-73d7-4dff-b39f-295b13c4c673",
   "metadata": {},
   "outputs": [],
   "source": [
    "model_2 = tf.keras.Sequential()\n",
    "model_2.add(tf.keras.layers.Dense(50, activation=\"relu\", input_shape=(100, )))\n",
    "model_2.add(tf.keras.layers.Dropout(0.3))\n",
    "model_2.add(tf.keras.layers.Dense(50, activation=\"relu\"))\n",
    "model_2.add(tf.keras.layers.Dropout(0.2))\n",
    "model_2.add(tf.keras.layers.Dense(50, activation=\"relu\"))\n",
    "model_2.add(tf.keras.layers.Dense(1, activation=\"sigmoid\"))\n",
    "model_2.compile(optimizer=tf.compat.v1.train.AdamOptimizer(0.01), loss='binary_crossentropy',\n",
    "              metrics=['accuracy'])"
   ]
  },
  {
   "cell_type": "code",
   "execution_count": 66,
   "id": "88538097-a40a-466f-a620-190bcbe98997",
   "metadata": {},
   "outputs": [
    {
     "name": "stdout",
     "output_type": "stream",
     "text": [
      "Epoch 1/50\n",
      "391/391 [==============================] - 4s 9ms/step - loss: 0.3788 - accuracy: 0.8349\n",
      "Epoch 2/50\n",
      "391/391 [==============================] - 3s 9ms/step - loss: 0.3536 - accuracy: 0.8476\n",
      "Epoch 3/50\n",
      "391/391 [==============================] - 4s 9ms/step - loss: 0.3466 - accuracy: 0.8507\n",
      "Epoch 4/50\n",
      "391/391 [==============================] - 3s 9ms/step - loss: 0.3452 - accuracy: 0.8523\n",
      "Epoch 5/50\n",
      "391/391 [==============================] - 3s 9ms/step - loss: 0.3450 - accuracy: 0.8512\n",
      "Epoch 6/50\n",
      "391/391 [==============================] - 3s 9ms/step - loss: 0.3398 - accuracy: 0.8535\n",
      "Epoch 7/50\n",
      "391/391 [==============================] - 3s 9ms/step - loss: 0.3381 - accuracy: 0.8541\n",
      "Epoch 8/50\n",
      "391/391 [==============================] - 4s 9ms/step - loss: 0.3395 - accuracy: 0.8553\n",
      "Epoch 9/50\n",
      "391/391 [==============================] - 4s 10ms/step - loss: 0.3347 - accuracy: 0.8563\n",
      "Epoch 10/50\n",
      "391/391 [==============================] - 4s 9ms/step - loss: 0.3344 - accuracy: 0.8569\n",
      "Epoch 11/50\n",
      "391/391 [==============================] - 3s 9ms/step - loss: 0.3337 - accuracy: 0.8570\n",
      "Epoch 12/50\n",
      "391/391 [==============================] - 4s 10ms/step - loss: 0.3333 - accuracy: 0.8582\n",
      "Epoch 13/50\n",
      "391/391 [==============================] - 3s 9ms/step - loss: 0.3330 - accuracy: 0.8563\n",
      "Epoch 14/50\n",
      "391/391 [==============================] - 4s 10ms/step - loss: 0.3326 - accuracy: 0.8565\n",
      "Epoch 15/50\n",
      "391/391 [==============================] - 3s 9ms/step - loss: 0.3307 - accuracy: 0.8588\n",
      "Epoch 16/50\n",
      "391/391 [==============================] - 4s 10ms/step - loss: 0.3287 - accuracy: 0.8589\n",
      "Epoch 17/50\n",
      "391/391 [==============================] - 4s 9ms/step - loss: 0.3319 - accuracy: 0.8594\n",
      "Epoch 18/50\n",
      "391/391 [==============================] - 3s 9ms/step - loss: 0.3262 - accuracy: 0.8602\n",
      "Epoch 19/50\n",
      "391/391 [==============================] - 4s 9ms/step - loss: 0.3278 - accuracy: 0.8582\n",
      "Epoch 20/50\n",
      "391/391 [==============================] - 4s 9ms/step - loss: 0.3296 - accuracy: 0.8574\n",
      "Epoch 21/50\n",
      "391/391 [==============================] - 4s 10ms/step - loss: 0.3286 - accuracy: 0.8605\n",
      "Epoch 22/50\n",
      "391/391 [==============================] - 4s 9ms/step - loss: 0.3268 - accuracy: 0.8598\n",
      "Epoch 23/50\n",
      "391/391 [==============================] - 4s 9ms/step - loss: 0.3257 - accuracy: 0.8587\n",
      "Epoch 24/50\n",
      "391/391 [==============================] - 4s 9ms/step - loss: 0.3231 - accuracy: 0.8627\n",
      "Epoch 25/50\n",
      "391/391 [==============================] - 5s 12ms/step - loss: 0.3253 - accuracy: 0.8592\n",
      "Epoch 26/50\n",
      "391/391 [==============================] - 4s 11ms/step - loss: 0.3231 - accuracy: 0.8614\n",
      "Epoch 27/50\n",
      "391/391 [==============================] - 4s 10ms/step - loss: 0.3254 - accuracy: 0.8607\n",
      "Epoch 28/50\n",
      "391/391 [==============================] - 4s 10ms/step - loss: 0.3217 - accuracy: 0.8630\n",
      "Epoch 29/50\n",
      "391/391 [==============================] - 4s 11ms/step - loss: 0.3226 - accuracy: 0.8634\n",
      "Epoch 30/50\n",
      "391/391 [==============================] - 4s 10ms/step - loss: 0.3220 - accuracy: 0.8646\n",
      "Epoch 31/50\n",
      "391/391 [==============================] - 4s 9ms/step - loss: 0.3203 - accuracy: 0.8647\n",
      "Epoch 32/50\n",
      "391/391 [==============================] - 4s 10ms/step - loss: 0.3212 - accuracy: 0.8630\n",
      "Epoch 33/50\n",
      "391/391 [==============================] - 4s 11ms/step - loss: 0.3205 - accuracy: 0.8631\n",
      "Epoch 34/50\n",
      "391/391 [==============================] - 4s 10ms/step - loss: 0.3191 - accuracy: 0.8647\n",
      "Epoch 35/50\n",
      "391/391 [==============================] - 4s 10ms/step - loss: 0.3184 - accuracy: 0.8680\n",
      "Epoch 36/50\n",
      "391/391 [==============================] - 4s 10ms/step - loss: 0.3211 - accuracy: 0.8642\n",
      "Epoch 37/50\n",
      "391/391 [==============================] - 4s 11ms/step - loss: 0.3185 - accuracy: 0.8648\n",
      "Epoch 38/50\n",
      "391/391 [==============================] - 4s 10ms/step - loss: 0.3192 - accuracy: 0.8631\n",
      "Epoch 39/50\n",
      "391/391 [==============================] - 4s 9ms/step - loss: 0.3171 - accuracy: 0.8640\n",
      "Epoch 40/50\n",
      "391/391 [==============================] - 4s 10ms/step - loss: 0.3158 - accuracy: 0.8666\n",
      "Epoch 41/50\n",
      "391/391 [==============================] - 5s 12ms/step - loss: 0.3169 - accuracy: 0.8657\n",
      "Epoch 42/50\n",
      "391/391 [==============================] - 4s 11ms/step - loss: 0.3165 - accuracy: 0.8651\n",
      "Epoch 43/50\n",
      "391/391 [==============================] - 4s 10ms/step - loss: 0.3171 - accuracy: 0.8635\n",
      "Epoch 44/50\n",
      "391/391 [==============================] - 4s 10ms/step - loss: 0.3166 - accuracy: 0.8648\n",
      "Epoch 45/50\n",
      "391/391 [==============================] - 4s 11ms/step - loss: 0.3160 - accuracy: 0.8656\n",
      "Epoch 46/50\n",
      "391/391 [==============================] - 4s 11ms/step - loss: 0.3159 - accuracy: 0.8666\n",
      "Epoch 47/50\n",
      "391/391 [==============================] - 4s 10ms/step - loss: 0.3164 - accuracy: 0.8657\n",
      "Epoch 48/50\n",
      "391/391 [==============================] - 4s 10ms/step - loss: 0.3179 - accuracy: 0.8656\n",
      "Epoch 49/50\n",
      "391/391 [==============================] - 5s 12ms/step - loss: 0.3128 - accuracy: 0.8669\n",
      "Epoch 50/50\n",
      "391/391 [==============================] - 4s 11ms/step - loss: 0.3154 - accuracy: 0.8667\n"
     ]
    },
    {
     "data": {
      "text/plain": [
       "<keras.callbacks.History at 0x2b54ff151f0>"
      ]
     },
     "execution_count": 66,
     "metadata": {},
     "output_type": "execute_result"
    }
   ],
   "source": [
    "model_2.fit(train_embdgs, train_labels, batch_size=64, epochs=50, shuffle=True)"
   ]
  },
  {
   "cell_type": "code",
   "execution_count": 67,
   "id": "1c6b2b07-13f7-4df0-a654-03b67826453d",
   "metadata": {},
   "outputs": [
    {
     "name": "stdout",
     "output_type": "stream",
     "text": [
      "782/782 [==============================] - 5s 6ms/step - loss: 0.3346 - accuracy: 0.8552\n"
     ]
    },
    {
     "data": {
      "text/plain": [
       "[0.3346216678619385, 0.8551999926567078]"
      ]
     },
     "execution_count": 67,
     "metadata": {},
     "output_type": "execute_result"
    }
   ],
   "source": [
    "model_2.evaluate(test_embdgs, test_labels)"
   ]
  },
  {
   "cell_type": "markdown",
   "id": "4511f662-faaf-47bf-b0ca-f4f029d17224",
   "metadata": {},
   "source": [
    "## Példa Keras kód CBOW beágyazás tanításához"
   ]
  },
  {
   "cell_type": "code",
   "execution_count": 68,
   "id": "a6da5e13-1e23-4c24-b87d-83cbf5b8d81b",
   "metadata": {},
   "outputs": [],
   "source": [
    "import keras.backend as K\n",
    "from keras.models import Sequential, Model\n",
    "from keras.layers import Dense, Embedding, Lambda, dot, Input, Reshape\n",
    "from IPython.display import SVG\n",
    "from keras.utils.vis_utils import model_to_dot"
   ]
  },
  {
   "cell_type": "code",
   "execution_count": 71,
   "id": "5f0badfe-104a-4016-909e-f21d2bd314b0",
   "metadata": {},
   "outputs": [
    {
     "name": "stdout",
     "output_type": "stream",
     "text": [
      "Model: \"sequential_4\"\n",
      "_________________________________________________________________\n",
      " Layer (type)                Output Shape              Param #   \n",
      "=================================================================\n",
      " embedding_2 (Embedding)     (None, 16, 200)           2000000   \n",
      "                                                                 \n",
      " lambda_2 (Lambda)           (None, 200)               0         \n",
      "                                                                 \n",
      " dense_7 (Dense)             (None, 10000)             2010000   \n",
      "                                                                 \n",
      "=================================================================\n",
      "Total params: 4,010,000\n",
      "Trainable params: 4,010,000\n",
      "Non-trainable params: 0\n",
      "_________________________________________________________________\n",
      "None\n"
     ]
    },
    {
     "data": {
      "image/svg+xml": [
       "<svg xmlns=\"http://www.w3.org/2000/svg\" xmlns:xlink=\"http://www.w3.org/1999/xlink\" width=\"477pt\" height=\"405pt\" viewBox=\"0.00 0.00 358.00 304.00\">\n",
       "<g id=\"graph0\" class=\"graph\" transform=\"scale(1.33 1.33) rotate(0) translate(4 300)\">\n",
       "<title>G</title>\n",
       "<polygon fill=\"white\" stroke=\"transparent\" points=\"-4,4 -4,-300 354,-300 354,4 -4,4\"/>\n",
       "<!-- 2977206519312 -->\n",
       "<g id=\"node1\" class=\"node\">\n",
       "<title>2977206519312</title>\n",
       "<polygon fill=\"none\" stroke=\"black\" points=\"0,-249.5 0,-295.5 350,-295.5 350,-249.5 0,-249.5\"/>\n",
       "<text text-anchor=\"middle\" x=\"62.5\" y=\"-280.3\" font-family=\"Times New Roman,serif\" font-size=\"14.00\">embedding_2_input</text>\n",
       "<polyline fill=\"none\" stroke=\"black\" points=\"0,-272.5 125,-272.5 \"/>\n",
       "<text text-anchor=\"middle\" x=\"62.5\" y=\"-257.3\" font-family=\"Times New Roman,serif\" font-size=\"14.00\">InputLayer</text>\n",
       "<polyline fill=\"none\" stroke=\"black\" points=\"125,-249.5 125,-295.5 \"/>\n",
       "<text text-anchor=\"middle\" x=\"152.5\" y=\"-280.3\" font-family=\"Times New Roman,serif\" font-size=\"14.00\">input:</text>\n",
       "<polyline fill=\"none\" stroke=\"black\" points=\"125,-272.5 180,-272.5 \"/>\n",
       "<text text-anchor=\"middle\" x=\"152.5\" y=\"-257.3\" font-family=\"Times New Roman,serif\" font-size=\"14.00\">output:</text>\n",
       "<polyline fill=\"none\" stroke=\"black\" points=\"180,-249.5 180,-295.5 \"/>\n",
       "<text text-anchor=\"middle\" x=\"222.5\" y=\"-268.8\" font-family=\"Times New Roman,serif\" font-size=\"14.00\">[(None, 16)]</text>\n",
       "<polyline fill=\"none\" stroke=\"black\" points=\"265,-249.5 265,-295.5 \"/>\n",
       "<text text-anchor=\"middle\" x=\"307.5\" y=\"-268.8\" font-family=\"Times New Roman,serif\" font-size=\"14.00\">[(None, 16)]</text>\n",
       "</g>\n",
       "<!-- 2977225020992 -->\n",
       "<g id=\"node2\" class=\"node\">\n",
       "<title>2977225020992</title>\n",
       "<polygon fill=\"none\" stroke=\"black\" points=\"12,-166.5 12,-212.5 338,-212.5 338,-166.5 12,-166.5\"/>\n",
       "<text text-anchor=\"middle\" x=\"57.5\" y=\"-197.3\" font-family=\"Times New Roman,serif\" font-size=\"14.00\">embedding_2</text>\n",
       "<polyline fill=\"none\" stroke=\"black\" points=\"12,-189.5 103,-189.5 \"/>\n",
       "<text text-anchor=\"middle\" x=\"57.5\" y=\"-174.3\" font-family=\"Times New Roman,serif\" font-size=\"14.00\">Embedding</text>\n",
       "<polyline fill=\"none\" stroke=\"black\" points=\"103,-166.5 103,-212.5 \"/>\n",
       "<text text-anchor=\"middle\" x=\"130.5\" y=\"-197.3\" font-family=\"Times New Roman,serif\" font-size=\"14.00\">input:</text>\n",
       "<polyline fill=\"none\" stroke=\"black\" points=\"103,-189.5 158,-189.5 \"/>\n",
       "<text text-anchor=\"middle\" x=\"130.5\" y=\"-174.3\" font-family=\"Times New Roman,serif\" font-size=\"14.00\">output:</text>\n",
       "<polyline fill=\"none\" stroke=\"black\" points=\"158,-166.5 158,-212.5 \"/>\n",
       "<text text-anchor=\"middle\" x=\"196\" y=\"-185.8\" font-family=\"Times New Roman,serif\" font-size=\"14.00\">(None, 16)</text>\n",
       "<polyline fill=\"none\" stroke=\"black\" points=\"234,-166.5 234,-212.5 \"/>\n",
       "<text text-anchor=\"middle\" x=\"286\" y=\"-185.8\" font-family=\"Times New Roman,serif\" font-size=\"14.00\">(None, 16, 200)</text>\n",
       "</g>\n",
       "<!-- 2977206519312&#45;&gt;2977225020992 -->\n",
       "<g id=\"edge1\" class=\"edge\">\n",
       "<title>2977206519312-&gt;2977225020992</title>\n",
       "<path fill=\"none\" stroke=\"black\" d=\"M175,-249.37C175,-241.15 175,-231.66 175,-222.73\"/>\n",
       "<polygon fill=\"black\" stroke=\"black\" points=\"178.5,-222.61 175,-212.61 171.5,-222.61 178.5,-222.61\"/>\n",
       "</g>\n",
       "<!-- 2977206854896 -->\n",
       "<g id=\"node3\" class=\"node\">\n",
       "<title>2977206854896</title>\n",
       "<polygon fill=\"none\" stroke=\"black\" points=\"18.5,-83.5 18.5,-129.5 331.5,-129.5 331.5,-83.5 18.5,-83.5\"/>\n",
       "<text text-anchor=\"middle\" x=\"54\" y=\"-114.3\" font-family=\"Times New Roman,serif\" font-size=\"14.00\">lambda_2</text>\n",
       "<polyline fill=\"none\" stroke=\"black\" points=\"18.5,-106.5 89.5,-106.5 \"/>\n",
       "<text text-anchor=\"middle\" x=\"54\" y=\"-91.3\" font-family=\"Times New Roman,serif\" font-size=\"14.00\">Lambda</text>\n",
       "<polyline fill=\"none\" stroke=\"black\" points=\"89.5,-83.5 89.5,-129.5 \"/>\n",
       "<text text-anchor=\"middle\" x=\"117\" y=\"-114.3\" font-family=\"Times New Roman,serif\" font-size=\"14.00\">input:</text>\n",
       "<polyline fill=\"none\" stroke=\"black\" points=\"89.5,-106.5 144.5,-106.5 \"/>\n",
       "<text text-anchor=\"middle\" x=\"117\" y=\"-91.3\" font-family=\"Times New Roman,serif\" font-size=\"14.00\">output:</text>\n",
       "<polyline fill=\"none\" stroke=\"black\" points=\"144.5,-83.5 144.5,-129.5 \"/>\n",
       "<text text-anchor=\"middle\" x=\"196.5\" y=\"-102.8\" font-family=\"Times New Roman,serif\" font-size=\"14.00\">(None, 16, 200)</text>\n",
       "<polyline fill=\"none\" stroke=\"black\" points=\"248.5,-83.5 248.5,-129.5 \"/>\n",
       "<text text-anchor=\"middle\" x=\"290\" y=\"-102.8\" font-family=\"Times New Roman,serif\" font-size=\"14.00\">(None, 200)</text>\n",
       "</g>\n",
       "<!-- 2977225020992&#45;&gt;2977206854896 -->\n",
       "<g id=\"edge2\" class=\"edge\">\n",
       "<title>2977225020992-&gt;2977206854896</title>\n",
       "<path fill=\"none\" stroke=\"black\" d=\"M175,-166.37C175,-158.15 175,-148.66 175,-139.73\"/>\n",
       "<polygon fill=\"black\" stroke=\"black\" points=\"178.5,-139.61 175,-129.61 171.5,-139.61 178.5,-139.61\"/>\n",
       "</g>\n",
       "<!-- 2977832037680 -->\n",
       "<g id=\"node4\" class=\"node\">\n",
       "<title>2977832037680</title>\n",
       "<polygon fill=\"none\" stroke=\"black\" points=\"27.5,-0.5 27.5,-46.5 322.5,-46.5 322.5,-0.5 27.5,-0.5\"/>\n",
       "<text text-anchor=\"middle\" x=\"58\" y=\"-31.3\" font-family=\"Times New Roman,serif\" font-size=\"14.00\">dense_7</text>\n",
       "<polyline fill=\"none\" stroke=\"black\" points=\"27.5,-23.5 88.5,-23.5 \"/>\n",
       "<text text-anchor=\"middle\" x=\"58\" y=\"-8.3\" font-family=\"Times New Roman,serif\" font-size=\"14.00\">Dense</text>\n",
       "<polyline fill=\"none\" stroke=\"black\" points=\"88.5,-0.5 88.5,-46.5 \"/>\n",
       "<text text-anchor=\"middle\" x=\"116\" y=\"-31.3\" font-family=\"Times New Roman,serif\" font-size=\"14.00\">input:</text>\n",
       "<polyline fill=\"none\" stroke=\"black\" points=\"88.5,-23.5 143.5,-23.5 \"/>\n",
       "<text text-anchor=\"middle\" x=\"116\" y=\"-8.3\" font-family=\"Times New Roman,serif\" font-size=\"14.00\">output:</text>\n",
       "<polyline fill=\"none\" stroke=\"black\" points=\"143.5,-0.5 143.5,-46.5 \"/>\n",
       "<text text-anchor=\"middle\" x=\"185\" y=\"-19.8\" font-family=\"Times New Roman,serif\" font-size=\"14.00\">(None, 200)</text>\n",
       "<polyline fill=\"none\" stroke=\"black\" points=\"226.5,-0.5 226.5,-46.5 \"/>\n",
       "<text text-anchor=\"middle\" x=\"274.5\" y=\"-19.8\" font-family=\"Times New Roman,serif\" font-size=\"14.00\">(None, 10000)</text>\n",
       "</g>\n",
       "<!-- 2977206854896&#45;&gt;2977832037680 -->\n",
       "<g id=\"edge3\" class=\"edge\">\n",
       "<title>2977206854896-&gt;2977832037680</title>\n",
       "<path fill=\"none\" stroke=\"black\" d=\"M175,-83.37C175,-75.15 175,-65.66 175,-56.73\"/>\n",
       "<polygon fill=\"black\" stroke=\"black\" points=\"178.5,-56.61 175,-46.61 171.5,-56.61 178.5,-56.61\"/>\n",
       "</g>\n",
       "</g>\n",
       "</svg>"
      ],
      "text/plain": [
       "<IPython.core.display.SVG object>"
      ]
     },
     "execution_count": 71,
     "metadata": {},
     "output_type": "execute_result"
    }
   ],
   "source": [
    "# example CBOW architecture in Keras\n",
    "\n",
    "vocab=np.zeros(10000)\n",
    "\n",
    "vocab_size=len(vocab)\n",
    "embed_size=200\n",
    "window_size=8\n",
    "\n",
    "cbow = Sequential()\n",
    "\n",
    "cbow.add(Embedding(input_dim=vocab_size, output_dim=embed_size, input_length=window_size*2))\n",
    "cbow.add(Lambda(lambda x: K.mean(x, axis=1), output_shape=(embed_size,)))\n",
    "cbow.add(Dense(vocab_size, activation='softmax'))\n",
    "\n",
    "cbow.compile(loss='categorical_crossentropy', optimizer='rmsprop')\n",
    "\n",
    "# view model summary\n",
    "print(cbow.summary())\n",
    "\n",
    "# visualize model structure\n",
    "\n",
    "SVG(model_to_dot(cbow, show_shapes=True, show_layer_names=True, \n",
    "                 rankdir='TB').create(prog='dot', format='svg'))"
   ]
  },
  {
   "cell_type": "code",
   "execution_count": null,
   "id": "012e31f9-f137-4f23-9765-86b04d52273b",
   "metadata": {},
   "outputs": [],
   "source": []
  },
  {
   "cell_type": "code",
   "execution_count": null,
   "id": "4c6d20a5-60af-4726-b872-6eadec56dd38",
   "metadata": {},
   "outputs": [],
   "source": []
  }
 ],
 "metadata": {
  "kernelspec": {
   "display_name": "Python 3 (ipykernel)",
   "language": "python",
   "name": "python3"
  },
  "language_info": {
   "codemirror_mode": {
    "name": "ipython",
    "version": 3
   },
   "file_extension": ".py",
   "mimetype": "text/x-python",
   "name": "python",
   "nbconvert_exporter": "python",
   "pygments_lexer": "ipython3",
   "version": "3.9.7"
  }
 },
 "nbformat": 4,
 "nbformat_minor": 5
}
