{
 "cells": [
  {
   "cell_type": "code",
   "execution_count": 1,
   "id": "16ff906f-c270-4453-99d9-3427cec26c8a",
   "metadata": {},
   "outputs": [],
   "source": [
    "#szükséges csomagok meghívása\n",
    "import spacy\n",
    "import spacy_conll\n",
    "import huspacy\n",
    "from spacy import displacy"
   ]
  },
  {
   "cell_type": "code",
   "execution_count": 2,
   "id": "0800d564-e590-41c6-9f98-a5af4ed2aa7d",
   "metadata": {},
   "outputs": [
    {
     "name": "stderr",
     "output_type": "stream",
     "text": [
      "D:\\Users\\t05cf\\anaconda3\\lib\\site-packages\\spacy\\util.py:837: UserWarning: [W095] Model 'hu_core_news_lg' (3.4.4) was trained with spaCy v3.4 and may not be 100% compatible with the current version (3.3.1). If you see errors or degraded performance, download a newer compatible model or retrain your custom model with the current spaCy version. For more details and available updates, run: python -m spacy validate\n",
      "  warnings.warn(warn_msg)\n"
     ]
    },
    {
     "data": {
      "text/plain": [
       "ConllFormatter(conversion_maps=None, ext_names={'conll_str': 'conll_str', 'conll': 'conll', 'conll_pd': 'conll_pd'}, include_headers=False, disable_pandas=False)"
      ]
     },
     "execution_count": 2,
     "metadata": {},
     "output_type": "execute_result"
    }
   ],
   "source": [
    "#nagy magyar nyelvi modell betöltése\n",
    "nlp = huspacy.load()\n",
    "#pipeline komponens létrehozása\n",
    "nlp.add_pipe(\"conll_formatter\", last=True)"
   ]
  },
  {
   "cell_type": "code",
   "execution_count": 3,
   "id": "dda8a1ef-7e42-4fc3-8f5f-6488b31a3225",
   "metadata": {},
   "outputs": [
    {
     "name": "stdout",
     "output_type": "stream",
     "text": [
      "Fazekas\n",
      "Zoltán\n",
      "Magyarországon\n",
      "vásárolta\n",
      "meg\n",
      "jó\n",
      "barátját\n",
      "Bellát\n",
      "a\n",
      "németjuhász\n",
      "kutyát\n",
      "a\n",
      "Kutyafarm\n",
      "Kft.től\n",
      ".\n"
     ]
    }
   ],
   "source": [
    "#a mondat felbontása tokenekké\n",
    "doc = nlp(\"Fazekas Zoltán Magyarországon vásárolta meg jó barátját Bellát a németjuhász kutyát a Kutyafarm Kft.től.\")\n",
    "for token in doc:\n",
    "    print(token.text)"
   ]
  },
  {
   "cell_type": "code",
   "execution_count": 4,
   "id": "ef127874-6f37-4fb4-935c-344f863f2940",
   "metadata": {},
   "outputs": [
    {
     "name": "stdout",
     "output_type": "stream",
     "text": [
      "Fazekas       Fazekas       True   False  False  0\n",
      "Zoltán        Zoltán        True   False  False  1\n",
      "MagyarországonMagyarországon True   False  False  2\n",
      "vásárolta     vásárolta     True   False  False  3\n",
      "meg           meg           True   False  False  4\n",
      "jó            jó            True   False  False  5\n",
      "barátját      barátját      True   False  False  6\n",
      "Bellát        Bellát        True   False  False  7\n",
      "a             a             True   False  False  8\n",
      "németjuhász   németjuhász   True   False  False  9\n",
      "kutyát        kutyát        True   False  False  10\n",
      "a             a             True   False  False  11\n",
      "Kutyafarm     Kutyafarm     True   False  False  12\n",
      "Kft.től       Kft.től       False  False  False  13\n",
      ".             .             False  False  False  14\n"
     ]
    }
   ],
   "source": [
    "#a token több, mint egy String és vannak tulajdonságai. \n",
    "#a token típusú osztály olyan, mint egy String, de több attribútuma van\n",
    "\n",
    "for token in doc:\n",
    "    print(\n",
    "        token.text\n",
    "        + (14 - len(token.text)) * \" \"\n",
    "        + token.text_with_ws\n",
    "        + (14 - len(token.text_with_ws)) * \" \"\n",
    "        + str(token.is_alpha)\n",
    "        + (7 - len(str(token.is_alpha))) * \" \"\n",
    "        + str(token.is_digit)\n",
    "        + (7 - len(str(token.is_digit))) * \" \"\n",
    "        + str(token.is_upper)\n",
    "        + (7 - len(str(token.is_upper))) * \" \"\n",
    "        + str(token.i)\n",
    "    )"
   ]
  },
  {
   "cell_type": "markdown",
   "id": "7f648a18-3338-4108-b5ef-23825b448725",
   "metadata": {
    "tags": []
   },
   "source": [
    "**Szabály alapú lemmatizáló** \n",
    "\n",
    "Véges állapotú automatákat építhetünk nyelvészeti szabályrendszer alapján, ami \"végig megy\" a token karakterein és így kerül meghatározásra a lemma (és a morfológiai címkék). Az SZTE-en fejlesztett magyarlánc például ezt a technikát alkalmazza. Neurális hálók esetében pedig tanítás során kreált szabályokkal osztályozunk, amiket tudunk alkalmazni a tokenünkre, hogy megkapjuk a lemmánkat. A HuSpaCy az utóbbi kategoriába sorolható, ami egy úgy nevezett edit tree lemmatizer-t tartalmaz."
   ]
  },
  {
   "cell_type": "markdown",
   "id": "bf46daf9-7013-4523-81b8-22014aa6ffd7",
   "metadata": {},
   "source": [
    "A példamondat átalakítom, hogy az egyes szavak a spaCy esetei legyenek. Majd a spaCy neurális hálón alapú lemmatizálóját használom a szavak szótári alakjának meghatározásához."
   ]
  },
  {
   "cell_type": "code",
   "execution_count": 5,
   "id": "201c8ac9-9605-4289-ab5a-908e465ed147",
   "metadata": {},
   "outputs": [],
   "source": [
    "def print_token_feautres(token):\n",
    "    print(\n",
    "        token.text\n",
    "        + (16 - len(token.text)) * \" \"\n",
    "        + token.lemma_\n",
    "        + (16 - len(token.lemma_)) * \" \"\n",
    "        + token.pos_\n",
    "        + (7 - len(token.pos_)) * \" \"\n",
    "        + token.tag_\n",
    "        + (7 - len(token.tag_)) * \" \"\n",
    "        + token.dep_\n",
    "        + (13 - len(token.dep_)) * \" \"\n",
    "        + token.shape_\n",
    "        + (7 - len(token.shape_)) * \" \"\n",
    "        + str(token.is_alpha)\n",
    "        + (7 - len(str(token.is_alpha))) * \" \"\n",
    "        + str(token.is_stop)\n",
    "    )"
   ]
  },
  {
   "cell_type": "code",
   "execution_count": 6,
   "id": "b303bb1c-8515-42be-a3c2-c69db589ae55",
   "metadata": {},
   "outputs": [
    {
     "name": "stdout",
     "output_type": "stream",
     "text": [
      "Tokenek:\n",
      "['Fazekas', 'Zoltán', 'Magyarországon', 'vásárolta', 'meg', 'jó', 'barátját', 'Bellát', 'a', 'németjuhász', 'kutyát', 'a', 'Kutyafarm', 'Kft.től', '.']\n",
      "\n",
      "\n",
      "Lemmák:\n",
      "['Fazekas', 'Zoltán', 'Magyarország', 'vásárol', 'meg', 'jó', 'barát', 'Bella', 'a', 'németjuhász', 'kutya', 'a', 'Kutyafarm', 'Kft.től', '.']\n",
      "\n",
      "\n",
      "POS tagek:\n",
      "Fazekas         Fazekas         PROPN  PROPN  nsubj        Xxxxx  True   False\n",
      "Zoltán          Zoltán          PROPN  PROPN  flat:name    Xxxxx  True   False\n",
      "Magyarországon  Magyarország    PROPN  PROPN  obl          Xxxxx  True   False\n",
      "vásárolta       vásárol         VERB   VERB   ROOT         xxxx   True   False\n",
      "meg             meg             PART   PART   compound:preverbxxx    True   True\n",
      "jó              jó              ADJ    ADJ    amod:att     xx     True   True\n",
      "barátját        barát           NOUN   NOUN   obj          xxxx   True   False\n",
      "Bellát          Bella           PROPN  PROPN  obj          Xxxxx  True   False\n",
      "a               a               DET    DET    det          x      True   True\n",
      "németjuhász     németjuhász     ADJ    ADJ    amod:att     xxxx   True   False\n",
      "kutyát          kutya           NOUN   NOUN   obj          xxxx   True   False\n",
      "a               a               DET    DET    det          x      True   True\n",
      "Kutyafarm       Kutyafarm       PROPN  PROPN  obl          Xxxxx  True   False\n",
      "Kft.től         Kft.től         PROPN  PROPN  flat:name    Xxx.xxxFalse  False\n",
      ".               .               PUNCT  PUNCT  punct        .      False  False\n"
     ]
    }
   ],
   "source": [
    "# tokenizálás\n",
    "print(\"Tokenek:\")\n",
    "print([token.text for token in doc])\n",
    "\n",
    "# lemmatizálás\n",
    "print(\"\\n\\nLemmák:\")\n",
    "print([token.lemma_ for token in doc])\n",
    "\n",
    "# POS tagging\n",
    "print(\"\\n\\nPOS tagek:\")\n",
    "for token in doc:\n",
    "    print_token_feautres(token)"
   ]
  },
  {
   "cell_type": "markdown",
   "id": "c678d3af-7265-4863-902a-a8b3453f74d1",
   "metadata": {},
   "source": [
    "Tudjuk, hogy a lemma keresése függ annak szófajától is, ezért nézzük meg az egyes szavaink szófaját is. Vegyük figyelembe, hogy a szavak önállóan állnak, kontextus nélkül, így a szófaji meghatározás sok esetben pontatlan lehet."
   ]
  },
  {
   "cell_type": "markdown",
   "id": "3fb0e1e2-0d5f-4d52-aa4b-ed6e0e12e430",
   "metadata": {},
   "source": [
    "A morfológia a nyelvészet azon ága, amely a szavak belső szerkezetét vizsgálja. A magyar nyelv alapvetően egy agglutináló nyelv, ami azt jelenti, hogy a szavaknak a szótövéhez végződések tartozhatnak, illetve akár előtag is társulhat egy adott szóhoz. A magyarban ezek a toldalékok fejezik ki a mondat szavainak egymáshoz való viszonyát, ellentétben például az angollal, ahol ezeket főként különálló, funkciószavak írják le. Az angolban így a magyarhoz képest nagyon kevés toldalalék létezik és azokat le lehet kezelni pár egyszerű szabállyal. Éppen ezért lesz nehezebb a magyar nyelvre egy morfológia elemzést végrehajtani, mert egy egyszerű előtag vagy toldalalék képes megváltoztatni a szó szerkezetét, jelentését.**POS magyarázat:**\n",
    "\n",
    "* ADJ: melléknév\n",
    "*ADP: adpozíció\n",
    "*ADV: határozószó\n",
    "*AUX: segéd\n",
    "*CCONJ: koordináló konjunkció\n",
    "*DET: meghatározó\n",
    "*INTJ: közbeszólás\n",
    "*FŐNÉV: főnév\n",
    "*NUM: szám\n",
    "*RÉSZ: részecske\n",
    "*PRON: névmás\n",
    "*PROPN: tulajdonnév\n",
    "*PUNCT: írásjelek\n",
    "*SCONJ: alárendelő kötőszó\n",
    "*SYM: szimbólum\n",
    "*IGE: ige\n",
    "*X: egyéb\n"
   ]
  },
  {
   "cell_type": "markdown",
   "id": "c9516124-ed42-45df-a33d-49a4d2716fd0",
   "metadata": {},
   "source": [
    "**Az oszlopok jelentése:**\n",
    "* az eredeti szó a szövegben\n",
    "*a szó alapalakja\n",
    "*POS egyszerű címke\n",
    "*címke, a részletes beszédrész címkéje\n",
    "*szintaktikai függőség, azaz a tokenek közti kapcsolat\n",
    "*a szó alakja - nagybetű, kisbetű, számjegy\n",
    "*a token alfa karakter?\n",
    "*a token egy stoplista része, a nyelv leggyakoribb szava?\n"
   ]
  },
  {
   "cell_type": "markdown",
   "id": "93f4770d-e139-4893-92d1-e1a46e3302ba",
   "metadata": {},
   "source": [
    "A morfológia a nyelvészet azon ága, amely a szavak belső szerkezetét vizsgálja. A magyar nyelv alapvetően egy agglutináló nyelv, ami azt jelenti, hogy a szavaknak a szótövéhez végződések tartozhatnak, illetve akár előtag is társulhat egy adott szóhoz. A magyarban ezek a toldalékok fejezik ki a mondat szavainak egymáshoz való viszonyát, ellentétben például az angollal, ahol ezeket főként különálló, funkciószavak írják le. Az angolban így a magyarhoz képest nagyon kevés toldalalék létezik és azokat le lehet kezelni pár egyszerű szabállyal. Éppen ezért lesz nehezebb a magyar nyelvre egy morfológia elemzést végrehajtani, mert egy egyszerű előtag vagy toldalalék képes megváltoztatni a szó szerkezetét, jelentését."
   ]
  },
  {
   "cell_type": "code",
   "execution_count": 7,
   "id": "e34a4f59-d6ee-4aa9-82be-dab480e181a0",
   "metadata": {},
   "outputs": [
    {
     "name": "stdout",
     "output_type": "stream",
     "text": [
      "Fazekas -> Case=Nom|Number=Sing\n",
      "Zoltán -> Case=Nom|Number=Sing\n",
      "Magyarországon -> Case=Sup|Number=Sing\n",
      "vásárolta -> Definite=Def|Mood=Ind|Number=Sing|Person=3|Tense=Past|VerbForm=Fin|Voice=Act\n",
      "meg -> \n",
      "jó -> Case=Nom|Degree=Pos|Number=Sing\n",
      "barátját -> Case=Acc|Number=Sing|Number[psor]=Sing|Person[psor]=3\n",
      "Bellát -> Case=Acc|Number=Sing\n",
      "a -> Definite=Def|PronType=Art\n",
      "németjuhász -> Case=Nom|Degree=Pos|Number=Sing\n",
      "kutyát -> Case=Acc|Number=Sing\n",
      "a -> Definite=Def|PronType=Art\n",
      "Kutyafarm -> Case=Nom|Number=Sing\n",
      "Kft.től -> Case=Abl|Number=Sing\n",
      ". -> \n"
     ]
    }
   ],
   "source": [
    "for word in doc:\n",
    "  print('{} -> {}'.format(word.text, word.morph))"
   ]
  },
  {
   "cell_type": "code",
   "execution_count": null,
   "id": "43b0aa40-11bb-4017-8304-4814c632f853",
   "metadata": {},
   "outputs": [
    {
     "name": "stderr",
     "output_type": "stream",
     "text": [
      "D:\\Users\\t05cf\\anaconda3\\lib\\site-packages\\spacy\\displacy\\__init__.py:103: UserWarning: [W011] It looks like you're calling displacy.serve from within a Jupyter notebook or a similar environment. This likely means you're already running a local web server, so there's no need to make displaCy start another one. Instead, you should be able to replace displacy.serve with displacy.render to show the visualization.\n",
      "  warnings.warn(Warnings.W011)\n"
     ]
    },
    {
     "data": {
      "text/html": [
       "<span class=\"tex2jax_ignore\"><!DOCTYPE html>\n",
       "<html lang=\"hu\">\n",
       "    <head>\n",
       "        <title>displaCy</title>\n",
       "    </head>\n",
       "\n",
       "    <body style=\"font-size: 16px; font-family: -apple-system, BlinkMacSystemFont, 'Segoe UI', Helvetica, Arial, sans-serif, 'Apple Color Emoji', 'Segoe UI Emoji', 'Segoe UI Symbol'; padding: 4rem 2rem; direction: ltr\">\n",
       "<figure style=\"margin-bottom: 6rem\">\n",
       "<div class=\"entities\" style=\"line-height: 2.5; direction: ltr\">\n",
       "<mark class=\"entity\" style=\"background: #ddd; padding: 0.45em 0.6em; margin: 0 0.25em; line-height: 1; border-radius: 0.35em;\">\n",
       "    Fazekas Zoltán\n",
       "    <span style=\"font-size: 0.8em; font-weight: bold; line-height: 1; border-radius: 0.35em; vertical-align: middle; margin-left: 0.5rem\">PER</span>\n",
       "</mark>\n",
       " \n",
       "<mark class=\"entity\" style=\"background: #ff9561; padding: 0.45em 0.6em; margin: 0 0.25em; line-height: 1; border-radius: 0.35em;\">\n",
       "    Magyarországon\n",
       "    <span style=\"font-size: 0.8em; font-weight: bold; line-height: 1; border-radius: 0.35em; vertical-align: middle; margin-left: 0.5rem\">LOC</span>\n",
       "</mark>\n",
       " vásárolta meg jó barátját \n",
       "<mark class=\"entity\" style=\"background: #ddd; padding: 0.45em 0.6em; margin: 0 0.25em; line-height: 1; border-radius: 0.35em;\">\n",
       "    Bellát\n",
       "    <span style=\"font-size: 0.8em; font-weight: bold; line-height: 1; border-radius: 0.35em; vertical-align: middle; margin-left: 0.5rem\">PER</span>\n",
       "</mark>\n",
       " a németjuhász kutyát a \n",
       "<mark class=\"entity\" style=\"background: #7aecec; padding: 0.45em 0.6em; margin: 0 0.25em; line-height: 1; border-radius: 0.35em;\">\n",
       "    Kutyafarm Kft.től\n",
       "    <span style=\"font-size: 0.8em; font-weight: bold; line-height: 1; border-radius: 0.35em; vertical-align: middle; margin-left: 0.5rem\">ORG</span>\n",
       "</mark>\n",
       ".</div>\n",
       "</figure>\n",
       "</body>\n",
       "</html></span>"
      ],
      "text/plain": [
       "<IPython.core.display.HTML object>"
      ]
     },
     "metadata": {},
     "output_type": "display_data"
    },
    {
     "name": "stdout",
     "output_type": "stream",
     "text": [
      "\n",
      "Using the 'ent' visualizer\n",
      "Serving on http://0.0.0.0:5000 ...\n",
      "\n"
     ]
    }
   ],
   "source": [
    "#megjelenítés\n",
    "options = {\"compact\": True, \"bg\": \"#09a3d5\",\n",
    "           \"color\": \"white\", \"font\": \"Source Sans Pro\"}\n",
    "sentence_spans = list(doc.sents)\n",
    "#displacy.serve(sentence_spans, style=\"dep\")\n",
    "#displacy.serve(doc, style=\"dep\")\n",
    "displacy.serve(doc, style=\"ent\")"
   ]
  },
  {
   "cell_type": "code",
   "execution_count": null,
   "id": "9b349672-aae7-489e-91b5-615e9b2dfd07",
   "metadata": {},
   "outputs": [],
   "source": []
  }
 ],
 "metadata": {
  "kernelspec": {
   "display_name": "Python 3 (ipykernel)",
   "language": "python",
   "name": "python3"
  },
  "language_info": {
   "codemirror_mode": {
    "name": "ipython",
    "version": 3
   },
   "file_extension": ".py",
   "mimetype": "text/x-python",
   "name": "python",
   "nbconvert_exporter": "python",
   "pygments_lexer": "ipython3",
   "version": "3.9.7"
  }
 },
 "nbformat": 4,
 "nbformat_minor": 5
}
